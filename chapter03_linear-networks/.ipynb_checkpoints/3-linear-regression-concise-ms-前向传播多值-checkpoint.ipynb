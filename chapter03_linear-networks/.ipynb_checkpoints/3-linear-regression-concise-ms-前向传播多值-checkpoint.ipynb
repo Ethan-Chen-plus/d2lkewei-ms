{
 "cells": [
  {
   "cell_type": "markdown",
   "id": "a219a949",
   "metadata": {
    "origin_pos": 0
   },
   "source": [
    "# 线性回归的简洁实现\n",
    ":label:`sec_linear_concise`\n",
    "\n",
    "在过去的几年里，出于对深度学习强烈的兴趣，\n",
    "许多公司、学者和业余爱好者开发了各种成熟的开源框架。\n",
    "这些框架可以自动化基于梯度的学习算法中重复性的工作。\n",
    "在 :numref:`sec_linear_scratch`中，我们只运用了：\n",
    "（1）通过张量来进行数据存储和线性代数；\n",
    "（2）通过自动微分来计算梯度。\n",
    "实际上，由于数据迭代器、损失函数、优化器和神经网络层很常用，\n",
    "现代深度学习库也为我们实现了这些组件。\n",
    "\n",
    "本节将介绍如何(**通过使用深度学习框架来简洁地实现**)\n",
    " :numref:`sec_linear_scratch`中的(**线性回归模型**)。\n",
    "\n",
    "## 生成数据集\n",
    "\n",
    "与 :numref:`sec_linear_scratch`中类似，我们首先[**生成数据集**]。\n"
   ]
  },
  {
   "cell_type": "code",
   "execution_count": 1,
   "id": "c4742dda",
   "metadata": {
    "origin_pos": 2,
    "tab": [
     "pytorch"
    ],
    "tags": []
   },
   "outputs": [],
   "source": [
    "import numpy as np\n",
    "from d2lkewei import mindspore as d2l\n",
    "from mindspore import dataset as ds\n",
    "import mindspore as ms\n",
    "from mindspore import ops"
   ]
  },
  {
   "cell_type": "code",
   "execution_count": 2,
   "id": "492c9787",
   "metadata": {
    "origin_pos": 5,
    "tab": [
     "pytorch"
    ],
    "tags": []
   },
   "outputs": [],
   "source": [
    "true_w = ms.Tensor([2, -3.4])\n",
    "true_b = 4.2\n",
    "features, labels = d2l.synthetic_data(true_w, true_b, 1000)"
   ]
  },
  {
   "cell_type": "markdown",
   "id": "20b0ad00",
   "metadata": {
    "origin_pos": 6
   },
   "source": [
    "## 读取数据集\n",
    "\n",
    "我们可以[**调用框架中现有的API来读取数据**]。\n",
    "我们将`features`和`labels`作为API的参数传递，并通过数据迭代器指定`batch_size`。\n",
    "此外，布尔值`is_train`表示是否希望数据迭代器对象在每个迭代周期内打乱数据。\n"
   ]
  },
  {
   "cell_type": "code",
   "execution_count": 3,
   "id": "6428d97f",
   "metadata": {
    "origin_pos": 8,
    "tab": [
     "pytorch"
    ],
    "tags": []
   },
   "outputs": [],
   "source": [
    "def load_array(data_arrays, batch_size, is_train=True):  #@save\n",
    "    \"\"\"构造一个PyTorch数据迭代器\"\"\"\n",
    "    dataset = ds.NumpySlicesDataset(data_arrays, column_names=[\"features\", \"labels\"], shuffle=is_train).batch(batch_size)\n",
    "    return dataset"
   ]
  },
  {
   "cell_type": "code",
   "execution_count": 4,
   "id": "876ac65c-07fa-4c8a-8428-2a21a3c39bdf",
   "metadata": {},
   "outputs": [
    {
     "data": {
      "text/plain": [
       "Tensor(shape=[1000, 2], dtype=Float32, value=\n",
       "[[ 1.44126487e+00,  1.39239997e-01],\n",
       " [-1.07204568e+00, -1.71232903e+00],\n",
       " [-9.93254304e-01,  5.14612854e-01],\n",
       " ...\n",
       " [-8.03958178e-01, -4.56489623e-01],\n",
       " [ 1.36661720e+00, -1.21897474e-01],\n",
       " [-1.20961058e+00,  4.03585494e-01]])"
      ]
     },
     "execution_count": 4,
     "metadata": {},
     "output_type": "execute_result"
    }
   ],
   "source": [
    "features"
   ]
  },
  {
   "cell_type": "code",
   "execution_count": 5,
   "id": "8ebfd796",
   "metadata": {
    "origin_pos": 11,
    "tab": [
     "pytorch"
    ],
    "tags": []
   },
   "outputs": [],
   "source": [
    "batch_size = 10\n",
    "data_iter = load_array((features.asnumpy(), labels.asnumpy()), batch_size)"
   ]
  },
  {
   "cell_type": "markdown",
   "id": "6e72f0fc",
   "metadata": {
    "origin_pos": 12
   },
   "source": [
    "使用`data_iter`的方式与我们在 :numref:`sec_linear_scratch`中使用`data_iter`函数的方式相同。为了验证是否正常工作，让我们读取并打印第一个小批量样本。\n",
    "与 :numref:`sec_linear_scratch`不同，这里我们使用`iter`构造Python迭代器，并使用`next`从迭代器中获取第一项。\n"
   ]
  },
  {
   "cell_type": "code",
   "execution_count": 6,
   "id": "c385b021",
   "metadata": {
    "origin_pos": 13,
    "tab": [
     "pytorch"
    ],
    "tags": []
   },
   "outputs": [
    {
     "data": {
      "text/plain": [
       "[Tensor(shape=[10, 2], dtype=Float32, value=\n",
       " [[-1.96927339e-01, -6.52855098e-01],\n",
       "  [ 1.12011969e+00, -7.39644408e-01],\n",
       "  [ 1.16799283e+00,  3.67534935e-01],\n",
       "  ...\n",
       "  [ 9.76163149e-02, -3.85668755e-01],\n",
       "  [ 6.34276688e-01, -7.55968988e-01],\n",
       "  [ 3.48670274e-01,  4.13387090e-01]]),\n",
       " Tensor(shape=[10, 1], dtype=Float32, value=\n",
       " [[ 6.04659796e+00],\n",
       "  [ 8.94650555e+00],\n",
       "  [ 5.28166819e+00],\n",
       "  ...\n",
       "  [ 5.70243645e+00],\n",
       "  [ 8.04694653e+00],\n",
       "  [ 3.48974872e+00]])]"
      ]
     },
     "execution_count": 6,
     "metadata": {},
     "output_type": "execute_result"
    }
   ],
   "source": [
    "next(iter(data_iter))"
   ]
  },
  {
   "cell_type": "markdown",
   "id": "be373f37",
   "metadata": {
    "origin_pos": 14
   },
   "source": [
    "## 定义模型\n",
    "\n",
    "当我们在 :numref:`sec_linear_scratch`中实现线性回归时，\n",
    "我们明确定义了模型参数变量，并编写了计算的代码，这样通过基本的线性代数运算得到输出。\n",
    "但是，如果模型变得更加复杂，且当我们几乎每天都需要实现模型时，自然会想简化这个过程。\n",
    "这种情况类似于为自己的博客从零开始编写网页。\n",
    "做一两次是有益的，但如果每个新博客就需要工程师花一个月的时间重新开始编写网页，那并不高效。\n",
    "\n",
    "对于标准深度学习模型，我们可以[**使用框架的预定义好的层**]。这使我们只需关注使用哪些层来构造模型，而不必关注层的实现细节。\n",
    "我们首先定义一个模型变量`net`，它是一个`Sequential`类的实例。\n",
    "`Sequential`类将多个层串联在一起。\n",
    "当给定输入数据时，`Sequential`实例将数据传入到第一层，\n",
    "然后将第一层的输出作为第二层的输入，以此类推。\n",
    "在下面的例子中，我们的模型只包含一个层，因此实际上不需要`Sequential`。\n",
    "但是由于以后几乎所有的模型都是多层的，在这里使用`Sequential`会让你熟悉“标准的流水线”。\n",
    "\n",
    "回顾 :numref:`fig_single_neuron`中的单层网络架构，\n",
    "这一单层被称为*全连接层*（fully-connected layer），\n",
    "因为它的每一个输入都通过矩阵-向量乘法得到它的每个输出。\n"
   ]
  },
  {
   "cell_type": "markdown",
   "id": "2f546375",
   "metadata": {
    "origin_pos": 16,
    "tab": [
     "pytorch"
    ]
   },
   "source": [
    "在PyTorch中，全连接层在`Linear`类中定义。\n",
    "值得注意的是，我们将两个参数传递到`nn.Linear`中。\n",
    "在MindSpore中，全连接层在`Dense`类中定义。\n",
    "值得注意的是，我们将两个参数传递到`nn.Dense`中。\n",
    "第一个指定输入特征形状，即2，第二个指定输出特征形状，输出特征形状为单个标量，因此为1。\n"
   ]
  },
  {
   "cell_type": "code",
   "execution_count": 7,
   "id": "13342bcf",
   "metadata": {
    "origin_pos": 20,
    "tab": [
     "pytorch"
    ],
    "tags": []
   },
   "outputs": [],
   "source": [
    "# nn是神经网络的缩写\n",
    "from mindspore import nn\n",
    "\n",
    "net = nn.SequentialCell(nn.Dense(2, 1))"
   ]
  },
  {
   "cell_type": "markdown",
   "id": "9d32a0e4",
   "metadata": {
    "origin_pos": 23
   },
   "source": [
    "## (**初始化模型参数**)\n",
    "\n",
    "在使用`net`之前，我们需要初始化模型参数。\n",
    "如在线性回归模型中的权重和偏置。\n",
    "深度学习框架通常有预定义的方法来初始化参数。\n",
    "在这里，我们指定每个权重参数应该从均值为0、标准差为0.01的正态分布中随机采样，\n",
    "偏置参数将初始化为零。\n"
   ]
  },
  {
   "cell_type": "markdown",
   "id": "33702b45",
   "metadata": {
    "origin_pos": 25,
    "tab": [
     "pytorch"
    ]
   },
   "source": [
    "正如我们在构造`nn.Linear`时指定输入和输出尺寸一样，\n",
    "现在我们能直接访问参数以设定它们的初始值。\n",
    "我们通过`net[0]`选择网络中的第一个图层，\n",
    "然后使用`weight.data`和`bias.data`方法访问参数。\n",
    "我们还可以使用替换方法`fill`来重写参数值。\n"
   ]
  },
  {
   "cell_type": "code",
   "execution_count": 8,
   "id": "dc220e96-7677-439b-bbee-991b7b6557ad",
   "metadata": {},
   "outputs": [
    {
     "data": {
      "text/plain": [
       "Parameter (name=0.weight, shape=(1, 2), dtype=Float32, requires_grad=True)"
      ]
     },
     "execution_count": 8,
     "metadata": {},
     "output_type": "execute_result"
    }
   ],
   "source": [
    "net[0].weight.data"
   ]
  },
  {
   "cell_type": "code",
   "execution_count": 9,
   "id": "1a90b543-30fb-444e-9211-4b1674c73f67",
   "metadata": {},
   "outputs": [
    {
     "data": {
      "text/plain": [
       "Parameter (name=0.bias, shape=(1,), dtype=Float32, requires_grad=True)"
      ]
     },
     "execution_count": 9,
     "metadata": {},
     "output_type": "execute_result"
    }
   ],
   "source": [
    "net[0].bias.data"
   ]
  },
  {
   "cell_type": "code",
   "execution_count": 10,
   "id": "400cab86-d431-4249-b1c6-e971009b044e",
   "metadata": {},
   "outputs": [
    {
     "data": {
      "text/plain": [
       "Tensor(shape=[1, 2], dtype=Float32, value=\n",
       "[[ 7.72549445e-03,  7.72549445e-03]])"
      ]
     },
     "execution_count": 10,
     "metadata": {},
     "output_type": "execute_result"
    }
   ],
   "source": [
    "net[0].weight.data.fill(np.random.normal(0, 0.01))"
   ]
  },
  {
   "cell_type": "code",
   "execution_count": 11,
   "id": "aeb1e0e0-955c-4446-872d-e616c2ff8e70",
   "metadata": {},
   "outputs": [
    {
     "data": {
      "text/plain": [
       "Tensor(shape=[1], dtype=Float32, value= [ 0.00000000e+00])"
      ]
     },
     "execution_count": 11,
     "metadata": {},
     "output_type": "execute_result"
    }
   ],
   "source": [
    "net[0].bias.data.fill(0)"
   ]
  },
  {
   "cell_type": "markdown",
   "id": "fe839cb7",
   "metadata": {
    "origin_pos": 33,
    "tab": [
     "pytorch"
    ]
   },
   "source": [
    "\n"
   ]
  },
  {
   "cell_type": "markdown",
   "id": "6e6949bd",
   "metadata": {
    "origin_pos": 35
   },
   "source": [
    "## 定义损失函数\n"
   ]
  },
  {
   "cell_type": "markdown",
   "id": "40289a78",
   "metadata": {
    "origin_pos": 37,
    "tab": [
     "pytorch"
    ]
   },
   "source": [
    "[**计算均方误差使用的是`MSELoss`类，也称为平方$L_2$范数**]。\n",
    "默认情况下，它返回所有样本损失的平均值。\n"
   ]
  },
  {
   "cell_type": "code",
   "execution_count": 12,
   "id": "dae1e123",
   "metadata": {
    "origin_pos": 41,
    "tab": [
     "pytorch"
    ],
    "tags": []
   },
   "outputs": [],
   "source": [
    "loss_fn = ops.huber_loss"
   ]
  },
  {
   "cell_type": "code",
   "execution_count": 13,
   "id": "1a6e7df7-e3d5-4af8-965f-00eeb45f9c7b",
   "metadata": {},
   "outputs": [],
   "source": [
    "loss_fn = ops.mse_loss"
   ]
  },
  {
   "cell_type": "markdown",
   "id": "7e6e941e",
   "metadata": {
    "origin_pos": 44
   },
   "source": [
    "## 定义优化算法\n"
   ]
  },
  {
   "cell_type": "markdown",
   "id": "22d47c58",
   "metadata": {
    "origin_pos": 46,
    "tab": [
     "pytorch"
    ]
   },
   "source": [
    "小批量随机梯度下降算法是一种优化神经网络的标准工具，\n",
    "PyTorch在`optim`模块中实现了该算法的许多变种。\n",
    "当我们(**实例化一个`SGD`实例**)时，我们要指定优化的参数\n",
    "（可通过`net.parameters()`从我们的模型中获得）以及优化算法所需的超参数字典。\n",
    "小批量随机梯度下降只需要设置`lr`值，这里设置为0.03。\n"
   ]
  },
  {
   "cell_type": "code",
   "execution_count": 14,
   "id": "7e63bb44",
   "metadata": {
    "origin_pos": 50,
    "tab": [
     "pytorch"
    ],
    "tags": []
   },
   "outputs": [],
   "source": [
    "trainer = nn.SGD(net.trainable_params(), learning_rate=0.03)"
   ]
  },
  {
   "cell_type": "markdown",
   "id": "8cc63069",
   "metadata": {
    "origin_pos": 53
   },
   "source": [
    "## 训练\n",
    "\n",
    "通过深度学习框架的高级API来实现我们的模型只需要相对较少的代码。\n",
    "我们不必单独分配参数、不必定义我们的损失函数，也不必手动实现小批量随机梯度下降。\n",
    "当我们需要更复杂的模型时，高级API的优势将大大增加。\n",
    "当我们有了所有的基本组件，[**训练过程代码与我们从零开始实现时所做的非常相似**]。\n",
    "\n",
    "回顾一下：在每个迭代周期里，我们将完整遍历一次数据集（`train_data`），\n",
    "不停地从中获取一个小批量的输入和相应的标签。\n",
    "对于每一个小批量，我们会进行以下步骤:\n",
    "\n",
    "* 通过调用`net(X)`生成预测并计算损失`l`（前向传播）。\n",
    "* 通过进行反向传播来计算梯度。\n",
    "* 通过调用优化器来更新模型参数。\n",
    "\n",
    "为了更好的衡量训练效果，我们计算每个迭代周期后的损失，并打印它来监控训练过程。\n"
   ]
  },
  {
   "cell_type": "markdown",
   "id": "21e2ecac-ca8f-41d6-9e08-4c7c21258168",
   "metadata": {},
   "source": [
    "forward_fn不能设置两个返回值"
   ]
  },
  {
   "cell_type": "code",
   "execution_count": 16,
   "id": "c0797565-618f-499d-a075-7e5f322fd37a",
   "metadata": {},
   "outputs": [],
   "source": [
    "def forward_fn(inputs, targets):\n",
    "    logits = net(inputs)\n",
    "    loss = loss_fn(logits, targets)\n",
    "    return logits, loss"
   ]
  },
  {
   "cell_type": "code",
   "execution_count": 26,
   "id": "06ec4069-f271-49eb-8c53-62979ae90c36",
   "metadata": {},
   "outputs": [],
   "source": [
    "# grad_fn = ms.value_and_grad(forward_fn, grad_position = None, weights = trainer.parameters)"
   ]
  },
  {
   "cell_type": "code",
   "execution_count": 22,
   "id": "0311de0e-d74e-4c3e-b657-0a924e3d2548",
   "metadata": {},
   "outputs": [],
   "source": [
    "# # grad_fn = ms.value_and_grad(net, None, trainer.parameters, has_aux=True)\n",
    "# def train_step(data, label):\n",
    "#     (loss, _), grads = grad_fn(data, label)\n",
    "#     trainer(grads)\n",
    "#     return loss"
   ]
  },
  {
   "cell_type": "code",
   "execution_count": 21,
   "id": "72385a32-21f2-452b-8fac-a09dab11d3a3",
   "metadata": {},
   "outputs": [
    {
     "name": "stdout",
     "output_type": "stream",
     "text": [
      "epoch 1, loss 25.014410\n",
      "epoch 2, loss 25.028687\n",
      "epoch 3, loss 25.017469\n"
     ]
    }
   ],
   "source": [
    "num_epochs = 3\n",
    "for epoch in range(num_epochs):\n",
    "    for X, y in data_iter:\n",
    "        grad_fn = ms.value_and_grad(forward_fn, grad_position=None, weights=trainer.parameters)\n",
    "        l, grads = grad_fn(X, y)\n",
    "        trainer(grads)\n",
    "    l, _ = forward_fn(X, y)\n",
    "    print(f'epoch {epoch + 1}, loss {l.asnumpy():f}')"
   ]
  },
  {
   "cell_type": "code",
   "execution_count": 27,
   "id": "b541c301-a259-4900-b932-4d1fadb5c5a7",
   "metadata": {},
   "outputs": [],
   "source": [
    "def forward_fn(inputs, targets):\n",
    "    logits = net(inputs)\n",
    "    loss = loss_fn(logits, targets)\n",
    "    return loss, logits"
   ]
  },
  {
   "cell_type": "code",
   "execution_count": 28,
   "id": "8d7e0ff1-53f0-43d6-b044-35d060ba7af6",
   "metadata": {},
   "outputs": [
    {
     "name": "stdout",
     "output_type": "stream",
     "text": [
      "epoch 1, loss 24.994358\n",
      "epoch 2, loss 24.985123\n",
      "epoch 3, loss 25.046415\n"
     ]
    }
   ],
   "source": [
    "num_epochs = 3\n",
    "for epoch in range(num_epochs):\n",
    "    for X, y in data_iter:\n",
    "        grad_fn = ms.value_and_grad(forward_fn, grad_position=None, weights=trainer.parameters)\n",
    "        l, grads = grad_fn(X, y)\n",
    "        trainer(grads)\n",
    "    l, _ = forward_fn(X, y)\n",
    "    print(f'epoch {epoch + 1}, loss {l.asnumpy():f}')"
   ]
  },
  {
   "cell_type": "code",
   "execution_count": 29,
   "id": "c3d67945-1608-4575-bfd1-6139e6e0a698",
   "metadata": {},
   "outputs": [],
   "source": [
    "def forward_fn(inputs, targets):\n",
    "    logits = net(inputs)\n",
    "    loss = loss_fn(logits, targets)\n",
    "    return loss"
   ]
  },
  {
   "cell_type": "code",
   "execution_count": 31,
   "id": "8dfe77a1-4e28-4531-a10c-306277cb21a0",
   "metadata": {},
   "outputs": [
    {
     "name": "stdout",
     "output_type": "stream",
     "text": [
      "epoch 1, loss 0.000110\n",
      "epoch 2, loss 0.000111\n",
      "epoch 3, loss 0.000070\n"
     ]
    }
   ],
   "source": [
    "num_epochs = 3\n",
    "for epoch in range(num_epochs):\n",
    "    for X, y in data_iter:\n",
    "        grad_fn = ms.value_and_grad(forward_fn, grad_position=None, weights=trainer.parameters)\n",
    "        l, grads = grad_fn(X, y)\n",
    "        trainer(grads)\n",
    "    l = forward_fn(X, y)\n",
    "    print(f'epoch {epoch + 1}, loss {l.asnumpy():f}')"
   ]
  },
  {
   "cell_type": "code",
   "execution_count": 27,
   "id": "7c7e7f97",
   "metadata": {
    "origin_pos": 55,
    "tab": [
     "pytorch"
    ],
    "tags": []
   },
   "outputs": [],
   "source": [
    "# num_epochs = 3\n",
    "# for epoch in range(num_epochs):\n",
    "#     for X, y in data_iter:\n",
    "#         # print(X,y)\n",
    "#         l = train_step(data=X,label=y)\n",
    "#     print(f'epoch {epoch + 1}, loss {l:f}')"
   ]
  },
  {
   "cell_type": "markdown",
   "id": "3eb6fef7",
   "metadata": {
    "origin_pos": 58
   },
   "source": [
    "下面我们[**比较生成数据集的真实参数和通过有限数据训练获得的模型参数**]。\n",
    "要访问参数，我们首先从`net`访问所需的层，然后读取该层的权重和偏置。\n",
    "正如在从零开始实现中一样，我们估计得到的参数与生成数据的真实参数非常接近。\n"
   ]
  },
  {
   "cell_type": "code",
   "execution_count": 24,
   "id": "cb0a1a73",
   "metadata": {
    "origin_pos": 60,
    "tab": [
     "pytorch"
    ],
    "tags": []
   },
   "outputs": [
    {
     "name": "stdout",
     "output_type": "stream",
     "text": [
      "w的估计误差： [-1.1847019e-03  9.3221664e-05]\n",
      "b的估计误差： [4.999316]\n"
     ]
    }
   ],
   "source": [
    "w = net[0].weight.data\n",
    "print('w的估计误差：', true_w - w.reshape(true_w.shape))\n",
    "b = net[0].bias.data\n",
    "print('b的估计误差：', true_b - b)"
   ]
  },
  {
   "cell_type": "code",
   "execution_count": 29,
   "id": "efe3a259-0df6-41e9-854a-ae4a11b8a4db",
   "metadata": {},
   "outputs": [
    {
     "data": {
      "text/plain": [
       "(Tensor(shape=[1, 2], dtype=Float32, value=\n",
       " [[ 2.21800059e-03, -8.11317842e-03]]),\n",
       " Tensor(shape=[1], dtype=Float32, value= [ 3.67007265e-03]))"
      ]
     },
     "execution_count": 29,
     "metadata": {},
     "output_type": "execute_result"
    }
   ],
   "source": [
    "grads"
   ]
  },
  {
   "cell_type": "code",
   "execution_count": 32,
   "id": "5de0750d-44af-418c-9b89-9061abab3596",
   "metadata": {
    "tags": []
   },
   "outputs": [
    {
     "data": {
      "text/plain": [
       "OrderedDict([('0.weight',\n",
       "              Parameter (name=0.weight, shape=(1, 2), dtype=Float32, requires_grad=True)),\n",
       "             ('0.bias',\n",
       "              Parameter (name=0.bias, shape=(1,), dtype=Float32, requires_grad=True))])"
      ]
     },
     "execution_count": 32,
     "metadata": {},
     "output_type": "execute_result"
    }
   ],
   "source": [
    "net.parameters_dict()"
   ]
  },
  {
   "cell_type": "code",
   "execution_count": 33,
   "id": "f90a1642-f0f7-4f04-a00a-c1561509644a",
   "metadata": {},
   "outputs": [
    {
     "data": {
      "text/plain": [
       "[Parameter (name=0.weight, shape=(1, 2), dtype=Float32, requires_grad=True),\n",
       " Parameter (name=0.bias, shape=(1,), dtype=Float32, requires_grad=True)]"
      ]
     },
     "execution_count": 33,
     "metadata": {},
     "output_type": "execute_result"
    }
   ],
   "source": [
    "net.trainable_params()"
   ]
  },
  {
   "cell_type": "code",
   "execution_count": 34,
   "id": "51a397c5-cddc-4ef7-884f-792f0d76dad1",
   "metadata": {
    "tags": []
   },
   "outputs": [
    {
     "data": {
      "text/plain": [
       "1"
      ]
     },
     "execution_count": 34,
     "metadata": {},
     "output_type": "execute_result"
    }
   ],
   "source": [
    "len(net)"
   ]
  },
  {
   "cell_type": "code",
   "execution_count": 35,
   "id": "e9d98fc6-0370-4602-ab43-87f2c5d44479",
   "metadata": {
    "tags": []
   },
   "outputs": [
    {
     "data": {
      "text/plain": [
       "Dense<input_channels=2, output_channels=1, has_bias=True>"
      ]
     },
     "execution_count": 35,
     "metadata": {},
     "output_type": "execute_result"
    }
   ],
   "source": [
    "net[0]"
   ]
  },
  {
   "cell_type": "code",
   "execution_count": 37,
   "id": "6f64c806-8554-46b8-9f77-33359d49f1a7",
   "metadata": {
    "tags": []
   },
   "outputs": [
    {
     "data": {
      "text/plain": [
       "Parameter (name=0.weight, shape=(1, 2), dtype=Float32, requires_grad=True)"
      ]
     },
     "execution_count": 37,
     "metadata": {},
     "output_type": "execute_result"
    }
   ],
   "source": [
    "net[0].weight"
   ]
  },
  {
   "cell_type": "markdown",
   "id": "671bdbc4",
   "metadata": {
    "origin_pos": 63
   },
   "source": [
    "## 小结\n"
   ]
  },
  {
   "cell_type": "markdown",
   "id": "912b352e",
   "metadata": {
    "origin_pos": 65,
    "tab": [
     "pytorch"
    ]
   },
   "source": [
    "* 我们可以使用PyTorch的高级API更简洁地实现模型。\n",
    "* 在PyTorch中，`data`模块提供了数据处理工具，`nn`模块定义了大量的神经网络层和常见损失函数。\n",
    "* 我们可以通过`_`结尾的方法将参数替换，从而初始化参数。\n"
   ]
  },
  {
   "cell_type": "markdown",
   "id": "2ac0f452",
   "metadata": {
    "origin_pos": 67
   },
   "source": [
    "## 练习\n",
    "\n",
    "1. 如果将小批量的总损失替换为小批量损失的平均值，需要如何更改学习率？\n",
    "1. 查看深度学习框架文档，它们提供了哪些损失函数和初始化方法？用Huber损失代替原损失，即\n",
    "    $$l(y,y') = \\begin{cases}|y-y'| -\\frac{\\sigma}{2} & \\text{ if } |y-y'| > \\sigma \\\\ \\frac{1}{2 \\sigma} (y-y')^2 & \\text{ 其它情况}\\end{cases}$$\n",
    "1. 如何访问线性回归的梯度？\n"
   ]
  },
  {
   "cell_type": "markdown",
   "id": "a4f56ac4-5877-4d18-928e-8d3baad7cb6d",
   "metadata": {},
   "source": [
    "1. 如果将小批量的总损失替换为小批量损失的平均值，则需要将学习率乘以批量大小。这是因为在计算梯度时，我们使用了小批量中所有样本的信息。因此，如果我们将小批量的总损失替换为小批量损失的平均值，则相当于将每个样本的梯度除以批量大小。因此，我们需要将学习率乘以批量大小，以保持相同的更新步长。\n",
    "\n",
    "2. 不同的深度学习框架提供了不同的损失函数和初始化方法。例如，在PyTorch中，可以使用`torch.nn.MSELoss`类来计算均方误差损失，并使用`torch.nn.init.normal_`函数来初始化模型参数。要使用Huber损失代替原损失，可以自定义一个新的损失函数，并在训练过程中使用它。\n",
    "\n",
    "3. 要访问线性回归模型的梯度，可以使用自动微分技术。在PyTorch中，可以通过调用`backward()`方法来计算模型参数相对于损失函数的梯度。然后，可以通过访问模型参数的`.grad`属性来获取梯度值。"
   ]
  },
  {
   "cell_type": "markdown",
   "id": "eb602865",
   "metadata": {
    "origin_pos": 69,
    "tab": [
     "pytorch"
    ]
   },
   "source": [
    "[Discussions](https://discuss.d2l.ai/t/1781)\n"
   ]
  },
  {
   "cell_type": "code",
   "execution_count": null,
   "id": "7d836590-3b39-4b39-921d-2d1905d8289a",
   "metadata": {},
   "outputs": [],
   "source": [
    "!pwd"
   ]
  },
  {
   "cell_type": "code",
   "execution_count": null,
   "id": "3bc19a94-a14e-45c6-9383-201c7df45938",
   "metadata": {},
   "outputs": [],
   "source": []
  }
 ],
 "metadata": {
  "kernelspec": {
   "display_name": "MindSpore",
   "language": "python",
   "name": "mindspore"
  },
  "language_info": {
   "codemirror_mode": {
    "name": "ipython",
    "version": 3
   },
   "file_extension": ".py",
   "mimetype": "text/x-python",
   "name": "python",
   "nbconvert_exporter": "python",
   "pygments_lexer": "ipython3",
   "version": "3.9.7"
  }
 },
 "nbformat": 4,
 "nbformat_minor": 5
}
