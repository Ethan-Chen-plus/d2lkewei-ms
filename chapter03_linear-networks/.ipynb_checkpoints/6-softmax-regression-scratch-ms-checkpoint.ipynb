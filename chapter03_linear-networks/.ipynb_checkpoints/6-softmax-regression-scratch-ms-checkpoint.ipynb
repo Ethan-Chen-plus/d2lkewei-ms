{
 "cells": [
  {
   "cell_type": "markdown",
   "id": "e7ed488d",
   "metadata": {
    "origin_pos": 0
   },
   "source": [
    "# softmax回归的从零开始实现\n",
    ":label:`sec_softmax_scratch`\n",
    "\n",
    "(**就像我们从零开始实现线性回归一样，**)\n",
    "我们认为softmax回归也是重要的基础，因此(**应该知道实现softmax回归的细节**)。\n",
    "本节我们将使用刚刚在 :numref:`sec_fashion_mnist`中引入的Fashion-MNIST数据集，\n",
    "并设置数据迭代器的批量大小为256。\n"
   ]
  },
  {
   "cell_type": "code",
   "execution_count": 1,
   "id": "6b0392cf",
   "metadata": {
    "origin_pos": 2,
    "tab": [
     "pytorch"
    ],
    "tags": []
   },
   "outputs": [],
   "source": [
    "import mindspore as ms\n",
    "from IPython import display\n",
    "from d2lkewei import mindspore as d2l\n",
    "import numpy as np\n",
    "from mindspore import ops"
   ]
  },
  {
   "cell_type": "code",
   "execution_count": 2,
   "id": "448aac3c",
   "metadata": {
    "origin_pos": 5,
    "tab": [
     "pytorch"
    ],
    "tags": []
   },
   "outputs": [],
   "source": [
    "batch_size = 256\n",
    "train_iter, test_iter = d2l.load_data_fashion_mnist(batch_size)"
   ]
  },
  {
   "cell_type": "markdown",
   "id": "75502db7",
   "metadata": {
    "origin_pos": 6
   },
   "source": [
    "## 初始化模型参数\n",
    "\n",
    "和之前线性回归的例子一样，这里的每个样本都将用固定长度的向量表示。\n",
    "原始数据集中的每个样本都是$28 \\times 28$的图像。\n",
    "本节[**将展平每个图像，把它们看作长度为784的向量。**]\n",
    "在后面的章节中，我们将讨论能够利用图像空间结构的特征，\n",
    "但现在我们暂时只把每个像素位置看作一个特征。\n",
    "\n",
    "回想一下，在softmax回归中，我们的输出与类别一样多。\n",
    "(**因为我们的数据集有10个类别，所以网络输出维度为10**)。\n",
    "因此，权重将构成一个$784 \\times 10$的矩阵，\n",
    "偏置将构成一个$1 \\times 10$的行向量。\n",
    "与线性回归一样，我们将使用正态分布初始化我们的权重`W`，偏置初始化为0。\n"
   ]
  },
  {
   "cell_type": "code",
   "execution_count": 3,
   "id": "fad887b5",
   "metadata": {
    "origin_pos": 8,
    "tab": [
     "pytorch"
    ],
    "tags": []
   },
   "outputs": [],
   "source": [
    "num_inputs = 784\n",
    "num_outputs = 10\n",
    "\n",
    "W = ms.Tensor(np.random.normal(0, 0.01, (num_inputs, num_outputs)), ms.float32)\n",
    "b = ms.Tensor(ops.zeros(num_outputs, dtype=ms.float32))"
   ]
  },
  {
   "cell_type": "markdown",
   "id": "4635369c",
   "metadata": {
    "origin_pos": 11
   },
   "source": [
    "## 定义softmax操作\n",
    "\n",
    "在实现softmax回归模型之前，我们简要回顾一下`sum`运算符如何沿着张量中的特定维度工作。\n",
    "如 :numref:`subseq_lin-alg-reduction`和\n",
    " :numref:`subseq_lin-alg-non-reduction`所述，\n",
    " [**给定一个矩阵`X`，我们可以对所有元素求和**]（默认情况下）。\n",
    " 也可以只求同一个轴上的元素，即同一列（轴0）或同一行（轴1）。\n",
    " 如果`X`是一个形状为`(2, 3)`的张量，我们对列进行求和，\n",
    " 则结果将是一个具有形状`(3,)`的向量。\n",
    " 当调用`sum`运算符时，我们可以指定保持在原始张量的轴数，而不折叠求和的维度。\n",
    " 这将产生一个具有形状`(1, 3)`的二维张量。\n"
   ]
  },
  {
   "cell_type": "code",
   "execution_count": 4,
   "id": "ce4f3adf",
   "metadata": {
    "origin_pos": 12,
    "tab": [
     "pytorch"
    ],
    "tags": []
   },
   "outputs": [
    {
     "data": {
      "text/plain": [
       "(Tensor(shape=[1, 3], dtype=Float32, value=\n",
       " [[ 5.00000000e+00,  7.00000000e+00,  9.00000000e+00]]),\n",
       " Tensor(shape=[2, 1], dtype=Float32, value=\n",
       " [[ 6.00000000e+00],\n",
       "  [ 1.50000000e+01]]))"
      ]
     },
     "execution_count": 4,
     "metadata": {},
     "output_type": "execute_result"
    }
   ],
   "source": [
    "X = ms.Tensor([[1.0, 2.0, 3.0], [4.0, 5.0, 6.0]])\n",
    "X.sum(0, keepdims=True), X.sum(1, keepdims=True)"
   ]
  },
  {
   "cell_type": "markdown",
   "id": "19a05ec1",
   "metadata": {
    "origin_pos": 14
   },
   "source": [
    "回想一下，[**实现softmax**]由三个步骤组成：\n",
    "\n",
    "1. 对每个项求幂（使用`exp`）；\n",
    "1. 对每一行求和（小批量中每个样本是一行），得到每个样本的规范化常数；\n",
    "1. 将每一行除以其规范化常数，确保结果的和为1。\n",
    "\n",
    "在查看代码之前，我们回顾一下这个表达式：\n",
    "\n",
    "(**\n",
    "$$\n",
    "\\mathrm{softmax}(\\mathbf{X})_{ij} = \\frac{\\exp(\\mathbf{X}_{ij})}{\\sum_k \\exp(\\mathbf{X}_{ik})}.\n",
    "$$\n",
    "**)\n",
    "\n",
    "分母或规范化常数，有时也称为*配分函数*（其对数称为对数-配分函数）。\n",
    "该名称来自[统计物理学](https://en.wikipedia.org/wiki/Partition_function_(statistical_mechanics))中一个模拟粒子群分布的方程。\n"
   ]
  },
  {
   "cell_type": "markdown",
   "id": "1c67e1e1-5650-4577-9da5-834c8d827082",
   "metadata": {},
   "source": [
    "相当于softmax的一个比例"
   ]
  },
  {
   "cell_type": "code",
   "execution_count": 5,
   "id": "cd2958d6",
   "metadata": {
    "origin_pos": 16,
    "tab": [
     "pytorch"
    ],
    "tags": []
   },
   "outputs": [],
   "source": [
    "def softmax(X):\n",
    "    X_exp = ops.exp(X)\n",
    "    partition = X_exp.sum(1, keepdims=True)\n",
    "    return X_exp / partition  # 这里应用了广播机制"
   ]
  },
  {
   "cell_type": "markdown",
   "id": "b8fbadd7-6bd2-44a9-b21f-c0b6ac61cd07",
   "metadata": {},
   "source": [
    "在PyTorch中，keepdim=True表示输出和输入的维度一样，keepdim=False表示输出的维度被压缩了，也就是输出会比输入低一个维度¹²。在你的代码中，keepdim=True表示保持输出的维度与输入一样，即保留原有的维度信息。\n",
    "\n"
   ]
  },
  {
   "cell_type": "code",
   "execution_count": 6,
   "id": "adc34051-c747-4d2a-a757-8af63c496272",
   "metadata": {
    "tags": []
   },
   "outputs": [
    {
     "data": {
      "text/plain": [
       "Tensor(shape=[], dtype=Int64, value= 47)"
      ]
     },
     "execution_count": 6,
     "metadata": {},
     "output_type": "execute_result"
    }
   ],
   "source": [
    "x=ms.Tensor([[1,2,3],[2,4,5],[9,10,11]])\n",
    "x.sum()"
   ]
  },
  {
   "cell_type": "code",
   "execution_count": 7,
   "id": "bafddf95-12a8-407c-aa16-7d7c50862a4c",
   "metadata": {
    "tags": []
   },
   "outputs": [
    {
     "data": {
      "text/plain": [
       "Tensor(shape=[3], dtype=Int64, value= [ 6, 11, 30])"
      ]
     },
     "execution_count": 7,
     "metadata": {},
     "output_type": "execute_result"
    }
   ],
   "source": [
    "x=ms.Tensor([[1,2,3],[2,4,5],[9,10,11]])\n",
    "x.sum(1)"
   ]
  },
  {
   "cell_type": "code",
   "execution_count": 8,
   "id": "25f981b2-ffdf-4277-a2ea-7e8a678a6354",
   "metadata": {
    "tags": []
   },
   "outputs": [
    {
     "data": {
      "text/plain": [
       "Tensor(shape=[3], dtype=Int64, value= [12, 16, 19])"
      ]
     },
     "execution_count": 8,
     "metadata": {},
     "output_type": "execute_result"
    }
   ],
   "source": [
    "x=ms.Tensor([[1,2,3],[2,4,5],[9,10,11]])\n",
    "x.sum(0)"
   ]
  },
  {
   "cell_type": "code",
   "execution_count": 9,
   "id": "3b4f3a61-de71-41d3-b21c-f13a30dcb66e",
   "metadata": {
    "tags": []
   },
   "outputs": [
    {
     "data": {
      "text/plain": [
       "Tensor(shape=[3], dtype=Int64, value= [ 6, 11, 30])"
      ]
     },
     "execution_count": 9,
     "metadata": {},
     "output_type": "execute_result"
    }
   ],
   "source": [
    "x=ms.Tensor([[1,2,3],[2,4,5],[9,10,11]])\n",
    "x.sum(-1)"
   ]
  },
  {
   "cell_type": "markdown",
   "id": "76101aeb-1330-42cf-ab4a-59e333796672",
   "metadata": {},
   "source": [
    "在PyTorch中，sum函数的第二个参数dim表示沿着哪个维度进行求和。当dim=-1时，表示沿着最后一个维度进行求和¹²。在你的代码中，x.sum(-1)表示沿着最后一个维度（即列）进行求和¹。\n"
   ]
  },
  {
   "cell_type": "code",
   "execution_count": 10,
   "id": "03aae016-f37f-4c08-8639-965342582c60",
   "metadata": {
    "tags": []
   },
   "outputs": [
    {
     "data": {
      "text/plain": [
       "Tensor(shape=[3, 1], dtype=Int64, value=\n",
       "[[1],\n",
       " [1],\n",
       " [1]])"
      ]
     },
     "execution_count": 10,
     "metadata": {},
     "output_type": "execute_result"
    }
   ],
   "source": [
    "x=ms.Tensor([[1],[2],[9]])\n",
    "softmax(x)"
   ]
  },
  {
   "cell_type": "code",
   "execution_count": 11,
   "id": "a90a5d61-c80b-4fe9-bc55-ce2573f310ac",
   "metadata": {},
   "outputs": [
    {
     "data": {
      "text/plain": [
       "Tensor(shape=[1, 3], dtype=Float32, value=\n",
       "[[ 3.01440319e-40,  1.00000000e+00,  1.00893489e-43]])"
      ]
     },
     "execution_count": 11,
     "metadata": {},
     "output_type": "execute_result"
    }
   ],
   "source": [
    "x=ms.Tensor([[9-100,100-100,1-100]], dtype= ms.float32)\n",
    "softmax(x)"
   ]
  },
  {
   "cell_type": "code",
   "execution_count": 12,
   "id": "ffacb3bc-fe6d-449f-85fe-4dd4ac3ac274",
   "metadata": {
    "tags": []
   },
   "outputs": [
    {
     "data": {
      "text/plain": [
       "Tensor(shape=[3, 3], dtype=Float32, value=\n",
       "[[ 3.35044693e-04,  9.10745934e-04,  9.98754203e-01],\n",
       " [ 6.37746090e-03,  4.71234135e-02,  9.46499169e-01],\n",
       " [ 0.00000000e+00,             nan,  0.00000000e+00]])"
      ]
     },
     "execution_count": 12,
     "metadata": {},
     "output_type": "execute_result"
    }
   ],
   "source": [
    "x=ms.Tensor([[1,2,9],[2,4,7],[9,100,1]], dtype=ms.float32)\n",
    "softmax(x)"
   ]
  },
  {
   "cell_type": "markdown",
   "id": "09c83a43-ab5b-4ccb-a8b7-ab3e5fa827a3",
   "metadata": {},
   "source": [
    "如上，我们可以看到，会有nan情况的存在"
   ]
  },
  {
   "cell_type": "markdown",
   "id": "04d33da8",
   "metadata": {
    "origin_pos": 17
   },
   "source": [
    "正如上述代码，对于任何随机输入，[**我们将每个元素变成一个非负数。\n",
    "此外，依据概率原理，每行总和为1**]。\n"
   ]
  },
  {
   "cell_type": "code",
   "execution_count": 13,
   "id": "b8e2a105",
   "metadata": {
    "origin_pos": 18,
    "tab": [
     "pytorch"
    ],
    "tags": []
   },
   "outputs": [
    {
     "data": {
      "text/plain": [
       "(Tensor(shape=[2, 5], dtype=Float32, value=\n",
       " [[ 3.53300601e-01,  4.42679584e-01,  5.08863255e-02,  1.04581729e-01,  4.85517271e-02],\n",
       "  [ 4.38880399e-02,  5.61367571e-01,  1.76488325e-01,  2.08138973e-01,  1.01170698e-02]]),\n",
       " Tensor(shape=[2], dtype=Float32, value= [ 1.00000000e+00,  1.00000000e+00]))"
      ]
     },
     "execution_count": 13,
     "metadata": {},
     "output_type": "execute_result"
    }
   ],
   "source": [
    "X = ops.normal((2, 5), 0, 1)\n",
    "X_prob = softmax(X)\n",
    "X_prob, X_prob.sum(1)"
   ]
  },
  {
   "cell_type": "markdown",
   "id": "509a1ac2",
   "metadata": {
    "origin_pos": 20
   },
   "source": [
    "注意，虽然这在数学上看起来是正确的，但我们在代码实现中有点草率。\n",
    "矩阵中的非常大或非常小的元素可能造成数值上溢或下溢，但我们没有采取措施来防止这点。\n",
    "\n",
    "## 定义模型\n",
    "\n",
    "定义softmax操作后，我们可以[**实现softmax回归模型**]。\n",
    "下面的代码定义了输入如何通过网络映射到输出。\n",
    "注意，将数据传递到模型之前，我们使用`reshape`函数将每张原始图像展平为向量。\n"
   ]
  },
  {
   "cell_type": "code",
   "execution_count": 14,
   "id": "b67c4bd7",
   "metadata": {
    "origin_pos": 21,
    "tab": [
     "pytorch"
    ],
    "tags": []
   },
   "outputs": [],
   "source": [
    "def net(X):\n",
    "    return softmax(ops.matmul(X.reshape((-1, W.shape[0])), W) + b)"
   ]
  },
  {
   "cell_type": "code",
   "execution_count": 15,
   "id": "6c36fbfd-5ae0-44ea-a02f-68c621aea6fc",
   "metadata": {},
   "outputs": [],
   "source": [
    "def haha():\n",
    "    return W+1"
   ]
  },
  {
   "cell_type": "markdown",
   "id": "22a65de8",
   "metadata": {
    "origin_pos": 22
   },
   "source": [
    "## 定义损失函数\n",
    "\n",
    "接下来，我们实现 :numref:`sec_softmax`中引入的交叉熵损失函数。\n",
    "这可能是深度学习中最常见的损失函数，因为目前分类问题的数量远远超过回归问题的数量。\n",
    "\n",
    "回顾一下，交叉熵采用真实标签的预测概率的负对数似然。\n",
    "这里我们不使用Python的for循环迭代预测（这往往是低效的），\n",
    "而是通过一个运算符选择所有元素。\n",
    "下面，我们[**创建一个数据样本`y_hat`，其中包含2个样本在3个类别的预测概率，\n",
    "以及它们对应的标签`y`。**]\n",
    "有了`y`，我们知道在第一个样本中，第一类是正确的预测；\n",
    "而在第二个样本中，第三类是正确的预测。\n",
    "然后(**使用`y`作为`y_hat`中概率的索引**)，\n",
    "我们选择第一个样本中第一个类的概率和第二个样本中第三个类的概率。\n"
   ]
  },
  {
   "cell_type": "code",
   "execution_count": 16,
   "id": "8c5f8f11",
   "metadata": {
    "origin_pos": 23,
    "tab": [
     "pytorch"
    ],
    "tags": []
   },
   "outputs": [
    {
     "data": {
      "text/plain": [
       "Tensor(shape=[2], dtype=Float32, value= [ 1.00000001e-01,  5.00000000e-01])"
      ]
     },
     "execution_count": 16,
     "metadata": {},
     "output_type": "execute_result"
    }
   ],
   "source": [
    "y = ms.Tensor([0, 2]) #实际标签\n",
    "y_hat = ms.Tensor([[0.1, 0.3, 0.6], [0.3, 0.2, 0.5]]) #预测概率\n",
    "y_hat[[0, 1], y]"
   ]
  },
  {
   "cell_type": "markdown",
   "id": "24d50f90",
   "metadata": {
    "origin_pos": 25
   },
   "source": [
    "现在我们只需一行代码就可以[**实现交叉熵损失函数**]。\n"
   ]
  },
  {
   "cell_type": "code",
   "execution_count": 17,
   "id": "8d5dc397",
   "metadata": {
    "origin_pos": 26,
    "tab": [
     "pytorch"
    ],
    "tags": []
   },
   "outputs": [
    {
     "data": {
      "text/plain": [
       "Tensor(shape=[2], dtype=Float32, value= [ 2.30258512e+00,  6.93147182e-01])"
      ]
     },
     "execution_count": 17,
     "metadata": {},
     "output_type": "execute_result"
    }
   ],
   "source": [
    "def cross_entropy(y_hat, y):\n",
    "    return - ops.log(y_hat[list(range(len(y_hat))), y])\n",
    "\n",
    "cross_entropy(y_hat, y)"
   ]
  },
  {
   "cell_type": "markdown",
   "id": "82674759-7979-4269-8fdd-b72b1e6ee2ec",
   "metadata": {},
   "source": [
    "在PyTorch中，交叉熵损失函数的实现可以使用公式：$-log(\\frac{e^{y_{i}}}{\\sum_{j}e^{y_{j}}})$。在你的代码中，$y\\_hat$是模型输出的预测值，$y$是真实标签。因此，代码中的cross_entropy函数实现了上述公式²。\n",
    "\n"
   ]
  },
  {
   "cell_type": "markdown",
   "id": "7422ab32-65b8-41ca-85c5-f2366014d93f",
   "metadata": {},
   "source": [
    "备注：sigma刚好为1"
   ]
  },
  {
   "cell_type": "code",
   "execution_count": 18,
   "id": "6859b762-8763-486b-aa0d-7c07d8e5c2f7",
   "metadata": {},
   "outputs": [
    {
     "data": {
      "text/plain": [
       "range(0, 2)"
      ]
     },
     "execution_count": 18,
     "metadata": {},
     "output_type": "execute_result"
    }
   ],
   "source": [
    "range(len(y_hat))"
   ]
  },
  {
   "cell_type": "code",
   "execution_count": 19,
   "id": "a1e05af8-e8ee-436d-abd5-f0ac9025b8c4",
   "metadata": {
    "tags": []
   },
   "outputs": [
    {
     "data": {
      "text/plain": [
       "Tensor(shape=[2, 3], dtype=Float32, value=\n",
       "[[ 1.00000001e-01,  3.00000012e-01,  6.00000024e-01],\n",
       " [ 3.00000012e-01,  2.00000003e-01,  5.00000000e-01]])"
      ]
     },
     "execution_count": 19,
     "metadata": {},
     "output_type": "execute_result"
    }
   ],
   "source": [
    "y_hat"
   ]
  },
  {
   "cell_type": "code",
   "execution_count": 20,
   "id": "9323558a-f0e5-40db-a969-b4d30b6b3c42",
   "metadata": {
    "tags": []
   },
   "outputs": [
    {
     "data": {
      "text/plain": [
       "Tensor(shape=[2, 3], dtype=Float32, value=\n",
       "[[ 1.00000001e-01,  3.00000012e-01,  6.00000024e-01],\n",
       " [ 3.00000012e-01,  2.00000003e-01,  5.00000000e-01]])"
      ]
     },
     "execution_count": 20,
     "metadata": {},
     "output_type": "execute_result"
    }
   ],
   "source": [
    "y_hat[list(range(len(y_hat)))]"
   ]
  },
  {
   "cell_type": "code",
   "execution_count": 21,
   "id": "64378f41-5014-4c88-9be1-50496ad85337",
   "metadata": {
    "tags": []
   },
   "outputs": [
    {
     "data": {
      "text/plain": [
       "Tensor(shape=[2], dtype=Float32, value= [ 1.00000001e-01,  5.00000000e-01])"
      ]
     },
     "execution_count": 21,
     "metadata": {},
     "output_type": "execute_result"
    }
   ],
   "source": [
    "y_hat[list(range(len(y_hat))), y]"
   ]
  },
  {
   "cell_type": "code",
   "execution_count": 22,
   "id": "4f585eb4-ae4e-410a-acec-f4d16f33edf6",
   "metadata": {
    "tags": []
   },
   "outputs": [
    {
     "data": {
      "text/plain": [
       "Tensor(shape=[], dtype=Float32, value= 2.30259)"
      ]
     },
     "execution_count": 22,
     "metadata": {},
     "output_type": "execute_result"
    }
   ],
   "source": [
    "x=ms.Tensor(10,dtype=ms.float32)\n",
    "ops.log(x)"
   ]
  },
  {
   "cell_type": "code",
   "execution_count": 23,
   "id": "5ca2f89c-2ca6-4059-af54-0ff238b1693a",
   "metadata": {
    "tags": []
   },
   "outputs": [
    {
     "data": {
      "text/plain": [
       "Tensor(shape=[], dtype=Float32, value= 1)"
      ]
     },
     "execution_count": 23,
     "metadata": {},
     "output_type": "execute_result"
    }
   ],
   "source": [
    "x=ms.Tensor(np.e)\n",
    "ops.log(x)"
   ]
  },
  {
   "cell_type": "code",
   "execution_count": 24,
   "id": "524a969a-f73d-402b-909e-3acd2e3513aa",
   "metadata": {
    "tags": []
   },
   "outputs": [
    {
     "data": {
      "text/plain": [
       "Tensor(shape=[2], dtype=Float32, value= [ 2.30258512e+00,  1.00000000e+00])"
      ]
     },
     "execution_count": 24,
     "metadata": {},
     "output_type": "execute_result"
    }
   ],
   "source": [
    "x=ms.Tensor([10.,np.e])\n",
    "ops.log(x)"
   ]
  },
  {
   "cell_type": "markdown",
   "id": "e2b50c7a",
   "metadata": {
    "origin_pos": 29
   },
   "source": [
    "## 分类精度\n",
    "\n",
    "给定预测概率分布`y_hat`，当我们必须输出硬预测（hard prediction）时，\n",
    "我们通常选择预测概率最高的类。\n",
    "许多应用都要求我们做出选择。如Gmail必须将电子邮件分类为“Primary（主要邮件）”、\n",
    "“Social（社交邮件）”“Updates（更新邮件）”或“Forums（论坛邮件）”。\n",
    "Gmail做分类时可能在内部估计概率，但最终它必须在类中选择一个。\n",
    "\n",
    "当预测与标签分类`y`一致时，即是正确的。\n",
    "分类精度即正确预测数量与总预测数量之比。\n",
    "虽然直接优化精度可能很困难（因为精度的计算不可导），\n",
    "但精度通常是我们最关心的性能衡量标准，我们在训练分类器时几乎总会关注它。\n",
    "\n",
    "为了计算精度，我们执行以下操作。\n",
    "首先，如果`y_hat`是矩阵，那么假定第二个维度存储每个类的预测分数。\n",
    "我们使用`argmax`获得每行中最大元素的索引来获得预测类别。\n",
    "然后我们[**将预测类别与真实`y`元素进行比较**]。\n",
    "由于等式运算符“`==`”对数据类型很敏感，\n",
    "因此我们将`y_hat`的数据类型转换为与`y`的数据类型一致。\n",
    "结果是一个包含0（错）和1（对）的张量。\n",
    "最后，我们求和会得到正确预测的数量。\n"
   ]
  },
  {
   "cell_type": "code",
   "execution_count": 25,
   "id": "19d5bd4d",
   "metadata": {
    "origin_pos": 30,
    "tab": [
     "pytorch"
    ],
    "tags": []
   },
   "outputs": [],
   "source": [
    "def accuracy(y_hat, y):  #@save\n",
    "    \"\"\"计算预测正确的数量\"\"\"\n",
    "    if len(y_hat.shape) > 1 and y_hat.shape[1] > 1:\n",
    "        y_hat = y_hat.argmax(axis=1)\n",
    "    cmp = y_hat.astype(y.dtype) == y\n",
    "    return float(cmp.astype(y.dtype).sum())"
   ]
  },
  {
   "cell_type": "markdown",
   "id": "f93cb391",
   "metadata": {
    "origin_pos": 32
   },
   "source": [
    "我们将继续使用之前定义的变量`y_hat`和`y`分别作为预测的概率分布和标签。\n",
    "可以看到，第一个样本的预测类别是2（该行的最大元素为0.6，索引为2），这与实际标签0不一致。\n",
    "第二个样本的预测类别是2（该行的最大元素为0.5，索引为2），这与实际标签2一致。\n",
    "因此，这两个样本的分类精度率为0.5。\n"
   ]
  },
  {
   "cell_type": "code",
   "execution_count": 26,
   "id": "27ab3a8a",
   "metadata": {
    "origin_pos": 33,
    "tab": [
     "pytorch"
    ],
    "tags": []
   },
   "outputs": [
    {
     "data": {
      "text/plain": [
       "0.5"
      ]
     },
     "execution_count": 26,
     "metadata": {},
     "output_type": "execute_result"
    }
   ],
   "source": [
    "accuracy(y_hat, y) / len(y)"
   ]
  },
  {
   "cell_type": "markdown",
   "id": "5dea62ae",
   "metadata": {
    "origin_pos": 34
   },
   "source": [
    "同样，对于任意数据迭代器`data_iter`可访问的数据集，\n",
    "[**我们可以评估在任意模型`net`的精度**]。\n"
   ]
  },
  {
   "cell_type": "code",
   "execution_count": 27,
   "id": "f0c30e93-449b-4123-8ffc-cfbbd57b16e6",
   "metadata": {},
   "outputs": [
    {
     "data": {
      "text/plain": [
       "<function __main__.net(X)>"
      ]
     },
     "execution_count": 27,
     "metadata": {},
     "output_type": "execute_result"
    }
   ],
   "source": [
    "net"
   ]
  },
  {
   "cell_type": "code",
   "execution_count": 95,
   "id": "84314319",
   "metadata": {
    "origin_pos": 36,
    "tab": [
     "pytorch"
    ],
    "tags": []
   },
   "outputs": [],
   "source": [
    "def evaluate_accuracy(net, data_iter):  #@save\n",
    "    \"\"\"计算在指定数据集上模型的精度\"\"\"\n",
    "    if isinstance(net, ms.nn.Cell):\n",
    "        net.set_train(False)  # 将模型设置为评估模式\n",
    "    metric = Accumulator(2)  # 正确预测数、预测总数\n",
    "    for X, y in data_iter:\n",
    "        global W,b\n",
    "        metric.add(accuracy(net(X,W,b), y), y.numel())\n",
    "    return metric[0] / metric[1]"
   ]
  },
  {
   "cell_type": "markdown",
   "id": "ed858ec8",
   "metadata": {
    "origin_pos": 38
   },
   "source": [
    "这里定义一个实用程序类`Accumulator`，用于对多个变量进行累加。\n",
    "在上面的`evaluate_accuracy`函数中，\n",
    "我们在(**`Accumulator`实例中创建了2个变量，\n",
    "分别用于存储正确预测的数量和预测的总数量**)。\n",
    "当我们遍历数据集时，两者都将随着时间的推移而累加。\n"
   ]
  },
  {
   "cell_type": "code",
   "execution_count": 29,
   "id": "1e251574",
   "metadata": {
    "origin_pos": 39,
    "tab": [
     "pytorch"
    ],
    "tags": []
   },
   "outputs": [],
   "source": [
    "class Accumulator:  #@save\n",
    "    \"\"\"在n个变量上累加\"\"\"\n",
    "    def __init__(self, n):\n",
    "        self.data = [0.0] * n\n",
    "\n",
    "    def add(self, *args):\n",
    "        self.data = [a + float(b) for a, b in zip(self.data, args)]\n",
    "\n",
    "    def reset(self):\n",
    "        self.data = [0.0] * len(self.data)\n",
    "\n",
    "    def __getitem__(self, idx):\n",
    "        return self.data[idx]"
   ]
  },
  {
   "cell_type": "markdown",
   "id": "73b0fda7",
   "metadata": {
    "origin_pos": 40
   },
   "source": [
    "# 由于我们使用随机权重初始化`net`模型，\n",
    "因此该模型的精度应接近于随机猜测。\n",
    "例如在有10个类别情况下的精度为0.1。\n"
   ]
  },
  {
   "cell_type": "code",
   "execution_count": 96,
   "id": "52982c90",
   "metadata": {
    "origin_pos": 41,
    "tab": [
     "pytorch"
    ],
    "tags": []
   },
   "outputs": [
    {
     "data": {
      "text/plain": [
       "0.8283"
      ]
     },
     "execution_count": 96,
     "metadata": {},
     "output_type": "execute_result"
    }
   ],
   "source": [
    "evaluate_accuracy(net, test_iter)"
   ]
  },
  {
   "cell_type": "markdown",
   "id": "53b2621b",
   "metadata": {
    "origin_pos": 42
   },
   "source": [
    "## 训练\n",
    "\n",
    "在我们看过 :numref:`sec_linear_scratch`中的线性回归实现，\n",
    "[**softmax回归的训练**]过程代码应该看起来非常眼熟。\n",
    "在这里，我们重构训练过程的实现以使其可重复使用。\n",
    "首先，我们定义一个函数来训练一个迭代周期。\n",
    "请注意，`updater`是更新模型参数的常用函数，它接受批量大小作为参数。\n",
    "它可以是`d2l.sgd`函数，也可以是框架的内置优化函数。\n"
   ]
  },
  {
   "cell_type": "code",
   "execution_count": 31,
   "id": "3c281b53-9706-47ad-92f6-55dabdb57520",
   "metadata": {},
   "outputs": [],
   "source": [
    "from mindspore import nn"
   ]
  },
  {
   "cell_type": "code",
   "execution_count": 54,
   "id": "faa6cf62-6f86-4a3f-8a1c-eaf0b346d298",
   "metadata": {},
   "outputs": [],
   "source": [
    "def net(X, W=W, b=b):\n",
    "    return softmax(ops.matmul(X.reshape((-1, W.shape[0])), W) + b)"
   ]
  },
  {
   "cell_type": "code",
   "execution_count": 84,
   "id": "37cfaf40",
   "metadata": {
    "origin_pos": 44,
    "tab": [
     "pytorch"
    ],
    "tags": []
   },
   "outputs": [],
   "source": [
    "def train_epoch_ch3(net, train_iter, loss, updater):  #@save\n",
    "    # global W,b\n",
    "    def forward_fn(inputs, targets):\n",
    "        logits = net(inputs)\n",
    "        loss = loss_fn(logits, targets)\n",
    "        return loss\n",
    "    \"\"\"训练模型一个迭代周期（定义见第3章）\"\"\"\n",
    "    # 将模型设置为训练模式\n",
    "    if isinstance(net, ms.nn.Cell):\n",
    "        net.set_train(True)\n",
    "    # 训练损失总和、训练准确度总和、样本数\n",
    "    metric = Accumulator(3)\n",
    "    for X, y in train_iter:\n",
    "        # 计算梯度并更新参数\n",
    "        \n",
    "        if isinstance(updater, ms.nn.Optimizer):\n",
    "            # 使用MindSpore内置的优化器和损失函数\n",
    "            grad_fn = ms.value_and_grad(forward_fn, grad_position=None, weights=updater.parameters)\n",
    "            l, grads = grad_fn(X, y)\n",
    "            updater(grads)\n",
    "        else:\n",
    "            # 使用定制的优化器和损失函数\n",
    "            global W\n",
    "            global b\n",
    "            y_hat = net(X, W, b)\n",
    "            def subf(X, W, b):\n",
    "                l = loss(net(X, W, b), y)\n",
    "                l = l.sum()\n",
    "                return l\n",
    "            l = subf(X, W, b)\n",
    "            grad_fn = ms.grad(subf, grad_position=(1,2)) #position角标从0开始\n",
    "            grads = grad_fn(X, W, b)\n",
    "            \n",
    "            W,b = updater(grads, X.shape[0]) #X.shape[0]是batch_size\n",
    "        metric.add(float(l.sum()), accuracy(y_hat, y), y.numel())\n",
    "    # 返回训练损失和训练精度\n",
    "    return metric[0] / metric[2], metric[1] / metric[2]"
   ]
  },
  {
   "cell_type": "markdown",
   "id": "21830060",
   "metadata": {
    "origin_pos": 47
   },
   "source": [
    "在展示训练函数的实现之前，我们[**定义一个在动画中绘制数据的实用程序类**]`Animator`，\n",
    "它能够简化本书其余部分的代码。\n"
   ]
  },
  {
   "cell_type": "code",
   "execution_count": 85,
   "id": "4e8d4cc4",
   "metadata": {
    "origin_pos": 48,
    "tab": [
     "pytorch"
    ],
    "tags": []
   },
   "outputs": [],
   "source": [
    "class Animator:  #@save\n",
    "    \"\"\"在动画中绘制数据\"\"\"\n",
    "    def __init__(self, xlabel=None, ylabel=None, legend=None, xlim=None,\n",
    "                 ylim=None, xscale='linear', yscale='linear',\n",
    "                 fmts=('-', 'm--', 'g-.', 'r:'), nrows=1, ncols=1,\n",
    "                 figsize=(3.5, 2.5)):\n",
    "        # 增量地绘制多条线\n",
    "        if legend is None:\n",
    "            legend = []\n",
    "        d2l.use_svg_display()\n",
    "        self.fig, self.axes = d2l.plt.subplots(nrows, ncols, figsize=figsize)\n",
    "        if nrows * ncols == 1:\n",
    "            self.axes = [self.axes, ]\n",
    "        # 使用lambda函数捕获参数\n",
    "        self.config_axes = lambda: d2l.set_axes(\n",
    "            self.axes[0], xlabel, ylabel, xlim, ylim, xscale, yscale, legend)\n",
    "        self.X, self.Y, self.fmts = None, None, fmts\n",
    "\n",
    "    def add(self, x, y):\n",
    "        # 向图表中添加多个数据点\n",
    "        if not hasattr(y, \"__len__\"):\n",
    "            y = [y]\n",
    "        n = len(y)\n",
    "        if not hasattr(x, \"__len__\"):\n",
    "            x = [x] * n\n",
    "        if not self.X:\n",
    "            self.X = [[] for _ in range(n)]\n",
    "        if not self.Y:\n",
    "            self.Y = [[] for _ in range(n)]\n",
    "        for i, (a, b) in enumerate(zip(x, y)):\n",
    "            if a is not None and b is not None:\n",
    "                self.X[i].append(a)\n",
    "                self.Y[i].append(b)\n",
    "        self.axes[0].cla()\n",
    "        for x, y, fmt in zip(self.X, self.Y, self.fmts):\n",
    "            self.axes[0].plot(x, y, fmt)\n",
    "        self.config_axes()\n",
    "        display.display(self.fig)\n",
    "        display.clear_output(wait=True)"
   ]
  },
  {
   "cell_type": "markdown",
   "id": "57678182",
   "metadata": {
    "origin_pos": 49
   },
   "source": [
    "接下来我们实现一个[**训练函数**]，\n",
    "它会在`train_iter`访问到的训练数据集上训练一个模型`net`。\n",
    "该训练函数将会运行多个迭代周期（由`num_epochs`指定）。\n",
    "在每个迭代周期结束时，利用`test_iter`访问到的测试数据集对模型进行评估。\n",
    "我们将利用`Animator`类来可视化训练进度。\n"
   ]
  },
  {
   "cell_type": "code",
   "execution_count": 86,
   "id": "894681f3",
   "metadata": {
    "origin_pos": 50,
    "tab": [
     "pytorch"
    ],
    "tags": []
   },
   "outputs": [],
   "source": [
    "def train_ch3(net, train_iter, test_iter, loss, num_epochs, updater):  #@save\n",
    "    \"\"\"训练模型（定义见第3章）\"\"\"\n",
    "    animator = Animator(xlabel='epoch', xlim=[1, num_epochs], ylim=[0.3, 0.9],\n",
    "                        legend=['train loss', 'train acc', 'test acc'])\n",
    "    for epoch in range(num_epochs):\n",
    "        train_metrics = train_epoch_ch3(net, train_iter, loss, updater)\n",
    "        test_acc = evaluate_accuracy(net, test_iter)\n",
    "        animator.add(epoch + 1, train_metrics + (test_acc,))\n",
    "    train_loss, train_acc = train_metrics\n",
    "    assert train_loss < 0.5, train_loss\n",
    "    assert train_acc <= 1 and train_acc > 0.7, train_acc\n",
    "    assert test_acc <= 1 and test_acc > 0.7, test_acc"
   ]
  },
  {
   "cell_type": "markdown",
   "id": "982b8281",
   "metadata": {
    "origin_pos": 51
   },
   "source": [
    "作为一个从零开始的实现，我们使用 :numref:`sec_linear_scratch`中定义的\n",
    "[**小批量随机梯度下降来优化模型的损失函数**]，设置学习率为0.1。\n"
   ]
  },
  {
   "cell_type": "code",
   "execution_count": 87,
   "id": "685e09d3",
   "metadata": {
    "origin_pos": 52,
    "tab": [
     "pytorch"
    ],
    "tags": []
   },
   "outputs": [],
   "source": [
    "lr = 0.1\n",
    "\n",
    "def updater(params_grad, batch_size):\n",
    "    return d2l.sgd([W, b], params_grad, lr, batch_size)"
   ]
  },
  {
   "cell_type": "markdown",
   "id": "9e1fe890",
   "metadata": {
    "origin_pos": 54
   },
   "source": [
    "现在，我们[**训练模型10个迭代周期**]。\n",
    "请注意，迭代周期（`num_epochs`）和学习率（`lr`）都是可调节的超参数。\n",
    "通过更改它们的值，我们可以提高模型的分类精度。\n"
   ]
  },
  {
   "cell_type": "code",
   "execution_count": 88,
   "id": "a509fc9c",
   "metadata": {
    "origin_pos": 55,
    "tab": [
     "pytorch"
    ],
    "tags": []
   },
   "outputs": [
    {
     "ename": "AssertionError",
     "evalue": "0.128",
     "output_type": "error",
     "traceback": [
      "\u001b[0;31m---------------------------------------------------------------------------\u001b[0m",
      "\u001b[0;31mAssertionError\u001b[0m                            Traceback (most recent call last)",
      "Cell \u001b[0;32mIn[88], line 2\u001b[0m\n\u001b[1;32m      1\u001b[0m num_epochs \u001b[38;5;241m=\u001b[39m \u001b[38;5;241m10\u001b[39m\n\u001b[0;32m----> 2\u001b[0m \u001b[43mtrain_ch3\u001b[49m\u001b[43m(\u001b[49m\u001b[43mnet\u001b[49m\u001b[43m,\u001b[49m\u001b[43m \u001b[49m\u001b[43mtrain_iter\u001b[49m\u001b[43m,\u001b[49m\u001b[43m \u001b[49m\u001b[43mtest_iter\u001b[49m\u001b[43m,\u001b[49m\u001b[43m \u001b[49m\u001b[43mcross_entropy\u001b[49m\u001b[43m,\u001b[49m\u001b[43m \u001b[49m\u001b[43mnum_epochs\u001b[49m\u001b[43m,\u001b[49m\u001b[43m \u001b[49m\u001b[43mupdater\u001b[49m\u001b[43m)\u001b[49m\n",
      "Cell \u001b[0;32mIn[86], line 12\u001b[0m, in \u001b[0;36mtrain_ch3\u001b[0;34m(net, train_iter, test_iter, loss, num_epochs, updater)\u001b[0m\n\u001b[1;32m     10\u001b[0m \u001b[38;5;28;01massert\u001b[39;00m train_loss \u001b[38;5;241m<\u001b[39m \u001b[38;5;241m0.5\u001b[39m, train_loss\n\u001b[1;32m     11\u001b[0m \u001b[38;5;28;01massert\u001b[39;00m train_acc \u001b[38;5;241m<\u001b[39m\u001b[38;5;241m=\u001b[39m \u001b[38;5;241m1\u001b[39m \u001b[38;5;129;01mand\u001b[39;00m train_acc \u001b[38;5;241m>\u001b[39m \u001b[38;5;241m0.7\u001b[39m, train_acc\n\u001b[0;32m---> 12\u001b[0m \u001b[38;5;28;01massert\u001b[39;00m test_acc \u001b[38;5;241m<\u001b[39m\u001b[38;5;241m=\u001b[39m \u001b[38;5;241m1\u001b[39m \u001b[38;5;129;01mand\u001b[39;00m test_acc \u001b[38;5;241m>\u001b[39m \u001b[38;5;241m0.7\u001b[39m, test_acc\n",
      "\u001b[0;31mAssertionError\u001b[0m: 0.128"
     ]
    },
    {
     "data": {
      "image/svg+xml": [
       "<?xml version=\"1.0\" encoding=\"utf-8\" standalone=\"no\"?>\n",
       "<!DOCTYPE svg PUBLIC \"-//W3C//DTD SVG 1.1//EN\"\n",
       "  \"http://www.w3.org/Graphics/SVG/1.1/DTD/svg11.dtd\">\n",
       "<!-- Created with matplotlib (https://matplotlib.org/) -->\n",
       "<svg height=\"183.35625pt\" version=\"1.1\" viewBox=\"0 0 238.965625 183.35625\" width=\"238.965625pt\" xmlns=\"http://www.w3.org/2000/svg\" xmlns:xlink=\"http://www.w3.org/1999/xlink\">\n",
       " <metadata>\n",
       "  <rdf:RDF xmlns:cc=\"http://creativecommons.org/ns#\" xmlns:dc=\"http://purl.org/dc/elements/1.1/\" xmlns:rdf=\"http://www.w3.org/1999/02/22-rdf-syntax-ns#\">\n",
       "   <cc:Work>\n",
       "    <dc:type rdf:resource=\"http://purl.org/dc/dcmitype/StillImage\"/>\n",
       "    <dc:date>2023-07-22T19:08:01.001081</dc:date>\n",
       "    <dc:format>image/svg+xml</dc:format>\n",
       "    <dc:creator>\n",
       "     <cc:Agent>\n",
       "      <dc:title>Matplotlib v3.3.2, https://matplotlib.org/</dc:title>\n",
       "     </cc:Agent>\n",
       "    </dc:creator>\n",
       "   </cc:Work>\n",
       "  </rdf:RDF>\n",
       " </metadata>\n",
       " <defs>\n",
       "  <style type=\"text/css\">*{stroke-linecap:butt;stroke-linejoin:round;}</style>\n",
       " </defs>\n",
       " <g id=\"figure_1\">\n",
       "  <g id=\"patch_1\">\n",
       "   <path d=\"M 0 183.35625 \n",
       "L 238.965625 183.35625 \n",
       "L 238.965625 0 \n",
       "L 0 0 \n",
       "z\n",
       "\" style=\"fill:#ffffff;\"/>\n",
       "  </g>\n",
       "  <g id=\"axes_1\">\n",
       "   <g id=\"patch_2\">\n",
       "    <path d=\"M 30.103125 145.8 \n",
       "L 225.403125 145.8 \n",
       "L 225.403125 7.2 \n",
       "L 30.103125 7.2 \n",
       "z\n",
       "\" style=\"fill:#ffffff;\"/>\n",
       "   </g>\n",
       "   <g id=\"matplotlib.axis_1\">\n",
       "    <g id=\"xtick_1\">\n",
       "     <g id=\"line2d_1\">\n",
       "      <path clip-path=\"url(#p6e901a692c)\" d=\"M 51.803125 145.8 \n",
       "L 51.803125 7.2 \n",
       "\" style=\"fill:none;stroke:#b0b0b0;stroke-linecap:square;stroke-width:0.8;\"/>\n",
       "     </g>\n",
       "     <g id=\"line2d_2\">\n",
       "      <defs>\n",
       "       <path d=\"M 0 0 \n",
       "L 0 3.5 \n",
       "\" id=\"mb3aaf29200\" style=\"stroke:#000000;stroke-width:0.8;\"/>\n",
       "      </defs>\n",
       "      <g>\n",
       "       <use style=\"stroke:#000000;stroke-width:0.8;\" x=\"51.803125\" xlink:href=\"#mb3aaf29200\" y=\"145.8\"/>\n",
       "      </g>\n",
       "     </g>\n",
       "     <g id=\"text_1\">\n",
       "      <!-- 2 -->\n",
       "      <g transform=\"translate(48.621875 160.398438)scale(0.1 -0.1)\">\n",
       "       <defs>\n",
       "        <path d=\"M 19.1875 8.296875 \n",
       "L 53.609375 8.296875 \n",
       "L 53.609375 0 \n",
       "L 7.328125 0 \n",
       "L 7.328125 8.296875 \n",
       "Q 12.9375 14.109375 22.625 23.890625 \n",
       "Q 32.328125 33.6875 34.8125 36.53125 \n",
       "Q 39.546875 41.84375 41.421875 45.53125 \n",
       "Q 43.3125 49.21875 43.3125 52.78125 \n",
       "Q 43.3125 58.59375 39.234375 62.25 \n",
       "Q 35.15625 65.921875 28.609375 65.921875 \n",
       "Q 23.96875 65.921875 18.8125 64.3125 \n",
       "Q 13.671875 62.703125 7.8125 59.421875 \n",
       "L 7.8125 69.390625 \n",
       "Q 13.765625 71.78125 18.9375 73 \n",
       "Q 24.125 74.21875 28.421875 74.21875 \n",
       "Q 39.75 74.21875 46.484375 68.546875 \n",
       "Q 53.21875 62.890625 53.21875 53.421875 \n",
       "Q 53.21875 48.921875 51.53125 44.890625 \n",
       "Q 49.859375 40.875 45.40625 35.40625 \n",
       "Q 44.1875 33.984375 37.640625 27.21875 \n",
       "Q 31.109375 20.453125 19.1875 8.296875 \n",
       "z\n",
       "\" id=\"DejaVuSans-50\"/>\n",
       "       </defs>\n",
       "       <use xlink:href=\"#DejaVuSans-50\"/>\n",
       "      </g>\n",
       "     </g>\n",
       "    </g>\n",
       "    <g id=\"xtick_2\">\n",
       "     <g id=\"line2d_3\">\n",
       "      <path clip-path=\"url(#p6e901a692c)\" d=\"M 95.203125 145.8 \n",
       "L 95.203125 7.2 \n",
       "\" style=\"fill:none;stroke:#b0b0b0;stroke-linecap:square;stroke-width:0.8;\"/>\n",
       "     </g>\n",
       "     <g id=\"line2d_4\">\n",
       "      <g>\n",
       "       <use style=\"stroke:#000000;stroke-width:0.8;\" x=\"95.203125\" xlink:href=\"#mb3aaf29200\" y=\"145.8\"/>\n",
       "      </g>\n",
       "     </g>\n",
       "     <g id=\"text_2\">\n",
       "      <!-- 4 -->\n",
       "      <g transform=\"translate(92.021875 160.398438)scale(0.1 -0.1)\">\n",
       "       <defs>\n",
       "        <path d=\"M 37.796875 64.3125 \n",
       "L 12.890625 25.390625 \n",
       "L 37.796875 25.390625 \n",
       "z\n",
       "M 35.203125 72.90625 \n",
       "L 47.609375 72.90625 \n",
       "L 47.609375 25.390625 \n",
       "L 58.015625 25.390625 \n",
       "L 58.015625 17.1875 \n",
       "L 47.609375 17.1875 \n",
       "L 47.609375 0 \n",
       "L 37.796875 0 \n",
       "L 37.796875 17.1875 \n",
       "L 4.890625 17.1875 \n",
       "L 4.890625 26.703125 \n",
       "z\n",
       "\" id=\"DejaVuSans-52\"/>\n",
       "       </defs>\n",
       "       <use xlink:href=\"#DejaVuSans-52\"/>\n",
       "      </g>\n",
       "     </g>\n",
       "    </g>\n",
       "    <g id=\"xtick_3\">\n",
       "     <g id=\"line2d_5\">\n",
       "      <path clip-path=\"url(#p6e901a692c)\" d=\"M 138.603125 145.8 \n",
       "L 138.603125 7.2 \n",
       "\" style=\"fill:none;stroke:#b0b0b0;stroke-linecap:square;stroke-width:0.8;\"/>\n",
       "     </g>\n",
       "     <g id=\"line2d_6\">\n",
       "      <g>\n",
       "       <use style=\"stroke:#000000;stroke-width:0.8;\" x=\"138.603125\" xlink:href=\"#mb3aaf29200\" y=\"145.8\"/>\n",
       "      </g>\n",
       "     </g>\n",
       "     <g id=\"text_3\">\n",
       "      <!-- 6 -->\n",
       "      <g transform=\"translate(135.421875 160.398438)scale(0.1 -0.1)\">\n",
       "       <defs>\n",
       "        <path d=\"M 33.015625 40.375 \n",
       "Q 26.375 40.375 22.484375 35.828125 \n",
       "Q 18.609375 31.296875 18.609375 23.390625 \n",
       "Q 18.609375 15.53125 22.484375 10.953125 \n",
       "Q 26.375 6.390625 33.015625 6.390625 \n",
       "Q 39.65625 6.390625 43.53125 10.953125 \n",
       "Q 47.40625 15.53125 47.40625 23.390625 \n",
       "Q 47.40625 31.296875 43.53125 35.828125 \n",
       "Q 39.65625 40.375 33.015625 40.375 \n",
       "z\n",
       "M 52.59375 71.296875 \n",
       "L 52.59375 62.3125 \n",
       "Q 48.875 64.0625 45.09375 64.984375 \n",
       "Q 41.3125 65.921875 37.59375 65.921875 \n",
       "Q 27.828125 65.921875 22.671875 59.328125 \n",
       "Q 17.53125 52.734375 16.796875 39.40625 \n",
       "Q 19.671875 43.65625 24.015625 45.921875 \n",
       "Q 28.375 48.1875 33.59375 48.1875 \n",
       "Q 44.578125 48.1875 50.953125 41.515625 \n",
       "Q 57.328125 34.859375 57.328125 23.390625 \n",
       "Q 57.328125 12.15625 50.6875 5.359375 \n",
       "Q 44.046875 -1.421875 33.015625 -1.421875 \n",
       "Q 20.359375 -1.421875 13.671875 8.265625 \n",
       "Q 6.984375 17.96875 6.984375 36.375 \n",
       "Q 6.984375 53.65625 15.1875 63.9375 \n",
       "Q 23.390625 74.21875 37.203125 74.21875 \n",
       "Q 40.921875 74.21875 44.703125 73.484375 \n",
       "Q 48.484375 72.75 52.59375 71.296875 \n",
       "z\n",
       "\" id=\"DejaVuSans-54\"/>\n",
       "       </defs>\n",
       "       <use xlink:href=\"#DejaVuSans-54\"/>\n",
       "      </g>\n",
       "     </g>\n",
       "    </g>\n",
       "    <g id=\"xtick_4\">\n",
       "     <g id=\"line2d_7\">\n",
       "      <path clip-path=\"url(#p6e901a692c)\" d=\"M 182.003125 145.8 \n",
       "L 182.003125 7.2 \n",
       "\" style=\"fill:none;stroke:#b0b0b0;stroke-linecap:square;stroke-width:0.8;\"/>\n",
       "     </g>\n",
       "     <g id=\"line2d_8\">\n",
       "      <g>\n",
       "       <use style=\"stroke:#000000;stroke-width:0.8;\" x=\"182.003125\" xlink:href=\"#mb3aaf29200\" y=\"145.8\"/>\n",
       "      </g>\n",
       "     </g>\n",
       "     <g id=\"text_4\">\n",
       "      <!-- 8 -->\n",
       "      <g transform=\"translate(178.821875 160.398438)scale(0.1 -0.1)\">\n",
       "       <defs>\n",
       "        <path d=\"M 31.78125 34.625 \n",
       "Q 24.75 34.625 20.71875 30.859375 \n",
       "Q 16.703125 27.09375 16.703125 20.515625 \n",
       "Q 16.703125 13.921875 20.71875 10.15625 \n",
       "Q 24.75 6.390625 31.78125 6.390625 \n",
       "Q 38.8125 6.390625 42.859375 10.171875 \n",
       "Q 46.921875 13.96875 46.921875 20.515625 \n",
       "Q 46.921875 27.09375 42.890625 30.859375 \n",
       "Q 38.875 34.625 31.78125 34.625 \n",
       "z\n",
       "M 21.921875 38.8125 \n",
       "Q 15.578125 40.375 12.03125 44.71875 \n",
       "Q 8.5 49.078125 8.5 55.328125 \n",
       "Q 8.5 64.0625 14.71875 69.140625 \n",
       "Q 20.953125 74.21875 31.78125 74.21875 \n",
       "Q 42.671875 74.21875 48.875 69.140625 \n",
       "Q 55.078125 64.0625 55.078125 55.328125 \n",
       "Q 55.078125 49.078125 51.53125 44.71875 \n",
       "Q 48 40.375 41.703125 38.8125 \n",
       "Q 48.828125 37.15625 52.796875 32.3125 \n",
       "Q 56.78125 27.484375 56.78125 20.515625 \n",
       "Q 56.78125 9.90625 50.3125 4.234375 \n",
       "Q 43.84375 -1.421875 31.78125 -1.421875 \n",
       "Q 19.734375 -1.421875 13.25 4.234375 \n",
       "Q 6.78125 9.90625 6.78125 20.515625 \n",
       "Q 6.78125 27.484375 10.78125 32.3125 \n",
       "Q 14.796875 37.15625 21.921875 38.8125 \n",
       "z\n",
       "M 18.3125 54.390625 \n",
       "Q 18.3125 48.734375 21.84375 45.5625 \n",
       "Q 25.390625 42.390625 31.78125 42.390625 \n",
       "Q 38.140625 42.390625 41.71875 45.5625 \n",
       "Q 45.3125 48.734375 45.3125 54.390625 \n",
       "Q 45.3125 60.0625 41.71875 63.234375 \n",
       "Q 38.140625 66.40625 31.78125 66.40625 \n",
       "Q 25.390625 66.40625 21.84375 63.234375 \n",
       "Q 18.3125 60.0625 18.3125 54.390625 \n",
       "z\n",
       "\" id=\"DejaVuSans-56\"/>\n",
       "       </defs>\n",
       "       <use xlink:href=\"#DejaVuSans-56\"/>\n",
       "      </g>\n",
       "     </g>\n",
       "    </g>\n",
       "    <g id=\"xtick_5\">\n",
       "     <g id=\"line2d_9\">\n",
       "      <path clip-path=\"url(#p6e901a692c)\" d=\"M 225.403125 145.8 \n",
       "L 225.403125 7.2 \n",
       "\" style=\"fill:none;stroke:#b0b0b0;stroke-linecap:square;stroke-width:0.8;\"/>\n",
       "     </g>\n",
       "     <g id=\"line2d_10\">\n",
       "      <g>\n",
       "       <use style=\"stroke:#000000;stroke-width:0.8;\" x=\"225.403125\" xlink:href=\"#mb3aaf29200\" y=\"145.8\"/>\n",
       "      </g>\n",
       "     </g>\n",
       "     <g id=\"text_5\">\n",
       "      <!-- 10 -->\n",
       "      <g transform=\"translate(219.040625 160.398438)scale(0.1 -0.1)\">\n",
       "       <defs>\n",
       "        <path d=\"M 12.40625 8.296875 \n",
       "L 28.515625 8.296875 \n",
       "L 28.515625 63.921875 \n",
       "L 10.984375 60.40625 \n",
       "L 10.984375 69.390625 \n",
       "L 28.421875 72.90625 \n",
       "L 38.28125 72.90625 \n",
       "L 38.28125 8.296875 \n",
       "L 54.390625 8.296875 \n",
       "L 54.390625 0 \n",
       "L 12.40625 0 \n",
       "z\n",
       "\" id=\"DejaVuSans-49\"/>\n",
       "        <path d=\"M 31.78125 66.40625 \n",
       "Q 24.171875 66.40625 20.328125 58.90625 \n",
       "Q 16.5 51.421875 16.5 36.375 \n",
       "Q 16.5 21.390625 20.328125 13.890625 \n",
       "Q 24.171875 6.390625 31.78125 6.390625 \n",
       "Q 39.453125 6.390625 43.28125 13.890625 \n",
       "Q 47.125 21.390625 47.125 36.375 \n",
       "Q 47.125 51.421875 43.28125 58.90625 \n",
       "Q 39.453125 66.40625 31.78125 66.40625 \n",
       "z\n",
       "M 31.78125 74.21875 \n",
       "Q 44.046875 74.21875 50.515625 64.515625 \n",
       "Q 56.984375 54.828125 56.984375 36.375 \n",
       "Q 56.984375 17.96875 50.515625 8.265625 \n",
       "Q 44.046875 -1.421875 31.78125 -1.421875 \n",
       "Q 19.53125 -1.421875 13.0625 8.265625 \n",
       "Q 6.59375 17.96875 6.59375 36.375 \n",
       "Q 6.59375 54.828125 13.0625 64.515625 \n",
       "Q 19.53125 74.21875 31.78125 74.21875 \n",
       "z\n",
       "\" id=\"DejaVuSans-48\"/>\n",
       "       </defs>\n",
       "       <use xlink:href=\"#DejaVuSans-49\"/>\n",
       "       <use x=\"63.623047\" xlink:href=\"#DejaVuSans-48\"/>\n",
       "      </g>\n",
       "     </g>\n",
       "    </g>\n",
       "    <g id=\"text_6\">\n",
       "     <!-- epoch -->\n",
       "     <g transform=\"translate(112.525 174.076563)scale(0.1 -0.1)\">\n",
       "      <defs>\n",
       "       <path d=\"M 56.203125 29.59375 \n",
       "L 56.203125 25.203125 \n",
       "L 14.890625 25.203125 \n",
       "Q 15.484375 15.921875 20.484375 11.0625 \n",
       "Q 25.484375 6.203125 34.421875 6.203125 \n",
       "Q 39.59375 6.203125 44.453125 7.46875 \n",
       "Q 49.3125 8.734375 54.109375 11.28125 \n",
       "L 54.109375 2.78125 \n",
       "Q 49.265625 0.734375 44.1875 -0.34375 \n",
       "Q 39.109375 -1.421875 33.890625 -1.421875 \n",
       "Q 20.796875 -1.421875 13.15625 6.1875 \n",
       "Q 5.515625 13.8125 5.515625 26.8125 \n",
       "Q 5.515625 40.234375 12.765625 48.109375 \n",
       "Q 20.015625 56 32.328125 56 \n",
       "Q 43.359375 56 49.78125 48.890625 \n",
       "Q 56.203125 41.796875 56.203125 29.59375 \n",
       "z\n",
       "M 47.21875 32.234375 \n",
       "Q 47.125 39.59375 43.09375 43.984375 \n",
       "Q 39.0625 48.390625 32.421875 48.390625 \n",
       "Q 24.90625 48.390625 20.390625 44.140625 \n",
       "Q 15.875 39.890625 15.1875 32.171875 \n",
       "z\n",
       "\" id=\"DejaVuSans-101\"/>\n",
       "       <path d=\"M 18.109375 8.203125 \n",
       "L 18.109375 -20.796875 \n",
       "L 9.078125 -20.796875 \n",
       "L 9.078125 54.6875 \n",
       "L 18.109375 54.6875 \n",
       "L 18.109375 46.390625 \n",
       "Q 20.953125 51.265625 25.265625 53.625 \n",
       "Q 29.59375 56 35.59375 56 \n",
       "Q 45.5625 56 51.78125 48.09375 \n",
       "Q 58.015625 40.1875 58.015625 27.296875 \n",
       "Q 58.015625 14.40625 51.78125 6.484375 \n",
       "Q 45.5625 -1.421875 35.59375 -1.421875 \n",
       "Q 29.59375 -1.421875 25.265625 0.953125 \n",
       "Q 20.953125 3.328125 18.109375 8.203125 \n",
       "z\n",
       "M 48.6875 27.296875 \n",
       "Q 48.6875 37.203125 44.609375 42.84375 \n",
       "Q 40.53125 48.484375 33.40625 48.484375 \n",
       "Q 26.265625 48.484375 22.1875 42.84375 \n",
       "Q 18.109375 37.203125 18.109375 27.296875 \n",
       "Q 18.109375 17.390625 22.1875 11.75 \n",
       "Q 26.265625 6.109375 33.40625 6.109375 \n",
       "Q 40.53125 6.109375 44.609375 11.75 \n",
       "Q 48.6875 17.390625 48.6875 27.296875 \n",
       "z\n",
       "\" id=\"DejaVuSans-112\"/>\n",
       "       <path d=\"M 30.609375 48.390625 \n",
       "Q 23.390625 48.390625 19.1875 42.75 \n",
       "Q 14.984375 37.109375 14.984375 27.296875 \n",
       "Q 14.984375 17.484375 19.15625 11.84375 \n",
       "Q 23.34375 6.203125 30.609375 6.203125 \n",
       "Q 37.796875 6.203125 41.984375 11.859375 \n",
       "Q 46.1875 17.53125 46.1875 27.296875 \n",
       "Q 46.1875 37.015625 41.984375 42.703125 \n",
       "Q 37.796875 48.390625 30.609375 48.390625 \n",
       "z\n",
       "M 30.609375 56 \n",
       "Q 42.328125 56 49.015625 48.375 \n",
       "Q 55.71875 40.765625 55.71875 27.296875 \n",
       "Q 55.71875 13.875 49.015625 6.21875 \n",
       "Q 42.328125 -1.421875 30.609375 -1.421875 \n",
       "Q 18.84375 -1.421875 12.171875 6.21875 \n",
       "Q 5.515625 13.875 5.515625 27.296875 \n",
       "Q 5.515625 40.765625 12.171875 48.375 \n",
       "Q 18.84375 56 30.609375 56 \n",
       "z\n",
       "\" id=\"DejaVuSans-111\"/>\n",
       "       <path d=\"M 48.78125 52.59375 \n",
       "L 48.78125 44.1875 \n",
       "Q 44.96875 46.296875 41.140625 47.34375 \n",
       "Q 37.3125 48.390625 33.40625 48.390625 \n",
       "Q 24.65625 48.390625 19.8125 42.84375 \n",
       "Q 14.984375 37.3125 14.984375 27.296875 \n",
       "Q 14.984375 17.28125 19.8125 11.734375 \n",
       "Q 24.65625 6.203125 33.40625 6.203125 \n",
       "Q 37.3125 6.203125 41.140625 7.25 \n",
       "Q 44.96875 8.296875 48.78125 10.40625 \n",
       "L 48.78125 2.09375 \n",
       "Q 45.015625 0.34375 40.984375 -0.53125 \n",
       "Q 36.96875 -1.421875 32.421875 -1.421875 \n",
       "Q 20.0625 -1.421875 12.78125 6.34375 \n",
       "Q 5.515625 14.109375 5.515625 27.296875 \n",
       "Q 5.515625 40.671875 12.859375 48.328125 \n",
       "Q 20.21875 56 33.015625 56 \n",
       "Q 37.15625 56 41.109375 55.140625 \n",
       "Q 45.0625 54.296875 48.78125 52.59375 \n",
       "z\n",
       "\" id=\"DejaVuSans-99\"/>\n",
       "       <path d=\"M 54.890625 33.015625 \n",
       "L 54.890625 0 \n",
       "L 45.90625 0 \n",
       "L 45.90625 32.71875 \n",
       "Q 45.90625 40.484375 42.875 44.328125 \n",
       "Q 39.84375 48.1875 33.796875 48.1875 \n",
       "Q 26.515625 48.1875 22.3125 43.546875 \n",
       "Q 18.109375 38.921875 18.109375 30.90625 \n",
       "L 18.109375 0 \n",
       "L 9.078125 0 \n",
       "L 9.078125 75.984375 \n",
       "L 18.109375 75.984375 \n",
       "L 18.109375 46.1875 \n",
       "Q 21.34375 51.125 25.703125 53.5625 \n",
       "Q 30.078125 56 35.796875 56 \n",
       "Q 45.21875 56 50.046875 50.171875 \n",
       "Q 54.890625 44.34375 54.890625 33.015625 \n",
       "z\n",
       "\" id=\"DejaVuSans-104\"/>\n",
       "      </defs>\n",
       "      <use xlink:href=\"#DejaVuSans-101\"/>\n",
       "      <use x=\"61.523438\" xlink:href=\"#DejaVuSans-112\"/>\n",
       "      <use x=\"125\" xlink:href=\"#DejaVuSans-111\"/>\n",
       "      <use x=\"186.181641\" xlink:href=\"#DejaVuSans-99\"/>\n",
       "      <use x=\"241.162109\" xlink:href=\"#DejaVuSans-104\"/>\n",
       "     </g>\n",
       "    </g>\n",
       "   </g>\n",
       "   <g id=\"matplotlib.axis_2\">\n",
       "    <g id=\"ytick_1\">\n",
       "     <g id=\"line2d_11\">\n",
       "      <path clip-path=\"url(#p6e901a692c)\" d=\"M 30.103125 122.7 \n",
       "L 225.403125 122.7 \n",
       "\" style=\"fill:none;stroke:#b0b0b0;stroke-linecap:square;stroke-width:0.8;\"/>\n",
       "     </g>\n",
       "     <g id=\"line2d_12\">\n",
       "      <defs>\n",
       "       <path d=\"M 0 0 \n",
       "L -3.5 0 \n",
       "\" id=\"m3cf67c97fa\" style=\"stroke:#000000;stroke-width:0.8;\"/>\n",
       "      </defs>\n",
       "      <g>\n",
       "       <use style=\"stroke:#000000;stroke-width:0.8;\" x=\"30.103125\" xlink:href=\"#m3cf67c97fa\" y=\"122.7\"/>\n",
       "      </g>\n",
       "     </g>\n",
       "     <g id=\"text_7\">\n",
       "      <!-- 0.4 -->\n",
       "      <g transform=\"translate(7.2 126.499219)scale(0.1 -0.1)\">\n",
       "       <defs>\n",
       "        <path d=\"M 10.6875 12.40625 \n",
       "L 21 12.40625 \n",
       "L 21 0 \n",
       "L 10.6875 0 \n",
       "z\n",
       "\" id=\"DejaVuSans-46\"/>\n",
       "       </defs>\n",
       "       <use xlink:href=\"#DejaVuSans-48\"/>\n",
       "       <use x=\"63.623047\" xlink:href=\"#DejaVuSans-46\"/>\n",
       "       <use x=\"95.410156\" xlink:href=\"#DejaVuSans-52\"/>\n",
       "      </g>\n",
       "     </g>\n",
       "    </g>\n",
       "    <g id=\"ytick_2\">\n",
       "     <g id=\"line2d_13\">\n",
       "      <path clip-path=\"url(#p6e901a692c)\" d=\"M 30.103125 76.5 \n",
       "L 225.403125 76.5 \n",
       "\" style=\"fill:none;stroke:#b0b0b0;stroke-linecap:square;stroke-width:0.8;\"/>\n",
       "     </g>\n",
       "     <g id=\"line2d_14\">\n",
       "      <g>\n",
       "       <use style=\"stroke:#000000;stroke-width:0.8;\" x=\"30.103125\" xlink:href=\"#m3cf67c97fa\" y=\"76.5\"/>\n",
       "      </g>\n",
       "     </g>\n",
       "     <g id=\"text_8\">\n",
       "      <!-- 0.6 -->\n",
       "      <g transform=\"translate(7.2 80.299219)scale(0.1 -0.1)\">\n",
       "       <use xlink:href=\"#DejaVuSans-48\"/>\n",
       "       <use x=\"63.623047\" xlink:href=\"#DejaVuSans-46\"/>\n",
       "       <use x=\"95.410156\" xlink:href=\"#DejaVuSans-54\"/>\n",
       "      </g>\n",
       "     </g>\n",
       "    </g>\n",
       "    <g id=\"ytick_3\">\n",
       "     <g id=\"line2d_15\">\n",
       "      <path clip-path=\"url(#p6e901a692c)\" d=\"M 30.103125 30.3 \n",
       "L 225.403125 30.3 \n",
       "\" style=\"fill:none;stroke:#b0b0b0;stroke-linecap:square;stroke-width:0.8;\"/>\n",
       "     </g>\n",
       "     <g id=\"line2d_16\">\n",
       "      <g>\n",
       "       <use style=\"stroke:#000000;stroke-width:0.8;\" x=\"30.103125\" xlink:href=\"#m3cf67c97fa\" y=\"30.3\"/>\n",
       "      </g>\n",
       "     </g>\n",
       "     <g id=\"text_9\">\n",
       "      <!-- 0.8 -->\n",
       "      <g transform=\"translate(7.2 34.099219)scale(0.1 -0.1)\">\n",
       "       <use xlink:href=\"#DejaVuSans-48\"/>\n",
       "       <use x=\"63.623047\" xlink:href=\"#DejaVuSans-46\"/>\n",
       "       <use x=\"95.410156\" xlink:href=\"#DejaVuSans-56\"/>\n",
       "      </g>\n",
       "     </g>\n",
       "    </g>\n",
       "   </g>\n",
       "   <g id=\"line2d_17\">\n",
       "    <path clip-path=\"url(#p6e901a692c)\" d=\"M 30.103125 35.792904 \n",
       "L 51.803125 83.789011 \n",
       "L 73.503125 94.07725 \n",
       "L 95.203125 99.426084 \n",
       "L 116.903125 102.906691 \n",
       "L 138.603125 105.777342 \n",
       "L 160.303125 107.524029 \n",
       "L 182.003125 109.28241 \n",
       "L 203.703125 110.663987 \n",
       "L 225.403125 111.787011 \n",
       "\" style=\"fill:none;stroke:#1f77b4;stroke-linecap:square;stroke-width:1.5;\"/>\n",
       "   </g>\n",
       "   <g id=\"line2d_18\">\n",
       "    <path clip-path=\"url(#p6e901a692c)\" d=\"M 30.103125 40.62955 \n",
       "L 51.803125 27.0814 \n",
       "L 73.503125 24.3248 \n",
       "L 95.203125 22.53455 \n",
       "L 116.903125 21.68755 \n",
       "L 138.603125 20.80975 \n",
       "L 160.303125 20.52485 \n",
       "L 182.003125 19.8896 \n",
       "L 203.703125 19.44685 \n",
       "L 225.403125 19.26205 \n",
       "\" style=\"fill:none;stroke:#bf00bf;stroke-dasharray:5.55,2.4;stroke-dashoffset:0;stroke-width:1.5;\"/>\n",
       "   </g>\n",
       "   <g id=\"line2d_19\">\n",
       "    <path clip-path=\"url(#p6e901a692c)\" style=\"fill:none;stroke:#008000;stroke-dasharray:9.6,2.4,1.5,2.4;stroke-dashoffset:0;stroke-width:1.5;\"/>\n",
       "   </g>\n",
       "   <g id=\"patch_3\">\n",
       "    <path d=\"M 30.103125 145.8 \n",
       "L 30.103125 7.2 \n",
       "\" style=\"fill:none;stroke:#000000;stroke-linecap:square;stroke-linejoin:miter;stroke-width:0.8;\"/>\n",
       "   </g>\n",
       "   <g id=\"patch_4\">\n",
       "    <path d=\"M 225.403125 145.8 \n",
       "L 225.403125 7.2 \n",
       "\" style=\"fill:none;stroke:#000000;stroke-linecap:square;stroke-linejoin:miter;stroke-width:0.8;\"/>\n",
       "   </g>\n",
       "   <g id=\"patch_5\">\n",
       "    <path d=\"M 30.103125 145.8 \n",
       "L 225.403125 145.8 \n",
       "\" style=\"fill:none;stroke:#000000;stroke-linecap:square;stroke-linejoin:miter;stroke-width:0.8;\"/>\n",
       "   </g>\n",
       "   <g id=\"patch_6\">\n",
       "    <path d=\"M 30.103125 7.2 \n",
       "L 225.403125 7.2 \n",
       "\" style=\"fill:none;stroke:#000000;stroke-linecap:square;stroke-linejoin:miter;stroke-width:0.8;\"/>\n",
       "   </g>\n",
       "   <g id=\"legend_1\">\n",
       "    <g id=\"patch_7\">\n",
       "     <path d=\"M 140.634375 100.017188 \n",
       "L 218.403125 100.017188 \n",
       "Q 220.403125 100.017188 220.403125 98.017188 \n",
       "L 220.403125 54.982812 \n",
       "Q 220.403125 52.982812 218.403125 52.982812 \n",
       "L 140.634375 52.982812 \n",
       "Q 138.634375 52.982812 138.634375 54.982812 \n",
       "L 138.634375 98.017188 \n",
       "Q 138.634375 100.017188 140.634375 100.017188 \n",
       "z\n",
       "\" style=\"fill:#ffffff;opacity:0.8;stroke:#cccccc;stroke-linejoin:miter;\"/>\n",
       "    </g>\n",
       "    <g id=\"line2d_20\">\n",
       "     <path d=\"M 142.634375 61.08125 \n",
       "L 162.634375 61.08125 \n",
       "\" style=\"fill:none;stroke:#1f77b4;stroke-linecap:square;stroke-width:1.5;\"/>\n",
       "    </g>\n",
       "    <g id=\"line2d_21\"/>\n",
       "    <g id=\"text_10\">\n",
       "     <!-- train loss -->\n",
       "     <g transform=\"translate(170.634375 64.58125)scale(0.1 -0.1)\">\n",
       "      <defs>\n",
       "       <path d=\"M 18.3125 70.21875 \n",
       "L 18.3125 54.6875 \n",
       "L 36.8125 54.6875 \n",
       "L 36.8125 47.703125 \n",
       "L 18.3125 47.703125 \n",
       "L 18.3125 18.015625 \n",
       "Q 18.3125 11.328125 20.140625 9.421875 \n",
       "Q 21.96875 7.515625 27.59375 7.515625 \n",
       "L 36.8125 7.515625 \n",
       "L 36.8125 0 \n",
       "L 27.59375 0 \n",
       "Q 17.1875 0 13.234375 3.875 \n",
       "Q 9.28125 7.765625 9.28125 18.015625 \n",
       "L 9.28125 47.703125 \n",
       "L 2.6875 47.703125 \n",
       "L 2.6875 54.6875 \n",
       "L 9.28125 54.6875 \n",
       "L 9.28125 70.21875 \n",
       "z\n",
       "\" id=\"DejaVuSans-116\"/>\n",
       "       <path d=\"M 41.109375 46.296875 \n",
       "Q 39.59375 47.171875 37.8125 47.578125 \n",
       "Q 36.03125 48 33.890625 48 \n",
       "Q 26.265625 48 22.1875 43.046875 \n",
       "Q 18.109375 38.09375 18.109375 28.8125 \n",
       "L 18.109375 0 \n",
       "L 9.078125 0 \n",
       "L 9.078125 54.6875 \n",
       "L 18.109375 54.6875 \n",
       "L 18.109375 46.1875 \n",
       "Q 20.953125 51.171875 25.484375 53.578125 \n",
       "Q 30.03125 56 36.53125 56 \n",
       "Q 37.453125 56 38.578125 55.875 \n",
       "Q 39.703125 55.765625 41.0625 55.515625 \n",
       "z\n",
       "\" id=\"DejaVuSans-114\"/>\n",
       "       <path d=\"M 34.28125 27.484375 \n",
       "Q 23.390625 27.484375 19.1875 25 \n",
       "Q 14.984375 22.515625 14.984375 16.5 \n",
       "Q 14.984375 11.71875 18.140625 8.90625 \n",
       "Q 21.296875 6.109375 26.703125 6.109375 \n",
       "Q 34.1875 6.109375 38.703125 11.40625 \n",
       "Q 43.21875 16.703125 43.21875 25.484375 \n",
       "L 43.21875 27.484375 \n",
       "z\n",
       "M 52.203125 31.203125 \n",
       "L 52.203125 0 \n",
       "L 43.21875 0 \n",
       "L 43.21875 8.296875 \n",
       "Q 40.140625 3.328125 35.546875 0.953125 \n",
       "Q 30.953125 -1.421875 24.3125 -1.421875 \n",
       "Q 15.921875 -1.421875 10.953125 3.296875 \n",
       "Q 6 8.015625 6 15.921875 \n",
       "Q 6 25.140625 12.171875 29.828125 \n",
       "Q 18.359375 34.515625 30.609375 34.515625 \n",
       "L 43.21875 34.515625 \n",
       "L 43.21875 35.40625 \n",
       "Q 43.21875 41.609375 39.140625 45 \n",
       "Q 35.0625 48.390625 27.6875 48.390625 \n",
       "Q 23 48.390625 18.546875 47.265625 \n",
       "Q 14.109375 46.140625 10.015625 43.890625 \n",
       "L 10.015625 52.203125 \n",
       "Q 14.9375 54.109375 19.578125 55.046875 \n",
       "Q 24.21875 56 28.609375 56 \n",
       "Q 40.484375 56 46.34375 49.84375 \n",
       "Q 52.203125 43.703125 52.203125 31.203125 \n",
       "z\n",
       "\" id=\"DejaVuSans-97\"/>\n",
       "       <path d=\"M 9.421875 54.6875 \n",
       "L 18.40625 54.6875 \n",
       "L 18.40625 0 \n",
       "L 9.421875 0 \n",
       "z\n",
       "M 9.421875 75.984375 \n",
       "L 18.40625 75.984375 \n",
       "L 18.40625 64.59375 \n",
       "L 9.421875 64.59375 \n",
       "z\n",
       "\" id=\"DejaVuSans-105\"/>\n",
       "       <path d=\"M 54.890625 33.015625 \n",
       "L 54.890625 0 \n",
       "L 45.90625 0 \n",
       "L 45.90625 32.71875 \n",
       "Q 45.90625 40.484375 42.875 44.328125 \n",
       "Q 39.84375 48.1875 33.796875 48.1875 \n",
       "Q 26.515625 48.1875 22.3125 43.546875 \n",
       "Q 18.109375 38.921875 18.109375 30.90625 \n",
       "L 18.109375 0 \n",
       "L 9.078125 0 \n",
       "L 9.078125 54.6875 \n",
       "L 18.109375 54.6875 \n",
       "L 18.109375 46.1875 \n",
       "Q 21.34375 51.125 25.703125 53.5625 \n",
       "Q 30.078125 56 35.796875 56 \n",
       "Q 45.21875 56 50.046875 50.171875 \n",
       "Q 54.890625 44.34375 54.890625 33.015625 \n",
       "z\n",
       "\" id=\"DejaVuSans-110\"/>\n",
       "       <path id=\"DejaVuSans-32\"/>\n",
       "       <path d=\"M 9.421875 75.984375 \n",
       "L 18.40625 75.984375 \n",
       "L 18.40625 0 \n",
       "L 9.421875 0 \n",
       "z\n",
       "\" id=\"DejaVuSans-108\"/>\n",
       "       <path d=\"M 44.28125 53.078125 \n",
       "L 44.28125 44.578125 \n",
       "Q 40.484375 46.53125 36.375 47.5 \n",
       "Q 32.28125 48.484375 27.875 48.484375 \n",
       "Q 21.1875 48.484375 17.84375 46.4375 \n",
       "Q 14.5 44.390625 14.5 40.28125 \n",
       "Q 14.5 37.15625 16.890625 35.375 \n",
       "Q 19.28125 33.59375 26.515625 31.984375 \n",
       "L 29.59375 31.296875 \n",
       "Q 39.15625 29.25 43.1875 25.515625 \n",
       "Q 47.21875 21.78125 47.21875 15.09375 \n",
       "Q 47.21875 7.46875 41.1875 3.015625 \n",
       "Q 35.15625 -1.421875 24.609375 -1.421875 \n",
       "Q 20.21875 -1.421875 15.453125 -0.5625 \n",
       "Q 10.6875 0.296875 5.421875 2 \n",
       "L 5.421875 11.28125 \n",
       "Q 10.40625 8.6875 15.234375 7.390625 \n",
       "Q 20.0625 6.109375 24.8125 6.109375 \n",
       "Q 31.15625 6.109375 34.5625 8.28125 \n",
       "Q 37.984375 10.453125 37.984375 14.40625 \n",
       "Q 37.984375 18.0625 35.515625 20.015625 \n",
       "Q 33.0625 21.96875 24.703125 23.78125 \n",
       "L 21.578125 24.515625 \n",
       "Q 13.234375 26.265625 9.515625 29.90625 \n",
       "Q 5.8125 33.546875 5.8125 39.890625 \n",
       "Q 5.8125 47.609375 11.28125 51.796875 \n",
       "Q 16.75 56 26.8125 56 \n",
       "Q 31.78125 56 36.171875 55.265625 \n",
       "Q 40.578125 54.546875 44.28125 53.078125 \n",
       "z\n",
       "\" id=\"DejaVuSans-115\"/>\n",
       "      </defs>\n",
       "      <use xlink:href=\"#DejaVuSans-116\"/>\n",
       "      <use x=\"39.208984\" xlink:href=\"#DejaVuSans-114\"/>\n",
       "      <use x=\"80.322266\" xlink:href=\"#DejaVuSans-97\"/>\n",
       "      <use x=\"141.601562\" xlink:href=\"#DejaVuSans-105\"/>\n",
       "      <use x=\"169.384766\" xlink:href=\"#DejaVuSans-110\"/>\n",
       "      <use x=\"232.763672\" xlink:href=\"#DejaVuSans-32\"/>\n",
       "      <use x=\"264.550781\" xlink:href=\"#DejaVuSans-108\"/>\n",
       "      <use x=\"292.333984\" xlink:href=\"#DejaVuSans-111\"/>\n",
       "      <use x=\"353.515625\" xlink:href=\"#DejaVuSans-115\"/>\n",
       "      <use x=\"405.615234\" xlink:href=\"#DejaVuSans-115\"/>\n",
       "     </g>\n",
       "    </g>\n",
       "    <g id=\"line2d_22\">\n",
       "     <path d=\"M 142.634375 75.759375 \n",
       "L 162.634375 75.759375 \n",
       "\" style=\"fill:none;stroke:#bf00bf;stroke-dasharray:5.55,2.4;stroke-dashoffset:0;stroke-width:1.5;\"/>\n",
       "    </g>\n",
       "    <g id=\"line2d_23\"/>\n",
       "    <g id=\"text_11\">\n",
       "     <!-- train acc -->\n",
       "     <g transform=\"translate(170.634375 79.259375)scale(0.1 -0.1)\">\n",
       "      <use xlink:href=\"#DejaVuSans-116\"/>\n",
       "      <use x=\"39.208984\" xlink:href=\"#DejaVuSans-114\"/>\n",
       "      <use x=\"80.322266\" xlink:href=\"#DejaVuSans-97\"/>\n",
       "      <use x=\"141.601562\" xlink:href=\"#DejaVuSans-105\"/>\n",
       "      <use x=\"169.384766\" xlink:href=\"#DejaVuSans-110\"/>\n",
       "      <use x=\"232.763672\" xlink:href=\"#DejaVuSans-32\"/>\n",
       "      <use x=\"264.550781\" xlink:href=\"#DejaVuSans-97\"/>\n",
       "      <use x=\"325.830078\" xlink:href=\"#DejaVuSans-99\"/>\n",
       "      <use x=\"380.810547\" xlink:href=\"#DejaVuSans-99\"/>\n",
       "     </g>\n",
       "    </g>\n",
       "    <g id=\"line2d_24\">\n",
       "     <path d=\"M 142.634375 90.4375 \n",
       "L 162.634375 90.4375 \n",
       "\" style=\"fill:none;stroke:#008000;stroke-dasharray:9.6,2.4,1.5,2.4;stroke-dashoffset:0;stroke-width:1.5;\"/>\n",
       "    </g>\n",
       "    <g id=\"line2d_25\"/>\n",
       "    <g id=\"text_12\">\n",
       "     <!-- test acc -->\n",
       "     <g transform=\"translate(170.634375 93.9375)scale(0.1 -0.1)\">\n",
       "      <use xlink:href=\"#DejaVuSans-116\"/>\n",
       "      <use x=\"39.208984\" xlink:href=\"#DejaVuSans-101\"/>\n",
       "      <use x=\"100.732422\" xlink:href=\"#DejaVuSans-115\"/>\n",
       "      <use x=\"152.832031\" xlink:href=\"#DejaVuSans-116\"/>\n",
       "      <use x=\"192.041016\" xlink:href=\"#DejaVuSans-32\"/>\n",
       "      <use x=\"223.828125\" xlink:href=\"#DejaVuSans-97\"/>\n",
       "      <use x=\"285.107422\" xlink:href=\"#DejaVuSans-99\"/>\n",
       "      <use x=\"340.087891\" xlink:href=\"#DejaVuSans-99\"/>\n",
       "     </g>\n",
       "    </g>\n",
       "   </g>\n",
       "  </g>\n",
       " </g>\n",
       " <defs>\n",
       "  <clipPath id=\"p6e901a692c\">\n",
       "   <rect height=\"138.6\" width=\"195.3\" x=\"30.103125\" y=\"7.2\"/>\n",
       "  </clipPath>\n",
       " </defs>\n",
       "</svg>\n"
      ],
      "text/plain": [
       "<Figure size 350x250 with 1 Axes>"
      ]
     },
     "metadata": {},
     "output_type": "display_data"
    }
   ],
   "source": [
    "num_epochs = 10\n",
    "train_ch3(net, train_iter, test_iter, cross_entropy, num_epochs, updater)"
   ]
  },
  {
   "cell_type": "markdown",
   "id": "764baf14",
   "metadata": {
    "origin_pos": 56
   },
   "source": [
    "## 预测\n",
    "\n",
    "现在训练已经完成，我们的模型已经准备好[**对图像进行分类预测**]。\n",
    "给定一系列图像，我们将比较它们的实际标签（文本输出的第一行）和模型预测（文本输出的第二行）。\n"
   ]
  },
  {
   "cell_type": "code",
   "execution_count": 99,
   "id": "519caa80",
   "metadata": {
    "origin_pos": 57,
    "tab": [
     "pytorch"
    ]
   },
   "outputs": [
    {
     "data": {
      "image/svg+xml": [
       "<?xml version=\"1.0\" encoding=\"utf-8\" standalone=\"no\"?>\n",
       "<!DOCTYPE svg PUBLIC \"-//W3C//DTD SVG 1.1//EN\"\n",
       "  \"http://www.w3.org/Graphics/SVG/1.1/DTD/svg11.dtd\">\n",
       "<!-- Created with matplotlib (https://matplotlib.org/) -->\n",
       "<svg height=\"118.198357pt\" version=\"1.1\" viewBox=\"0 0 520.1 118.198357\" width=\"520.1pt\" xmlns=\"http://www.w3.org/2000/svg\" xmlns:xlink=\"http://www.w3.org/1999/xlink\">\n",
       " <metadata>\n",
       "  <rdf:RDF xmlns:cc=\"http://creativecommons.org/ns#\" xmlns:dc=\"http://purl.org/dc/elements/1.1/\" xmlns:rdf=\"http://www.w3.org/1999/02/22-rdf-syntax-ns#\">\n",
       "   <cc:Work>\n",
       "    <dc:type rdf:resource=\"http://purl.org/dc/dcmitype/StillImage\"/>\n",
       "    <dc:date>2023-07-22T19:11:39.632476</dc:date>\n",
       "    <dc:format>image/svg+xml</dc:format>\n",
       "    <dc:creator>\n",
       "     <cc:Agent>\n",
       "      <dc:title>Matplotlib v3.3.2, https://matplotlib.org/</dc:title>\n",
       "     </cc:Agent>\n",
       "    </dc:creator>\n",
       "   </cc:Work>\n",
       "  </rdf:RDF>\n",
       " </metadata>\n",
       " <defs>\n",
       "  <style type=\"text/css\">*{stroke-linecap:butt;stroke-linejoin:round;}</style>\n",
       " </defs>\n",
       " <g id=\"figure_1\">\n",
       "  <g id=\"patch_1\">\n",
       "   <path d=\"M 0 118.198357 \n",
       "L 520.1 118.198357 \n",
       "L 520.1 0 \n",
       "L 0 0 \n",
       "z\n",
       "\" style=\"fill:#ffffff;\"/>\n",
       "  </g>\n",
       "  <g id=\"axes_1\">\n",
       "   <g id=\"patch_2\">\n",
       "    <path d=\"M 10.7 107.498357 \n",
       "L 82.442857 107.498357 \n",
       "L 82.442857 35.7555 \n",
       "L 10.7 35.7555 \n",
       "z\n",
       "\" style=\"fill:#ffffff;\"/>\n",
       "   </g>\n",
       "   <g clip-path=\"url(#p95dc2abd27)\">\n",
       "    <image height=\"72\" id=\"imagea58b9db9a6\" transform=\"scale(1 -1)translate(0 -72)\" width=\"72\" x=\"10.7\" xlink:href=\"data:image/png;base64,\n",
       "iVBORw0KGgoAAAANSUhEUgAAAGQAAABkCAYAAABw4pVUAAAGXUlEQVR4nO2dy2/UVRTH7+/3m2c7fdEHtrRQFQhR3IgQwBCNIhofKwluXBkTTYgrF+xN3KiJLvQ/8BHjQt0YExJCRBGj1iJQkZamlQDR0k4705nO4/dwd8/9Xpkfspj5ncX5rM6v33nc6Zl7zv2d+xjnsHM0Uh3GSaW0Hfk+iq6nzSsf7QEp+w89r2cBm90sOHAdPVnUdvlaL2g73vgppnHG60Qd/9cot+PvKMQiDmGGOIQZqTs/pLMsv7JP2z8//x5opzbGtH2ssAbadzV8nYwKtP3FxF7QLsY1IIG8YSI9hBniEGawC1l+Fw07LzZ6QLu0Ma7tD5oDoKWdQLWiHqbtv7R8bOyQvANID2GGOIQZ4hBmJJJDorD10LI62lqrGbnAzhn2tZk3hjNl0OZSXdQWK0/Eta0TSA9hhjiEGckMe6OwpdQcaj3UDCMaElfDDGg9Lt6qrwV5bfelqqC5A1u0HSwtgea49B4xzWwb0kOYIQ5hhjiEGexKJ/mBDW2vhl2gmTnEUzg8rYZZuF7zKYeMZ1bwTYaNsouVQ5RHM5ZKSieCOIQZCQ17W98N93bR8DWI8PsSGN8fe9ibdZtwXQ/po+Uc1BojBW17M1YDgtZV404gPYQZ4hBmiEOYwW7Y25+jYW/FyhO36hT7s278kNSPaPhai3DGsDJGr4tL6KTaK1iIQ5ghDmEGuxyypYsWwK0EBdB8477ED/G71DQWaSulVD2gj9aI8GOWJum5dg5JGukhzBCHMINdyOpJU+nEXuCWMYa6zQhD1LqP1V4T+7G14ZipwCSmCQ2khzBDHMIMcQgz2OWQkTQtarPL755DZQ3fyguh9dhQ0eyinYvCQrIl9jikhzBDHMIMdiFrPLOs7Su1UdACY5FDM8SQlXYxDBXrtECinM+BZi6k+A+ypU0wEYcwQxzCDHY5pN+jhdGrTVwo5xt5wx7m1q2cUjOqvUvWXsXJQVo4x20ALD2EGeIQZrALWaHxHTHvtu+Eb4WsyBgibwR4p25Ogv11tw1sM9JDmCEOYYY4hBnsckgpoDJHxloMlzLKI2kHZ/aa1jA4m6Lnug6WQ7pTrY/WSBrpIcwQhzBDHMIMdjlkqjKp7bgjl+ycYeeUnEebdLbll0E7t3KvcXXz7hvZRqSHMEMcwoxEQtbeaQpFn/5wELS5mYa23973FWgfl/Zr+7GhK6D9uHIfXF8r0dbnsTwemDmzQIdpjn2bB+3lrXTI8pcPDN+2/e1EeggzxCHMEIcwI5EcMlWc0HZucwU09xfasTH2aBG0QppKHps8fJ49gzjaU9L2M30XQDt38hFtTx7HYzc+v05aRi3e/gO0EekhzBCHMCORkHWzRGGprxsXrfW9P6vtwddR295NJ/ecr0yAtm9gAa5nqyPavtoYAa3vk3Pa3nUCT6K7tHSPtvFZnUF6CDPEIcwQhzAjkRxSnuvX9otPnQbtTJ1mDC83NoO2HtA+wunlcdDMhdhKKbV/eEHbRb+7ZVt25rDaWyof0LbkEEEcwo1EQlbvLIWX48emQDujqPq72BgCreDRnbrn4oRUEOBCuYKxkMHeFm3yRP4GXLs3ci0e2RmkhzBDHMIMcQgzEskhQ+dpD0jBxSMxvO20AGG6jIsTNmdpy3QzaJ0XlFKqaOwtWagMghYeor2Lfe6voPVejX3ZtiM9hBniEGaIQ5iRSA7xzlOJfS3E8vfSISp/P5yfA22+QvcldR+bvimPP9qy2qTVJINZnF38/jm616hGDdAKN+Rka8FAHMKMREJWWKXw8k1lG2i7X6Pfcv59bQtoXSkKLykPQ8tYNy6Gu7pG4c0uszx4YF7bn5W2g9Z9+Za2kwhe0kOYIQ5hhjiEGYnvD3n3jyNw/eyk/QsrxFKNDlYeeBNLJxcO7obrh16lXGTmE6WUco29JL+tbwUtmJ1XSSI9hBniEGYkHrKq61jtXaxu0vZqHfduqBOkuX9fB2nwIs70nT1JIWz8AD7WPG0u49mD25jT5jqA9BBmiEOYIQ5hRuI5JDeDeeLxPX9q+52TL4C2q0J7OYpP7wStZxGrxqNn6WiNazv6QTtyP73Hqa/3gDahzv6PVrcP6SHMEIcwwznsHE325GCLxbdobe34KTy1xztNi+qcFEbbKOaXncsv7YfrjWH6Ho58mGyIspEewgxxCDPEIcz4F/TosEjRr+VMAAAAAElFTkSuQmCC\" y=\"-35.498357\"/>\n",
       "   </g>\n",
       "   <g id=\"patch_3\">\n",
       "    <path d=\"M 10.7 107.498357 \n",
       "L 10.7 35.7555 \n",
       "\" style=\"fill:none;stroke:#000000;stroke-linecap:square;stroke-linejoin:miter;stroke-width:0.8;\"/>\n",
       "   </g>\n",
       "   <g id=\"patch_4\">\n",
       "    <path d=\"M 82.442857 107.498357 \n",
       "L 82.442857 35.7555 \n",
       "\" style=\"fill:none;stroke:#000000;stroke-linecap:square;stroke-linejoin:miter;stroke-width:0.8;\"/>\n",
       "   </g>\n",
       "   <g id=\"patch_5\">\n",
       "    <path d=\"M 10.7 107.498357 \n",
       "L 82.442857 107.498357 \n",
       "\" style=\"fill:none;stroke:#000000;stroke-linecap:square;stroke-linejoin:miter;stroke-width:0.8;\"/>\n",
       "   </g>\n",
       "   <g id=\"patch_6\">\n",
       "    <path d=\"M 10.7 35.7555 \n",
       "L 82.442857 35.7555 \n",
       "\" style=\"fill:none;stroke:#000000;stroke-linecap:square;stroke-linejoin:miter;stroke-width:0.8;\"/>\n",
       "   </g>\n",
       "   <g id=\"text_1\">\n",
       "    <!-- dress -->\n",
       "    <g transform=\"translate(30.487679 16.318125)scale(0.12 -0.12)\">\n",
       "     <defs>\n",
       "      <path d=\"M 45.40625 46.390625 \n",
       "L 45.40625 75.984375 \n",
       "L 54.390625 75.984375 \n",
       "L 54.390625 0 \n",
       "L 45.40625 0 \n",
       "L 45.40625 8.203125 \n",
       "Q 42.578125 3.328125 38.25 0.953125 \n",
       "Q 33.9375 -1.421875 27.875 -1.421875 \n",
       "Q 17.96875 -1.421875 11.734375 6.484375 \n",
       "Q 5.515625 14.40625 5.515625 27.296875 \n",
       "Q 5.515625 40.1875 11.734375 48.09375 \n",
       "Q 17.96875 56 27.875 56 \n",
       "Q 33.9375 56 38.25 53.625 \n",
       "Q 42.578125 51.265625 45.40625 46.390625 \n",
       "z\n",
       "M 14.796875 27.296875 \n",
       "Q 14.796875 17.390625 18.875 11.75 \n",
       "Q 22.953125 6.109375 30.078125 6.109375 \n",
       "Q 37.203125 6.109375 41.296875 11.75 \n",
       "Q 45.40625 17.390625 45.40625 27.296875 \n",
       "Q 45.40625 37.203125 41.296875 42.84375 \n",
       "Q 37.203125 48.484375 30.078125 48.484375 \n",
       "Q 22.953125 48.484375 18.875 42.84375 \n",
       "Q 14.796875 37.203125 14.796875 27.296875 \n",
       "z\n",
       "\" id=\"DejaVuSans-100\"/>\n",
       "      <path d=\"M 41.109375 46.296875 \n",
       "Q 39.59375 47.171875 37.8125 47.578125 \n",
       "Q 36.03125 48 33.890625 48 \n",
       "Q 26.265625 48 22.1875 43.046875 \n",
       "Q 18.109375 38.09375 18.109375 28.8125 \n",
       "L 18.109375 0 \n",
       "L 9.078125 0 \n",
       "L 9.078125 54.6875 \n",
       "L 18.109375 54.6875 \n",
       "L 18.109375 46.1875 \n",
       "Q 20.953125 51.171875 25.484375 53.578125 \n",
       "Q 30.03125 56 36.53125 56 \n",
       "Q 37.453125 56 38.578125 55.875 \n",
       "Q 39.703125 55.765625 41.0625 55.515625 \n",
       "z\n",
       "\" id=\"DejaVuSans-114\"/>\n",
       "      <path d=\"M 56.203125 29.59375 \n",
       "L 56.203125 25.203125 \n",
       "L 14.890625 25.203125 \n",
       "Q 15.484375 15.921875 20.484375 11.0625 \n",
       "Q 25.484375 6.203125 34.421875 6.203125 \n",
       "Q 39.59375 6.203125 44.453125 7.46875 \n",
       "Q 49.3125 8.734375 54.109375 11.28125 \n",
       "L 54.109375 2.78125 \n",
       "Q 49.265625 0.734375 44.1875 -0.34375 \n",
       "Q 39.109375 -1.421875 33.890625 -1.421875 \n",
       "Q 20.796875 -1.421875 13.15625 6.1875 \n",
       "Q 5.515625 13.8125 5.515625 26.8125 \n",
       "Q 5.515625 40.234375 12.765625 48.109375 \n",
       "Q 20.015625 56 32.328125 56 \n",
       "Q 43.359375 56 49.78125 48.890625 \n",
       "Q 56.203125 41.796875 56.203125 29.59375 \n",
       "z\n",
       "M 47.21875 32.234375 \n",
       "Q 47.125 39.59375 43.09375 43.984375 \n",
       "Q 39.0625 48.390625 32.421875 48.390625 \n",
       "Q 24.90625 48.390625 20.390625 44.140625 \n",
       "Q 15.875 39.890625 15.1875 32.171875 \n",
       "z\n",
       "\" id=\"DejaVuSans-101\"/>\n",
       "      <path d=\"M 44.28125 53.078125 \n",
       "L 44.28125 44.578125 \n",
       "Q 40.484375 46.53125 36.375 47.5 \n",
       "Q 32.28125 48.484375 27.875 48.484375 \n",
       "Q 21.1875 48.484375 17.84375 46.4375 \n",
       "Q 14.5 44.390625 14.5 40.28125 \n",
       "Q 14.5 37.15625 16.890625 35.375 \n",
       "Q 19.28125 33.59375 26.515625 31.984375 \n",
       "L 29.59375 31.296875 \n",
       "Q 39.15625 29.25 43.1875 25.515625 \n",
       "Q 47.21875 21.78125 47.21875 15.09375 \n",
       "Q 47.21875 7.46875 41.1875 3.015625 \n",
       "Q 35.15625 -1.421875 24.609375 -1.421875 \n",
       "Q 20.21875 -1.421875 15.453125 -0.5625 \n",
       "Q 10.6875 0.296875 5.421875 2 \n",
       "L 5.421875 11.28125 \n",
       "Q 10.40625 8.6875 15.234375 7.390625 \n",
       "Q 20.0625 6.109375 24.8125 6.109375 \n",
       "Q 31.15625 6.109375 34.5625 8.28125 \n",
       "Q 37.984375 10.453125 37.984375 14.40625 \n",
       "Q 37.984375 18.0625 35.515625 20.015625 \n",
       "Q 33.0625 21.96875 24.703125 23.78125 \n",
       "L 21.578125 24.515625 \n",
       "Q 13.234375 26.265625 9.515625 29.90625 \n",
       "Q 5.8125 33.546875 5.8125 39.890625 \n",
       "Q 5.8125 47.609375 11.28125 51.796875 \n",
       "Q 16.75 56 26.8125 56 \n",
       "Q 31.78125 56 36.171875 55.265625 \n",
       "Q 40.578125 54.546875 44.28125 53.078125 \n",
       "z\n",
       "\" id=\"DejaVuSans-115\"/>\n",
       "     </defs>\n",
       "     <use xlink:href=\"#DejaVuSans-100\"/>\n",
       "     <use x=\"63.476562\" xlink:href=\"#DejaVuSans-114\"/>\n",
       "     <use x=\"102.339844\" xlink:href=\"#DejaVuSans-101\"/>\n",
       "     <use x=\"163.863281\" xlink:href=\"#DejaVuSans-115\"/>\n",
       "     <use x=\"215.962891\" xlink:href=\"#DejaVuSans-115\"/>\n",
       "    </g>\n",
       "    <!-- dress -->\n",
       "    <g transform=\"translate(30.487679 29.7555)scale(0.12 -0.12)\">\n",
       "     <use xlink:href=\"#DejaVuSans-100\"/>\n",
       "     <use x=\"63.476562\" xlink:href=\"#DejaVuSans-114\"/>\n",
       "     <use x=\"102.339844\" xlink:href=\"#DejaVuSans-101\"/>\n",
       "     <use x=\"163.863281\" xlink:href=\"#DejaVuSans-115\"/>\n",
       "     <use x=\"215.962891\" xlink:href=\"#DejaVuSans-115\"/>\n",
       "    </g>\n",
       "   </g>\n",
       "  </g>\n",
       "  <g id=\"axes_2\">\n",
       "   <g id=\"patch_7\">\n",
       "    <path d=\"M 96.791429 107.498357 \n",
       "L 168.534286 107.498357 \n",
       "L 168.534286 35.7555 \n",
       "L 96.791429 35.7555 \n",
       "z\n",
       "\" style=\"fill:#ffffff;\"/>\n",
       "   </g>\n",
       "   <g clip-path=\"url(#pf498e5e2ea)\">\n",
       "    <image height=\"72\" id=\"imageb24155bf85\" transform=\"scale(1 -1)translate(0 -72)\" width=\"72\" x=\"96.791429\" xlink:href=\"data:image/png;base64,\n",
       "iVBORw0KGgoAAAANSUhEUgAAAGQAAABkCAYAAABw4pVUAAAFdElEQVR4nO2d32tcRRTH5967m+xuk+6mJptG25qmTTHaWjRQKvogmAdBQSl9EfGliA9980HxTR/65B+g+EeI+CRFCCJoUSqmtBirNiRpBPP75/68O/f6NjNndLZrZDNf8XyezuTM3kz47jlnMnfm3mAquJwKILZfv6jstaeo78wnK8qWv861vU76zHllL754iPjisZqyT7/x436G2TVC3wNgKCwIGCwIGBnfA6i9coG0p975RtnXyreJ7/Gtq8o+fq19DVl9r6HsG09/THxbSaLsS1ffJb7yR98+YMTdhSMEDBYEDO8pK//596Q98/YxZd8buEF89aFEdMr2pp7q3pf0ezcfDyq7uBB3fM2DgCMEDBYEDBYEDO81xKYnbCm7ktLhnTr7e8fXOXtS903SgPgOhXpK3LveEEhwhIDBgoCBl7IiqezdpIf4pso/K3ta0BVcm8nSorKlCJz9gliStu+lb44QMFgQMFgQMOBqSGhk8XXZR3yvFfXdvWnxXNvrTPXfUXacRsQXea8UbjhCwGBBwIBLWc8fuavsepolvhOZPru7k0czVWXPtejnwkCvGqdZms58wxECBgsCBgsCBlwNaSRG3fgX6X03cX/XIqFrSLRTJz5pdz5gOELAYEHAYEHAgKshS80BZRdCejdPppsdX2eip6DsjTrdrWL+f5PcW/inQ+wqHCFgsCBgwKWskZ4tZfdHNeKLgv19f+wlmBfyenL7YYM3OTBtYEHAYEHAgKshbxV/UfZnlRFnv2i4TH/Qav19R/HXGiJTrA3WJhwhYLAgYMClrD0jndSTrLNfkM+RdrKy5uwbp3B/phOOEDBYEDBYEDD+O8nVIs3Q24lBv3tHil2L9rsEcxDgjux/CgsCBlzKKkf63Me2LLg7BtaZj8PulCXbfe9CaydF4nebA0cIGCwIGCwIGN5rSPTQEaev3dlAYU17Rexe7a0kve7LjB4n7dbcvPt3HgAcIWCwIGCwIGB4ryHNc6NOX5K2+b5IuvktSNznBqvWeXfiGx8k7R6uIYwJCwKG95S18RidkspUpyL7OLNJPHyYtOuD7rTU7jpr5+nnHr7u7HogcISAwYKAwYKA4b2G1I7S5ZGWccpvpdnv/NzyhTxp1wfd097NmD7KqWHsbNkbx9o0xxECBgsChveUFZ+pkvZcrFNIPqLpZEVWlJ08u018mYSmvqXWnrLtO4Z3mjq9PTG+RMfTyaC7CEcIGCwIGCwIGN5ryMXRedK+1XhE2eYjMIQQYl3qOpFYNSOTobtFlqVeEsmFtDKsSj2dnhqaJb4vROnBg+4iHCFgsCBgeE9ZIzk6fd0yNsdlQ5qGbjf1EbdLp28Rn52WZuonlF0Im8S3k+izJaWITrsFpyzGhAUBgwUBw3sNyQa0TlSNTW3S2uSwYTxd9HLxJvHVrXOEZg2x7xguNOnGBiQ4QsBgQcBgQcDwXkP6Ivp4pI2Wvrtn1xezPV2ZcPqEoI926rX+Rykavu+2x6wR7QmfcISAwYKA4T1lzewcI+3Jon53lL3JYTkoKjsb0vMg0pr2SmMJxt4jnAv0Usr8Hj2fkuGUxZiwIGCwIGB4ryE/3Bwn7Tdf/lrZ15vniM9cYrcfl2HXFPM9U3bfydx9ZX+wNER842JR+IQjBAwWBAzvKas0SzcrHH11V9k16yiaeTRtV9InykXWETfzbuOqNX02X81XmHUfmfYBRwgYLAgYLAgY3mvI8FerpP3k+7o2vDQwQ3y5QE97SyF9UP9QRHeWSOO4yEKLnkc03y2SW8N6DStHCBgsCBjeU5a8+xtpj315RdnRH3RKat7LCuM2TwqysO5dieopnd4mPv2Jjqfjq3YHjhAwWBAwWBAw/gRxbVfcC5Pd7QAAAABJRU5ErkJggg==\" y=\"-35.498357\"/>\n",
       "   </g>\n",
       "   <g id=\"patch_8\">\n",
       "    <path d=\"M 96.791429 107.498357 \n",
       "L 96.791429 35.7555 \n",
       "\" style=\"fill:none;stroke:#000000;stroke-linecap:square;stroke-linejoin:miter;stroke-width:0.8;\"/>\n",
       "   </g>\n",
       "   <g id=\"patch_9\">\n",
       "    <path d=\"M 168.534286 107.498357 \n",
       "L 168.534286 35.7555 \n",
       "\" style=\"fill:none;stroke:#000000;stroke-linecap:square;stroke-linejoin:miter;stroke-width:0.8;\"/>\n",
       "   </g>\n",
       "   <g id=\"patch_10\">\n",
       "    <path d=\"M 96.791429 107.498357 \n",
       "L 168.534286 107.498357 \n",
       "\" style=\"fill:none;stroke:#000000;stroke-linecap:square;stroke-linejoin:miter;stroke-width:0.8;\"/>\n",
       "   </g>\n",
       "   <g id=\"patch_11\">\n",
       "    <path d=\"M 96.791429 35.7555 \n",
       "L 168.534286 35.7555 \n",
       "\" style=\"fill:none;stroke:#000000;stroke-linecap:square;stroke-linejoin:miter;stroke-width:0.8;\"/>\n",
       "   </g>\n",
       "   <g id=\"text_2\">\n",
       "    <!-- trouser -->\n",
       "    <g transform=\"translate(111.221295 16.318125)scale(0.12 -0.12)\">\n",
       "     <defs>\n",
       "      <path d=\"M 18.3125 70.21875 \n",
       "L 18.3125 54.6875 \n",
       "L 36.8125 54.6875 \n",
       "L 36.8125 47.703125 \n",
       "L 18.3125 47.703125 \n",
       "L 18.3125 18.015625 \n",
       "Q 18.3125 11.328125 20.140625 9.421875 \n",
       "Q 21.96875 7.515625 27.59375 7.515625 \n",
       "L 36.8125 7.515625 \n",
       "L 36.8125 0 \n",
       "L 27.59375 0 \n",
       "Q 17.1875 0 13.234375 3.875 \n",
       "Q 9.28125 7.765625 9.28125 18.015625 \n",
       "L 9.28125 47.703125 \n",
       "L 2.6875 47.703125 \n",
       "L 2.6875 54.6875 \n",
       "L 9.28125 54.6875 \n",
       "L 9.28125 70.21875 \n",
       "z\n",
       "\" id=\"DejaVuSans-116\"/>\n",
       "      <path d=\"M 30.609375 48.390625 \n",
       "Q 23.390625 48.390625 19.1875 42.75 \n",
       "Q 14.984375 37.109375 14.984375 27.296875 \n",
       "Q 14.984375 17.484375 19.15625 11.84375 \n",
       "Q 23.34375 6.203125 30.609375 6.203125 \n",
       "Q 37.796875 6.203125 41.984375 11.859375 \n",
       "Q 46.1875 17.53125 46.1875 27.296875 \n",
       "Q 46.1875 37.015625 41.984375 42.703125 \n",
       "Q 37.796875 48.390625 30.609375 48.390625 \n",
       "z\n",
       "M 30.609375 56 \n",
       "Q 42.328125 56 49.015625 48.375 \n",
       "Q 55.71875 40.765625 55.71875 27.296875 \n",
       "Q 55.71875 13.875 49.015625 6.21875 \n",
       "Q 42.328125 -1.421875 30.609375 -1.421875 \n",
       "Q 18.84375 -1.421875 12.171875 6.21875 \n",
       "Q 5.515625 13.875 5.515625 27.296875 \n",
       "Q 5.515625 40.765625 12.171875 48.375 \n",
       "Q 18.84375 56 30.609375 56 \n",
       "z\n",
       "\" id=\"DejaVuSans-111\"/>\n",
       "      <path d=\"M 8.5 21.578125 \n",
       "L 8.5 54.6875 \n",
       "L 17.484375 54.6875 \n",
       "L 17.484375 21.921875 \n",
       "Q 17.484375 14.15625 20.5 10.265625 \n",
       "Q 23.53125 6.390625 29.59375 6.390625 \n",
       "Q 36.859375 6.390625 41.078125 11.03125 \n",
       "Q 45.3125 15.671875 45.3125 23.6875 \n",
       "L 45.3125 54.6875 \n",
       "L 54.296875 54.6875 \n",
       "L 54.296875 0 \n",
       "L 45.3125 0 \n",
       "L 45.3125 8.40625 \n",
       "Q 42.046875 3.421875 37.71875 1 \n",
       "Q 33.40625 -1.421875 27.6875 -1.421875 \n",
       "Q 18.265625 -1.421875 13.375 4.4375 \n",
       "Q 8.5 10.296875 8.5 21.578125 \n",
       "z\n",
       "M 31.109375 56 \n",
       "z\n",
       "\" id=\"DejaVuSans-117\"/>\n",
       "     </defs>\n",
       "     <use xlink:href=\"#DejaVuSans-116\"/>\n",
       "     <use x=\"39.208984\" xlink:href=\"#DejaVuSans-114\"/>\n",
       "     <use x=\"78.072266\" xlink:href=\"#DejaVuSans-111\"/>\n",
       "     <use x=\"139.253906\" xlink:href=\"#DejaVuSans-117\"/>\n",
       "     <use x=\"202.632812\" xlink:href=\"#DejaVuSans-115\"/>\n",
       "     <use x=\"254.732422\" xlink:href=\"#DejaVuSans-101\"/>\n",
       "     <use x=\"316.255859\" xlink:href=\"#DejaVuSans-114\"/>\n",
       "    </g>\n",
       "    <!-- trouser -->\n",
       "    <g transform=\"translate(111.221295 29.7555)scale(0.12 -0.12)\">\n",
       "     <use xlink:href=\"#DejaVuSans-116\"/>\n",
       "     <use x=\"39.208984\" xlink:href=\"#DejaVuSans-114\"/>\n",
       "     <use x=\"78.072266\" xlink:href=\"#DejaVuSans-111\"/>\n",
       "     <use x=\"139.253906\" xlink:href=\"#DejaVuSans-117\"/>\n",
       "     <use x=\"202.632812\" xlink:href=\"#DejaVuSans-115\"/>\n",
       "     <use x=\"254.732422\" xlink:href=\"#DejaVuSans-101\"/>\n",
       "     <use x=\"316.255859\" xlink:href=\"#DejaVuSans-114\"/>\n",
       "    </g>\n",
       "   </g>\n",
       "  </g>\n",
       "  <g id=\"axes_3\">\n",
       "   <g id=\"patch_12\">\n",
       "    <path d=\"M 182.882857 107.498357 \n",
       "L 254.625714 107.498357 \n",
       "L 254.625714 35.7555 \n",
       "L 182.882857 35.7555 \n",
       "z\n",
       "\" style=\"fill:#ffffff;\"/>\n",
       "   </g>\n",
       "   <g clip-path=\"url(#pdf8de68479)\">\n",
       "    <image height=\"72\" id=\"image285e1c9a0f\" transform=\"scale(1 -1)translate(0 -72)\" width=\"72\" x=\"182.882857\" xlink:href=\"data:image/png;base64,\n",
       "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\" y=\"-35.498357\"/>\n",
       "   </g>\n",
       "   <g id=\"patch_13\">\n",
       "    <path d=\"M 182.882857 107.498357 \n",
       "L 182.882857 35.7555 \n",
       "\" style=\"fill:none;stroke:#000000;stroke-linecap:square;stroke-linejoin:miter;stroke-width:0.8;\"/>\n",
       "   </g>\n",
       "   <g id=\"patch_14\">\n",
       "    <path d=\"M 254.625714 107.498357 \n",
       "L 254.625714 35.7555 \n",
       "\" style=\"fill:none;stroke:#000000;stroke-linecap:square;stroke-linejoin:miter;stroke-width:0.8;\"/>\n",
       "   </g>\n",
       "   <g id=\"patch_15\">\n",
       "    <path d=\"M 182.882857 107.498357 \n",
       "L 254.625714 107.498357 \n",
       "\" style=\"fill:none;stroke:#000000;stroke-linecap:square;stroke-linejoin:miter;stroke-width:0.8;\"/>\n",
       "   </g>\n",
       "   <g id=\"patch_16\">\n",
       "    <path d=\"M 182.882857 35.7555 \n",
       "L 254.625714 35.7555 \n",
       "\" style=\"fill:none;stroke:#000000;stroke-linecap:square;stroke-linejoin:miter;stroke-width:0.8;\"/>\n",
       "   </g>\n",
       "   <g id=\"text_3\">\n",
       "    <!-- ankle boot -->\n",
       "    <g transform=\"translate(187.031161 16.318125)scale(0.12 -0.12)\">\n",
       "     <defs>\n",
       "      <path d=\"M 34.28125 27.484375 \n",
       "Q 23.390625 27.484375 19.1875 25 \n",
       "Q 14.984375 22.515625 14.984375 16.5 \n",
       "Q 14.984375 11.71875 18.140625 8.90625 \n",
       "Q 21.296875 6.109375 26.703125 6.109375 \n",
       "Q 34.1875 6.109375 38.703125 11.40625 \n",
       "Q 43.21875 16.703125 43.21875 25.484375 \n",
       "L 43.21875 27.484375 \n",
       "z\n",
       "M 52.203125 31.203125 \n",
       "L 52.203125 0 \n",
       "L 43.21875 0 \n",
       "L 43.21875 8.296875 \n",
       "Q 40.140625 3.328125 35.546875 0.953125 \n",
       "Q 30.953125 -1.421875 24.3125 -1.421875 \n",
       "Q 15.921875 -1.421875 10.953125 3.296875 \n",
       "Q 6 8.015625 6 15.921875 \n",
       "Q 6 25.140625 12.171875 29.828125 \n",
       "Q 18.359375 34.515625 30.609375 34.515625 \n",
       "L 43.21875 34.515625 \n",
       "L 43.21875 35.40625 \n",
       "Q 43.21875 41.609375 39.140625 45 \n",
       "Q 35.0625 48.390625 27.6875 48.390625 \n",
       "Q 23 48.390625 18.546875 47.265625 \n",
       "Q 14.109375 46.140625 10.015625 43.890625 \n",
       "L 10.015625 52.203125 \n",
       "Q 14.9375 54.109375 19.578125 55.046875 \n",
       "Q 24.21875 56 28.609375 56 \n",
       "Q 40.484375 56 46.34375 49.84375 \n",
       "Q 52.203125 43.703125 52.203125 31.203125 \n",
       "z\n",
       "\" id=\"DejaVuSans-97\"/>\n",
       "      <path d=\"M 54.890625 33.015625 \n",
       "L 54.890625 0 \n",
       "L 45.90625 0 \n",
       "L 45.90625 32.71875 \n",
       "Q 45.90625 40.484375 42.875 44.328125 \n",
       "Q 39.84375 48.1875 33.796875 48.1875 \n",
       "Q 26.515625 48.1875 22.3125 43.546875 \n",
       "Q 18.109375 38.921875 18.109375 30.90625 \n",
       "L 18.109375 0 \n",
       "L 9.078125 0 \n",
       "L 9.078125 54.6875 \n",
       "L 18.109375 54.6875 \n",
       "L 18.109375 46.1875 \n",
       "Q 21.34375 51.125 25.703125 53.5625 \n",
       "Q 30.078125 56 35.796875 56 \n",
       "Q 45.21875 56 50.046875 50.171875 \n",
       "Q 54.890625 44.34375 54.890625 33.015625 \n",
       "z\n",
       "\" id=\"DejaVuSans-110\"/>\n",
       "      <path d=\"M 9.078125 75.984375 \n",
       "L 18.109375 75.984375 \n",
       "L 18.109375 31.109375 \n",
       "L 44.921875 54.6875 \n",
       "L 56.390625 54.6875 \n",
       "L 27.390625 29.109375 \n",
       "L 57.625 0 \n",
       "L 45.90625 0 \n",
       "L 18.109375 26.703125 \n",
       "L 18.109375 0 \n",
       "L 9.078125 0 \n",
       "z\n",
       "\" id=\"DejaVuSans-107\"/>\n",
       "      <path d=\"M 9.421875 75.984375 \n",
       "L 18.40625 75.984375 \n",
       "L 18.40625 0 \n",
       "L 9.421875 0 \n",
       "z\n",
       "\" id=\"DejaVuSans-108\"/>\n",
       "      <path id=\"DejaVuSans-32\"/>\n",
       "      <path d=\"M 48.6875 27.296875 \n",
       "Q 48.6875 37.203125 44.609375 42.84375 \n",
       "Q 40.53125 48.484375 33.40625 48.484375 \n",
       "Q 26.265625 48.484375 22.1875 42.84375 \n",
       "Q 18.109375 37.203125 18.109375 27.296875 \n",
       "Q 18.109375 17.390625 22.1875 11.75 \n",
       "Q 26.265625 6.109375 33.40625 6.109375 \n",
       "Q 40.53125 6.109375 44.609375 11.75 \n",
       "Q 48.6875 17.390625 48.6875 27.296875 \n",
       "z\n",
       "M 18.109375 46.390625 \n",
       "Q 20.953125 51.265625 25.265625 53.625 \n",
       "Q 29.59375 56 35.59375 56 \n",
       "Q 45.5625 56 51.78125 48.09375 \n",
       "Q 58.015625 40.1875 58.015625 27.296875 \n",
       "Q 58.015625 14.40625 51.78125 6.484375 \n",
       "Q 45.5625 -1.421875 35.59375 -1.421875 \n",
       "Q 29.59375 -1.421875 25.265625 0.953125 \n",
       "Q 20.953125 3.328125 18.109375 8.203125 \n",
       "L 18.109375 0 \n",
       "L 9.078125 0 \n",
       "L 9.078125 75.984375 \n",
       "L 18.109375 75.984375 \n",
       "z\n",
       "\" id=\"DejaVuSans-98\"/>\n",
       "     </defs>\n",
       "     <use xlink:href=\"#DejaVuSans-97\"/>\n",
       "     <use x=\"61.279297\" xlink:href=\"#DejaVuSans-110\"/>\n",
       "     <use x=\"124.658203\" xlink:href=\"#DejaVuSans-107\"/>\n",
       "     <use x=\"182.568359\" xlink:href=\"#DejaVuSans-108\"/>\n",
       "     <use x=\"210.351562\" xlink:href=\"#DejaVuSans-101\"/>\n",
       "     <use x=\"271.875\" xlink:href=\"#DejaVuSans-32\"/>\n",
       "     <use x=\"303.662109\" xlink:href=\"#DejaVuSans-98\"/>\n",
       "     <use x=\"367.138672\" xlink:href=\"#DejaVuSans-111\"/>\n",
       "     <use x=\"428.320312\" xlink:href=\"#DejaVuSans-111\"/>\n",
       "     <use x=\"489.501953\" xlink:href=\"#DejaVuSans-116\"/>\n",
       "    </g>\n",
       "    <!-- ankle boot -->\n",
       "    <g transform=\"translate(187.031161 29.7555)scale(0.12 -0.12)\">\n",
       "     <use xlink:href=\"#DejaVuSans-97\"/>\n",
       "     <use x=\"61.279297\" xlink:href=\"#DejaVuSans-110\"/>\n",
       "     <use x=\"124.658203\" xlink:href=\"#DejaVuSans-107\"/>\n",
       "     <use x=\"182.568359\" xlink:href=\"#DejaVuSans-108\"/>\n",
       "     <use x=\"210.351562\" xlink:href=\"#DejaVuSans-101\"/>\n",
       "     <use x=\"271.875\" xlink:href=\"#DejaVuSans-32\"/>\n",
       "     <use x=\"303.662109\" xlink:href=\"#DejaVuSans-98\"/>\n",
       "     <use x=\"367.138672\" xlink:href=\"#DejaVuSans-111\"/>\n",
       "     <use x=\"428.320312\" xlink:href=\"#DejaVuSans-111\"/>\n",
       "     <use x=\"489.501953\" xlink:href=\"#DejaVuSans-116\"/>\n",
       "    </g>\n",
       "   </g>\n",
       "  </g>\n",
       "  <g id=\"axes_4\">\n",
       "   <g id=\"patch_17\">\n",
       "    <path d=\"M 268.974286 107.498357 \n",
       "L 340.717143 107.498357 \n",
       "L 340.717143 35.7555 \n",
       "L 268.974286 35.7555 \n",
       "z\n",
       "\" style=\"fill:#ffffff;\"/>\n",
       "   </g>\n",
       "   <g clip-path=\"url(#p33c8d479b8)\">\n",
       "    <image height=\"72\" id=\"imageeee4f74d9a\" transform=\"scale(1 -1)translate(0 -72)\" width=\"72\" x=\"268.974286\" xlink:href=\"data:image/png;base64,\n",
       "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\" y=\"-35.498357\"/>\n",
       "   </g>\n",
       "   <g id=\"patch_18\">\n",
       "    <path d=\"M 268.974286 107.498357 \n",
       "L 268.974286 35.7555 \n",
       "\" style=\"fill:none;stroke:#000000;stroke-linecap:square;stroke-linejoin:miter;stroke-width:0.8;\"/>\n",
       "   </g>\n",
       "   <g id=\"patch_19\">\n",
       "    <path d=\"M 340.717143 107.498357 \n",
       "L 340.717143 35.7555 \n",
       "\" style=\"fill:none;stroke:#000000;stroke-linecap:square;stroke-linejoin:miter;stroke-width:0.8;\"/>\n",
       "   </g>\n",
       "   <g id=\"patch_20\">\n",
       "    <path d=\"M 268.974286 107.498357 \n",
       "L 340.717143 107.498357 \n",
       "\" style=\"fill:none;stroke:#000000;stroke-linecap:square;stroke-linejoin:miter;stroke-width:0.8;\"/>\n",
       "   </g>\n",
       "   <g id=\"patch_21\">\n",
       "    <path d=\"M 268.974286 35.7555 \n",
       "L 340.717143 35.7555 \n",
       "\" style=\"fill:none;stroke:#000000;stroke-linecap:square;stroke-linejoin:miter;stroke-width:0.8;\"/>\n",
       "   </g>\n",
       "   <g id=\"text_4\">\n",
       "    <!-- coat -->\n",
       "    <g transform=\"translate(291.846339 16.318125)scale(0.12 -0.12)\">\n",
       "     <defs>\n",
       "      <path d=\"M 48.78125 52.59375 \n",
       "L 48.78125 44.1875 \n",
       "Q 44.96875 46.296875 41.140625 47.34375 \n",
       "Q 37.3125 48.390625 33.40625 48.390625 \n",
       "Q 24.65625 48.390625 19.8125 42.84375 \n",
       "Q 14.984375 37.3125 14.984375 27.296875 \n",
       "Q 14.984375 17.28125 19.8125 11.734375 \n",
       "Q 24.65625 6.203125 33.40625 6.203125 \n",
       "Q 37.3125 6.203125 41.140625 7.25 \n",
       "Q 44.96875 8.296875 48.78125 10.40625 \n",
       "L 48.78125 2.09375 \n",
       "Q 45.015625 0.34375 40.984375 -0.53125 \n",
       "Q 36.96875 -1.421875 32.421875 -1.421875 \n",
       "Q 20.0625 -1.421875 12.78125 6.34375 \n",
       "Q 5.515625 14.109375 5.515625 27.296875 \n",
       "Q 5.515625 40.671875 12.859375 48.328125 \n",
       "Q 20.21875 56 33.015625 56 \n",
       "Q 37.15625 56 41.109375 55.140625 \n",
       "Q 45.0625 54.296875 48.78125 52.59375 \n",
       "z\n",
       "\" id=\"DejaVuSans-99\"/>\n",
       "     </defs>\n",
       "     <use xlink:href=\"#DejaVuSans-99\"/>\n",
       "     <use x=\"54.980469\" xlink:href=\"#DejaVuSans-111\"/>\n",
       "     <use x=\"116.162109\" xlink:href=\"#DejaVuSans-97\"/>\n",
       "     <use x=\"177.441406\" xlink:href=\"#DejaVuSans-116\"/>\n",
       "    </g>\n",
       "    <!-- coat -->\n",
       "    <g transform=\"translate(291.846339 29.7555)scale(0.12 -0.12)\">\n",
       "     <use xlink:href=\"#DejaVuSans-99\"/>\n",
       "     <use x=\"54.980469\" xlink:href=\"#DejaVuSans-111\"/>\n",
       "     <use x=\"116.162109\" xlink:href=\"#DejaVuSans-97\"/>\n",
       "     <use x=\"177.441406\" xlink:href=\"#DejaVuSans-116\"/>\n",
       "    </g>\n",
       "   </g>\n",
       "  </g>\n",
       "  <g id=\"axes_5\">\n",
       "   <g id=\"patch_22\">\n",
       "    <path d=\"M 355.065714 107.498357 \n",
       "L 426.808571 107.498357 \n",
       "L 426.808571 35.7555 \n",
       "L 355.065714 35.7555 \n",
       "z\n",
       "\" style=\"fill:#ffffff;\"/>\n",
       "   </g>\n",
       "   <g clip-path=\"url(#p86a109d4b2)\">\n",
       "    <image height=\"72\" id=\"image38c3e90f09\" transform=\"scale(1 -1)translate(0 -72)\" width=\"72\" x=\"355.065714\" xlink:href=\"data:image/png;base64,\n",
       "iVBORw0KGgoAAAANSUhEUgAAAGQAAABkCAYAAABw4pVUAAAGEklEQVR4nO2bXUybVRjH37ct/aLdShkDRsEIaHEY/JhzbC5TJ5kzLhj8vNDE7EKvZ4xZQjTGZAlZcImJoleL8U4Tky2aGWLULTOZxE3dcMAcm46yUopQKKWf9MO787z/lxQnmeG5eH5Xz+H/9u1p/5znnPc5p3qX/nxJE9hgWe8OCIgYwgwxhBliCDPEEGaIIcwQQ5ghhjBDDGGGGMIMMYQZYggzxBBmiCHMEEOYIYYwQwxhhhjCDDGEGWIIM8QQZoghzBBDmCGGMMOm22zwh1I+f0svtFZVQXthX1DFiSb0OefDs3i5LTlqZK2g+eoXVRyf3Ih9s9F9dBf203/WAe3qkaSKLell0DL1HhWnN+H7x1sNfW9PgJaNuKFtydK19gUdNEfc0JfLGdCsZ37VyiEjhBliCDPEEGboKw5b65QLw4d3gmTpnFdxYsYDmme8QsXuKN7SNWualzDd4rU3l1Rc8OC8YMkVVJypcYIWeQTnQve91Ne9gaugVVWkVHxiogO0xZFqw/sXy3dU0zR9mT6I5wb+bxdchn4bvjdN07T0VZ+KW97B+URGCDPEEGbo+5sOQX659r6fGuOVcPEdp2ioL2+0gxZ6mdJSMBAFzWdPQ9tmodRT71wELV2g1Dcca8D7OOg+Ewu47F4+54d244cXVay7XaCV6moodlWgZqU0ZI0lQTOmc03TtKIxpVpMKctJKdQemgVtvpM+V96F95QRwgwxhBliCDP05qPHYA4xLvWcESwr6A9SPSDgi4PmslF5Il9Cn6+E66DtdFHp5O32b0DrHepRcVN9DDR3Bb3ObcuB9mXLd9AeWGhU8SdX9oCWmvSqONCG892e2msqPnEdl8TLOVxaOy/QHOv6G5f6tnT5JXPOQ9+PJ4KPBDJCmCGGMGPFk3r48C4VJ+/E4WTbQGkiv4jL3tomSi92awG08IwP2u9u/1rF/cdfBC0wcFHFT56fAu1+Z0jFvb2vg+b9Ygja+Se2qTj6ED7xO3bTMnQxgRXc7uCwihscC6Ad8P4O7f0n36SGjimr5KHvwF+DS3v9JFUDaj4fBk1GCDPEEGaIIcxYWe29RbpH56B9ei5Y5kpNyxSwPOF3UEni8mftoHl6plX8bOA30L6d2ariwuM4v/wXxj/aQQ0v7iY+3HpDxZk89ttM+tHoqvpakBHCDDGEGXqX5QVIWbqdlrPmAxDFpKn6acC69W4VRx7bBFo8iE+t1S20RD5136egHQodUHE07QXN1hXSbgedlyhN7TMtZcdzVFXIlfDzdzgmof1ezysqLl4aK/t+lkqsmmsl+sqLaayEywhhhhjCDDGEGWte9t4uYgfxIMXsdio5uGtxzupsmFDxmfG7QAv24bWFUTrYkHipE7T+vo9V3Bd6GrS/5mjncdsWnDPMRFMbVJzrrwfNPnh+1deWQ0YIM8QQZoghzFjxHAKUVpleTCcwdKthd9GKO42lbHZNnTNz8A+aQ7orsWxxdO4BaF/oblbxM4O/gPZDrE3FfntKK8dUCg97TyfxuSg67VNxe3MYtLFJep5pHcDtCG0IS+5GZIQwQwxhxvosew3pzuLCQ2xQSlglZU6/sQvaVU9h9fet5kEVfxXDdDaXpVLGfBZ3DP8Mbaa+xbF0UnfPDLTjKep75voG0CwBSoUVdtx5DTw3opVDRggzxBBmiCHMsP37Jf8DxvJzqvyyU3fgaRHj8rnug59A634NDzT/nGxRcYfnJmg/LlPZJXI6AJrDQX3LbsblaiyBZfTMkmGrwm6a76ZofskWV/lBjAkZIcwQQ5ixPinLiOmJH5a6BdMTroH5V7GCu9d9DNqjhp2/4+HdoGWPUGW28ftzoBl393I72kBL1WHKMv78O9mMhyW8tfST6qUx/C3LasgIYYYYwgwxhBnrvmO4Yg4xYi6dGK81acbD1ZqmaQ1HxlUc3YmHnTkjI4QZYggz1j9lCYCMEGaIIcwQQ5ghhjBDDGGGGMIMMYQZYggzxBBmiCHMEEOYIYYwQwxhhhjCDDGEGWIIM8QQZoghzBBDmCGGMEMMYYYYwgwxhBliCDPEEGaIIcwQQ5ghhjDjH7nrhXAS4g/qAAAAAElFTkSuQmCC\" y=\"-35.498357\"/>\n",
       "   </g>\n",
       "   <g id=\"patch_23\">\n",
       "    <path d=\"M 355.065714 107.498357 \n",
       "L 355.065714 35.7555 \n",
       "\" style=\"fill:none;stroke:#000000;stroke-linecap:square;stroke-linejoin:miter;stroke-width:0.8;\"/>\n",
       "   </g>\n",
       "   <g id=\"patch_24\">\n",
       "    <path d=\"M 426.808571 107.498357 \n",
       "L 426.808571 35.7555 \n",
       "\" style=\"fill:none;stroke:#000000;stroke-linecap:square;stroke-linejoin:miter;stroke-width:0.8;\"/>\n",
       "   </g>\n",
       "   <g id=\"patch_25\">\n",
       "    <path d=\"M 355.065714 107.498357 \n",
       "L 426.808571 107.498357 \n",
       "\" style=\"fill:none;stroke:#000000;stroke-linecap:square;stroke-linejoin:miter;stroke-width:0.8;\"/>\n",
       "   </g>\n",
       "   <g id=\"patch_26\">\n",
       "    <path d=\"M 355.065714 35.7555 \n",
       "L 426.808571 35.7555 \n",
       "\" style=\"fill:none;stroke:#000000;stroke-linecap:square;stroke-linejoin:miter;stroke-width:0.8;\"/>\n",
       "   </g>\n",
       "   <g id=\"text_5\">\n",
       "    <!-- sandal -->\n",
       "    <g transform=\"translate(371.17933 16.318125)scale(0.12 -0.12)\">\n",
       "     <use xlink:href=\"#DejaVuSans-115\"/>\n",
       "     <use x=\"52.099609\" xlink:href=\"#DejaVuSans-97\"/>\n",
       "     <use x=\"113.378906\" xlink:href=\"#DejaVuSans-110\"/>\n",
       "     <use x=\"176.757812\" xlink:href=\"#DejaVuSans-100\"/>\n",
       "     <use x=\"240.234375\" xlink:href=\"#DejaVuSans-97\"/>\n",
       "     <use x=\"301.513672\" xlink:href=\"#DejaVuSans-108\"/>\n",
       "    </g>\n",
       "    <!-- sandal -->\n",
       "    <g transform=\"translate(371.17933 29.7555)scale(0.12 -0.12)\">\n",
       "     <use xlink:href=\"#DejaVuSans-115\"/>\n",
       "     <use x=\"52.099609\" xlink:href=\"#DejaVuSans-97\"/>\n",
       "     <use x=\"113.378906\" xlink:href=\"#DejaVuSans-110\"/>\n",
       "     <use x=\"176.757812\" xlink:href=\"#DejaVuSans-100\"/>\n",
       "     <use x=\"240.234375\" xlink:href=\"#DejaVuSans-97\"/>\n",
       "     <use x=\"301.513672\" xlink:href=\"#DejaVuSans-108\"/>\n",
       "    </g>\n",
       "   </g>\n",
       "  </g>\n",
       "  <g id=\"axes_6\">\n",
       "   <g id=\"patch_27\">\n",
       "    <path d=\"M 441.157143 107.498357 \n",
       "L 512.9 107.498357 \n",
       "L 512.9 35.7555 \n",
       "L 441.157143 35.7555 \n",
       "z\n",
       "\" style=\"fill:#ffffff;\"/>\n",
       "   </g>\n",
       "   <g clip-path=\"url(#p501c2530e6)\">\n",
       "    <image height=\"72\" id=\"imaged21accb5af\" transform=\"scale(1 -1)translate(0 -72)\" width=\"72\" x=\"441.157143\" xlink:href=\"data:image/png;base64,\n",
       "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\" y=\"-35.498357\"/>\n",
       "   </g>\n",
       "   <g id=\"patch_28\">\n",
       "    <path d=\"M 441.157143 107.498357 \n",
       "L 441.157143 35.7555 \n",
       "\" style=\"fill:none;stroke:#000000;stroke-linecap:square;stroke-linejoin:miter;stroke-width:0.8;\"/>\n",
       "   </g>\n",
       "   <g id=\"patch_29\">\n",
       "    <path d=\"M 512.9 107.498357 \n",
       "L 512.9 35.7555 \n",
       "\" style=\"fill:none;stroke:#000000;stroke-linecap:square;stroke-linejoin:miter;stroke-width:0.8;\"/>\n",
       "   </g>\n",
       "   <g id=\"patch_30\">\n",
       "    <path d=\"M 441.157143 107.498357 \n",
       "L 512.9 107.498357 \n",
       "\" style=\"fill:none;stroke:#000000;stroke-linecap:square;stroke-linejoin:miter;stroke-width:0.8;\"/>\n",
       "   </g>\n",
       "   <g id=\"patch_31\">\n",
       "    <path d=\"M 441.157143 35.7555 \n",
       "L 512.9 35.7555 \n",
       "\" style=\"fill:none;stroke:#000000;stroke-linecap:square;stroke-linejoin:miter;stroke-width:0.8;\"/>\n",
       "   </g>\n",
       "   <g id=\"text_6\">\n",
       "    <!-- sneaker -->\n",
       "    <g transform=\"translate(453.316384 16.318125)scale(0.12 -0.12)\">\n",
       "     <use xlink:href=\"#DejaVuSans-115\"/>\n",
       "     <use x=\"52.099609\" xlink:href=\"#DejaVuSans-110\"/>\n",
       "     <use x=\"115.478516\" xlink:href=\"#DejaVuSans-101\"/>\n",
       "     <use x=\"177.001953\" xlink:href=\"#DejaVuSans-97\"/>\n",
       "     <use x=\"238.28125\" xlink:href=\"#DejaVuSans-107\"/>\n",
       "     <use x=\"292.566406\" xlink:href=\"#DejaVuSans-101\"/>\n",
       "     <use x=\"354.089844\" xlink:href=\"#DejaVuSans-114\"/>\n",
       "    </g>\n",
       "    <!-- sneaker -->\n",
       "    <g transform=\"translate(453.316384 29.7555)scale(0.12 -0.12)\">\n",
       "     <use xlink:href=\"#DejaVuSans-115\"/>\n",
       "     <use x=\"52.099609\" xlink:href=\"#DejaVuSans-110\"/>\n",
       "     <use x=\"115.478516\" xlink:href=\"#DejaVuSans-101\"/>\n",
       "     <use x=\"177.001953\" xlink:href=\"#DejaVuSans-97\"/>\n",
       "     <use x=\"238.28125\" xlink:href=\"#DejaVuSans-107\"/>\n",
       "     <use x=\"292.566406\" xlink:href=\"#DejaVuSans-101\"/>\n",
       "     <use x=\"354.089844\" xlink:href=\"#DejaVuSans-114\"/>\n",
       "    </g>\n",
       "   </g>\n",
       "  </g>\n",
       " </g>\n",
       " <defs>\n",
       "  <clipPath id=\"p95dc2abd27\">\n",
       "   <rect height=\"71.742857\" width=\"71.742857\" x=\"10.7\" y=\"35.7555\"/>\n",
       "  </clipPath>\n",
       "  <clipPath id=\"pf498e5e2ea\">\n",
       "   <rect height=\"71.742857\" width=\"71.742857\" x=\"96.791429\" y=\"35.7555\"/>\n",
       "  </clipPath>\n",
       "  <clipPath id=\"pdf8de68479\">\n",
       "   <rect height=\"71.742857\" width=\"71.742857\" x=\"182.882857\" y=\"35.7555\"/>\n",
       "  </clipPath>\n",
       "  <clipPath id=\"p33c8d479b8\">\n",
       "   <rect height=\"71.742857\" width=\"71.742857\" x=\"268.974286\" y=\"35.7555\"/>\n",
       "  </clipPath>\n",
       "  <clipPath id=\"p86a109d4b2\">\n",
       "   <rect height=\"71.742857\" width=\"71.742857\" x=\"355.065714\" y=\"35.7555\"/>\n",
       "  </clipPath>\n",
       "  <clipPath id=\"p501c2530e6\">\n",
       "   <rect height=\"71.742857\" width=\"71.742857\" x=\"441.157143\" y=\"35.7555\"/>\n",
       "  </clipPath>\n",
       " </defs>\n",
       "</svg>\n"
      ],
      "text/plain": [
       "<Figure size 900x150 with 6 Axes>"
      ]
     },
     "metadata": {},
     "output_type": "display_data"
    }
   ],
   "source": [
    "def predict_ch3(net, test_iter, n=6):  #@save\n",
    "    \"\"\"预测标签（定义见第3章）\"\"\"\n",
    "    for X, y in test_iter:\n",
    "        break\n",
    "    trues = d2l.get_fashion_mnist_labels(y)\n",
    "    preds = d2l.get_fashion_mnist_labels(net(X,W,b).argmax(axis=1))\n",
    "    titles = [true +'\\n' + pred for true, pred in zip(trues, preds)]\n",
    "    d2l.show_images(\n",
    "        X[0:n].reshape((n, 28, 28)), 1, n, titles=titles[0:n])\n",
    "\n",
    "predict_ch3(net, test_iter)"
   ]
  },
  {
   "cell_type": "markdown",
   "id": "1967992b",
   "metadata": {
    "origin_pos": 58
   },
   "source": [
    "## 小结\n",
    "\n",
    "* 借助softmax回归，我们可以训练多分类的模型。\n",
    "* 训练softmax回归循环模型与训练线性回归模型非常相似：先读取数据，再定义模型和损失函数，然后使用优化算法训练模型。大多数常见的深度学习模型都有类似的训练过程。\n"
   ]
  },
  {
   "cell_type": "markdown",
   "id": "ac0c774f-f6c1-49d4-9e71-a865070d2d02",
   "metadata": {},
   "source": [
    "## 练习\n",
    "\n",
    "1. 本节直接实现了基于数学定义softmax运算的`softmax`函数。这可能会导致什么问题？提示：尝试计算$\\exp(50)$的大小。\n",
    "1. 本节中的函数`cross_entropy`是根据交叉熵损失函数的定义实现的。它可能有什么问题？提示：考虑对数的定义域。\n",
    "1. 请想一个解决方案来解决上述两个问题。\n",
    "1. 返回概率最大的分类标签总是最优解吗？例如，医疗诊断场景下可以这样做吗？\n",
    "1. 假设我们使用softmax回归来预测下一个单词，可选取的单词数目过多可能会带来哪些问题?"
   ]
  },
  {
   "cell_type": "code",
   "execution_count": null,
   "id": "4f4d8d94",
   "metadata": {},
   "outputs": [],
   "source": [
    "prompt分类"
   ]
  },
  {
   "cell_type": "code",
   "execution_count": null,
   "id": "400358e3",
   "metadata": {},
   "outputs": [],
   "source": [
    "今天的天气很[MASK]"
   ]
  },
  {
   "cell_type": "code",
   "execution_count": null,
   "id": "5f3899ba",
   "metadata": {},
   "outputs": [],
   "source": [
    "好，坏，差，行"
   ]
  },
  {
   "cell_type": "code",
   "execution_count": 97,
   "id": "54994189-90ee-4812-a2a7-ae047b448e19",
   "metadata": {
    "tags": []
   },
   "outputs": [
    {
     "data": {
      "text/plain": [
       "5.184705528587072e+21"
      ]
     },
     "execution_count": 97,
     "metadata": {},
     "output_type": "execute_result"
    }
   ],
   "source": [
    "from math import exp\n",
    "exp(50)"
   ]
  },
  {
   "cell_type": "code",
   "execution_count": 98,
   "id": "df2c15bb-1d9e-46c2-9bf3-6410fc1aace6",
   "metadata": {
    "tags": []
   },
   "outputs": [
    {
     "data": {
      "text/plain": [
       "5.184705528587072e+21"
      ]
     },
     "execution_count": 98,
     "metadata": {},
     "output_type": "execute_result"
    }
   ],
   "source": [
    "import numpy as np\n",
    "np.exp(50)"
   ]
  },
  {
   "cell_type": "markdown",
   "id": "d590c829-1ae0-4bfe-a8c5-b4f84df795b3",
   "metadata": {},
   "source": [
    "1. 由于指数函数的值域是$(0,\\infty)$，因此可能会出现数值上溢的问题。这就是说，由于$\\exp(50)$的结果非常大，它可能超出计算机所能表示的范围，从而被近似为无穷大（inf）。这会带来一些问题，例如在反向传播时可能会出现NaN（不是数字）的情况。解决这个问题的一种常用技巧是，在计算softmax之前，先从所有输入中减去输入中的最大值。这样可以确保指数函数的输入不会太大而导致数值上溢。\n",
    "\n",
    "2. 交叉熵损失函数定义了$log$函数。当模型预测概率为0时，$log$函数的值为负无穷。因此，在实践中，我们通常忽略预测概率接近0的样本对损失函数的贡献。这可能会导致模型过度自信，并且在训练期间难以收敛。\n",
    "\n",
    "3. 解决第一个问题的方法是使用稳定版本的softmax运算。具体来说，我们可以先通过减去输入中的最大值来缩放softmax运算的输出。解决第二个问题的方法是使用交叉熵损失函数的平滑版本，例如标签平滑或温和交叉熵。\n",
    "\n",
    "4. 在某些情况下，返回概率最大的分类标签可能不是最优解。例如，在医疗诊断场景下，我们更关心误诊率和漏诊率等错误类型之间的权衡。在这种情况下，我们需要考虑其他评估指标，并根据特定应用程序选择合适的阈值。\n",
    "\n",
    "5. 如果可选取单词数量过多，则需要计算更多参数并增加模型复杂度。此外，在训练期间需要处理更多数据，并且预测时间也会变得更长。"
   ]
  },
  {
   "cell_type": "code",
   "execution_count": 104,
   "id": "0ef4efba-23dc-462d-bca5-321bea3f6b0e",
   "metadata": {},
   "outputs": [
    {
     "data": {
      "text/plain": [
       "\u001b[0;31mSignature:\u001b[0m \u001b[0msoftmax\u001b[0m\u001b[0;34m(\u001b[0m\u001b[0mX\u001b[0m\u001b[0;34m)\u001b[0m\u001b[0;34m\u001b[0m\u001b[0;34m\u001b[0m\u001b[0m\n",
       "\u001b[0;31mDocstring:\u001b[0m <no docstring>\n",
       "\u001b[0;31mSource:\u001b[0m   \n",
       "\u001b[0;32mdef\u001b[0m \u001b[0msoftmax\u001b[0m\u001b[0;34m(\u001b[0m\u001b[0mX\u001b[0m\u001b[0;34m)\u001b[0m\u001b[0;34m:\u001b[0m\u001b[0;34m\u001b[0m\n",
       "\u001b[0;34m\u001b[0m    \u001b[0mX_exp\u001b[0m \u001b[0;34m=\u001b[0m \u001b[0mops\u001b[0m\u001b[0;34m.\u001b[0m\u001b[0mexp\u001b[0m\u001b[0;34m(\u001b[0m\u001b[0mX\u001b[0m\u001b[0;34m)\u001b[0m\u001b[0;34m\u001b[0m\n",
       "\u001b[0;34m\u001b[0m    \u001b[0mpartition\u001b[0m \u001b[0;34m=\u001b[0m \u001b[0mX_exp\u001b[0m\u001b[0;34m.\u001b[0m\u001b[0msum\u001b[0m\u001b[0;34m(\u001b[0m\u001b[0;36m1\u001b[0m\u001b[0;34m,\u001b[0m \u001b[0mkeepdims\u001b[0m\u001b[0;34m=\u001b[0m\u001b[0;32mTrue\u001b[0m\u001b[0;34m)\u001b[0m\u001b[0;34m\u001b[0m\n",
       "\u001b[0;34m\u001b[0m    \u001b[0;32mreturn\u001b[0m \u001b[0mX_exp\u001b[0m \u001b[0;34m/\u001b[0m \u001b[0mpartition\u001b[0m  \u001b[0;31m# 这里应用了广播机制\u001b[0m\u001b[0;34m\u001b[0m\u001b[0;34m\u001b[0m\u001b[0m\n",
       "\u001b[0;31mFile:\u001b[0m      /tmp/ipykernel_649718/2081171596.py\n",
       "\u001b[0;31mType:\u001b[0m      function"
      ]
     },
     "metadata": {},
     "output_type": "display_data"
    }
   ],
   "source": [
    "??softmax"
   ]
  },
  {
   "cell_type": "code",
   "execution_count": 119,
   "id": "0cf12373-4b55-4ba1-b30d-445d4ea8bf86",
   "metadata": {
    "tags": []
   },
   "outputs": [
    {
     "data": {
      "text/plain": [
       "Tensor(shape=[1, 3], dtype=Float32, value=\n",
       "[[ 0.00000000e+00,             nan,  0.00000000e+00]])"
      ]
     },
     "execution_count": 119,
     "metadata": {},
     "output_type": "execute_result"
    }
   ],
   "source": [
    "# 第三题：\n",
    "x=ms.Tensor([[9,1e2,1]])\n",
    "softmax(x)"
   ]
  },
  {
   "cell_type": "code",
   "execution_count": 120,
   "id": "13483d6e-cc34-42d1-9bb0-32a62399d260",
   "metadata": {
    "tags": []
   },
   "outputs": [
    {
     "data": {
      "text/plain": [
       "Tensor(shape=[1, 3], dtype=Float32, value=\n",
       "[[ 3.01440319e-40,  1.00000000e+00,  1.00893489e-43]])"
      ]
     },
     "execution_count": 120,
     "metadata": {},
     "output_type": "execute_result"
    }
   ],
   "source": [
    "# 第三题：\n",
    "x=ms.Tensor([[9-1e2,1e2-1e2,1-1e2]])\n",
    "softmax(x)"
   ]
  },
  {
   "cell_type": "markdown",
   "id": "a81f592b",
   "metadata": {
    "origin_pos": 60,
    "tab": [
     "pytorch"
    ]
   },
   "source": [
    "[Discussions](https://discuss.d2l.ai/t/1789)\n"
   ]
  }
 ],
 "metadata": {
  "kernelspec": {
   "display_name": "MindSpore",
   "language": "python",
   "name": "mindspore"
  },
  "language_info": {
   "codemirror_mode": {
    "name": "ipython",
    "version": 3
   },
   "file_extension": ".py",
   "mimetype": "text/x-python",
   "name": "python",
   "nbconvert_exporter": "python",
   "pygments_lexer": "ipython3",
   "version": "3.9.7"
  }
 },
 "nbformat": 4,
 "nbformat_minor": 5
}
