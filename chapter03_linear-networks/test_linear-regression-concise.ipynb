{
 "cells": [
  {
   "cell_type": "code",
   "execution_count": 5,
   "metadata": {},
   "outputs": [],
   "source": [
    "import numpy as np\n",
    "import mindspore\n",
    "import mindspore.dataset as ds\n",
    "import mindspore.ops as ops\n",
    "from mindspore import Tensor\n",
    "from d2lkewei import mindspore as d2l\n",
    "import mindspore as ms\n",
    "\n",
    "true_w = ms.Tensor([2, -3.4])\n",
    "true_b = 4.2\n",
    "features, labels = d2l.synthetic_data(true_w, true_b, 1000)"
   ]
  },
  {
   "cell_type": "code",
   "execution_count": 6,
   "metadata": {},
   "outputs": [],
   "source": [
    "class SyntheticData():\n",
    "    def __init__(self):\n",
    "        self.features, self.labels = d2l.synthetic_data(true_w, true_b, 1000)\n",
    "\n",
    "    def __getitem__(self, index):\n",
    "        return self.features[index], self.labels[index]\n",
    "    \n",
    "    def __len__(self):\n",
    "        return len(self.labels)\n",
    "\n",
    "def load_array(data_arrays, column_names, batch_size, is_train=True):  \n",
    "    \"\"\"构造一个MindSpore数据迭代器。\"\"\"\n",
    "    dataset = ds.GeneratorDataset(data_arrays, column_names, shuffle=is_train)\n",
    "    dataset = dataset.batch(batch_size)\n",
    "    return dataset\n",
    "\n",
    "batch_size = 10\n",
    "data_iter = SyntheticData()\n",
    "dataset = load_array(data_iter, ['features', 'labels'], batch_size)"
   ]
  },
  {
   "cell_type": "code",
   "execution_count": 7,
   "metadata": {},
   "outputs": [
    {
     "ename": "RuntimeError",
     "evalue": "Exception thrown from user defined Python function in dataset. \n\n------------------------------------------------------------------\n- Python Call Stack: \n------------------------------------------------------------------\nTraceback (most recent call last):\n  File \"/root/anaconda3/envs/MindSpore/lib/python3.9/site-packages/mindspore/dataset/engine/datasets_user_defined.py\", line 99, in _cpp_sampler_fn\n    val = dataset[i]\n  File \"/tmp/ipykernel_628798/2320612087.py\", line 6, in __getitem__\n    return self.features[index], self.labels[index]\n  File \"/root/anaconda3/envs/MindSpore/lib/python3.9/site-packages/mindspore/common/tensor.py\", line 413, in __getitem__\n    out = tensor_operator_registry.get('__getitem__')(self, index)\n  File \"/root/anaconda3/envs/MindSpore/lib/python3.9/site-packages/mindspore/ops/composite/multitype_ops/_compile_utils.py\", line 180, in _tensor_getitem\n    new_index, tensor_update_types, tensor_update_args = getitem_tensor_index_info(\n  File \"/root/anaconda3/envs/MindSpore/lib/python3.9/site-packages/mindspore/ops/operations/_inner_ops.py\", line 2542, in __call__\n    return Tensor_.getitem_index_info(data, index, self.is_ascend)\nIndexError: Only support integers, slices(`:`), ellipsis(`...`), None, bool, tensor, int, list and tuple as index, but got 390 with type <class 'numpy.int64'>\n\n----------------------------------------------------\n- C++ Call Stack: (For framework developers)\n----------------------------------------------------\nmindspore/ccsrc/pybind_api/ir/tensor_index_py.cc:105 CheckGetItemIndex\n\n\n------------------------------------------------------------------\n- Dataset Pipeline Error Message: \n------------------------------------------------------------------\n[ERROR] Execute user Python code failed, check 'Python Call Stack' above.\n\n------------------------------------------------------------------\n- C++ Call Stack: (For framework developers) \n------------------------------------------------------------------\nmindspore/ccsrc/minddata/dataset/engine/datasetops/source/generator_op.cc(247).\n\n\n",
     "output_type": "error",
     "traceback": [
      "\u001b[0;31m---------------------------------------------------------------------------\u001b[0m",
      "\u001b[0;31mRuntimeError\u001b[0m                              Traceback (most recent call last)",
      "Cell \u001b[0;32mIn[7], line 1\u001b[0m\n\u001b[0;32m----> 1\u001b[0m \u001b[38;5;28;43mnext\u001b[39;49m\u001b[43m(\u001b[49m\u001b[38;5;28;43miter\u001b[39;49m\u001b[43m(\u001b[49m\u001b[43mdataset\u001b[49m\u001b[43m)\u001b[49m\u001b[43m)\u001b[49m\n",
      "File \u001b[0;32m~/anaconda3/envs/MindSpore/lib/python3.9/site-packages/mindspore/dataset/engine/iterators.py:145\u001b[0m, in \u001b[0;36mIterator.__next__\u001b[0;34m(self)\u001b[0m\n\u001b[1;32m    142\u001b[0m     \u001b[38;5;28;01mraise\u001b[39;00m \u001b[38;5;167;01mRuntimeError\u001b[39;00m(\u001b[38;5;124m\"\u001b[39m\u001b[38;5;124mIterator does not have a running C++ pipeline.\u001b[39m\u001b[38;5;124m\"\u001b[39m)\n\u001b[1;32m    144\u001b[0m \u001b[38;5;66;03m# Note offload is applied inside _get_next() if applicable since get_next converts to output format\u001b[39;00m\n\u001b[0;32m--> 145\u001b[0m data \u001b[38;5;241m=\u001b[39m \u001b[38;5;28;43mself\u001b[39;49m\u001b[38;5;241;43m.\u001b[39;49m\u001b[43m_get_next\u001b[49m\u001b[43m(\u001b[49m\u001b[43m)\u001b[49m\n\u001b[1;32m    146\u001b[0m \u001b[38;5;28;01mif\u001b[39;00m \u001b[38;5;129;01mnot\u001b[39;00m data:\n\u001b[1;32m    147\u001b[0m     \u001b[38;5;28;01mif\u001b[39;00m \u001b[38;5;28mself\u001b[39m\u001b[38;5;241m.\u001b[39m__index \u001b[38;5;241m==\u001b[39m \u001b[38;5;241m0\u001b[39m:\n",
      "File \u001b[0;32m~/anaconda3/envs/MindSpore/lib/python3.9/site-packages/mindspore/dataset/engine/iterators.py:294\u001b[0m, in \u001b[0;36mTupleIterator._get_next\u001b[0;34m(self)\u001b[0m\n\u001b[1;32m    286\u001b[0m \u001b[38;5;250m\u001b[39m\u001b[38;5;124;03m\"\"\"\u001b[39;00m\n\u001b[1;32m    287\u001b[0m \u001b[38;5;124;03mReturns the next record in the dataset as a list\u001b[39;00m\n\u001b[1;32m    288\u001b[0m \n\u001b[1;32m    289\u001b[0m \u001b[38;5;124;03mReturns:\u001b[39;00m\n\u001b[1;32m    290\u001b[0m \u001b[38;5;124;03m    List, the next record in the dataset.\u001b[39;00m\n\u001b[1;32m    291\u001b[0m \u001b[38;5;124;03m\"\"\"\u001b[39;00m\n\u001b[1;32m    293\u001b[0m \u001b[38;5;28;01mif\u001b[39;00m \u001b[38;5;28mself\u001b[39m\u001b[38;5;241m.\u001b[39moffload_model \u001b[38;5;129;01mis\u001b[39;00m \u001b[38;5;28;01mNone\u001b[39;00m:\n\u001b[0;32m--> 294\u001b[0m     \u001b[38;5;28;01mreturn\u001b[39;00m [\u001b[38;5;28mself\u001b[39m\u001b[38;5;241m.\u001b[39m_transform_md_to_output(t) \u001b[38;5;28;01mfor\u001b[39;00m t \u001b[38;5;129;01min\u001b[39;00m \u001b[38;5;28;43mself\u001b[39;49m\u001b[38;5;241;43m.\u001b[39;49m\u001b[43m_iterator\u001b[49m\u001b[38;5;241;43m.\u001b[39;49m\u001b[43mGetNextAsList\u001b[49m\u001b[43m(\u001b[49m\u001b[43m)\u001b[49m]\n\u001b[1;32m    295\u001b[0m data \u001b[38;5;241m=\u001b[39m [\u001b[38;5;28mself\u001b[39m\u001b[38;5;241m.\u001b[39m_transform_md_to_tensor(t) \u001b[38;5;28;01mfor\u001b[39;00m t \u001b[38;5;129;01min\u001b[39;00m \u001b[38;5;28mself\u001b[39m\u001b[38;5;241m.\u001b[39m_iterator\u001b[38;5;241m.\u001b[39mGetNextAsList()]\n\u001b[1;32m    296\u001b[0m \u001b[38;5;28;01mif\u001b[39;00m data:\n",
      "\u001b[0;31mRuntimeError\u001b[0m: Exception thrown from user defined Python function in dataset. \n\n------------------------------------------------------------------\n- Python Call Stack: \n------------------------------------------------------------------\nTraceback (most recent call last):\n  File \"/root/anaconda3/envs/MindSpore/lib/python3.9/site-packages/mindspore/dataset/engine/datasets_user_defined.py\", line 99, in _cpp_sampler_fn\n    val = dataset[i]\n  File \"/tmp/ipykernel_628798/2320612087.py\", line 6, in __getitem__\n    return self.features[index], self.labels[index]\n  File \"/root/anaconda3/envs/MindSpore/lib/python3.9/site-packages/mindspore/common/tensor.py\", line 413, in __getitem__\n    out = tensor_operator_registry.get('__getitem__')(self, index)\n  File \"/root/anaconda3/envs/MindSpore/lib/python3.9/site-packages/mindspore/ops/composite/multitype_ops/_compile_utils.py\", line 180, in _tensor_getitem\n    new_index, tensor_update_types, tensor_update_args = getitem_tensor_index_info(\n  File \"/root/anaconda3/envs/MindSpore/lib/python3.9/site-packages/mindspore/ops/operations/_inner_ops.py\", line 2542, in __call__\n    return Tensor_.getitem_index_info(data, index, self.is_ascend)\nIndexError: Only support integers, slices(`:`), ellipsis(`...`), None, bool, tensor, int, list and tuple as index, but got 390 with type <class 'numpy.int64'>\n\n----------------------------------------------------\n- C++ Call Stack: (For framework developers)\n----------------------------------------------------\nmindspore/ccsrc/pybind_api/ir/tensor_index_py.cc:105 CheckGetItemIndex\n\n\n------------------------------------------------------------------\n- Dataset Pipeline Error Message: \n------------------------------------------------------------------\n[ERROR] Execute user Python code failed, check 'Python Call Stack' above.\n\n------------------------------------------------------------------\n- C++ Call Stack: (For framework developers) \n------------------------------------------------------------------\nmindspore/ccsrc/minddata/dataset/engine/datasetops/source/generator_op.cc(247).\n\n\n"
     ]
    }
   ],
   "source": [
    "next(iter(dataset))"
   ]
  },
  {
   "cell_type": "code",
   "execution_count": 4,
   "metadata": {},
   "outputs": [],
   "source": [
    "# nn是神经网络的缩写\n",
    "from mindspore import nn\n",
    "from mindspore.common.initializer import initializer, Normal\n",
    "\n",
    "net = nn.SequentialCell([nn.Dense(2, 1)])"
   ]
  },
  {
   "cell_type": "code",
   "execution_count": 5,
   "metadata": {},
   "outputs": [],
   "source": [
    "net[0].weight = initializer(Normal(), net[0].weight.shape, mindspore.float32)\n",
    "net[0].bias = initializer('zero', net[0].bias.shape, mindspore.float32)"
   ]
  },
  {
   "cell_type": "code",
   "execution_count": 6,
   "metadata": {},
   "outputs": [],
   "source": [
    "loss = nn.MSELoss()"
   ]
  },
  {
   "cell_type": "code",
   "execution_count": 7,
   "metadata": {},
   "outputs": [],
   "source": [
    "optimizer = nn.SGD(net.trainable_params(), learning_rate=0.03)"
   ]
  },
  {
   "cell_type": "code",
   "execution_count": 8,
   "metadata": {},
   "outputs": [
    {
     "name": "stdout",
     "output_type": "stream",
     "text": [
      "epoch 1, loss 0.000214\n",
      "epoch 2, loss 0.000108\n",
      "epoch 3, loss 0.000108\n"
     ]
    }
   ],
   "source": [
    "# 构造前向网络\n",
    "def forward_fn(x, y):\n",
    "    y_hat = net(x)\n",
    "    l = loss(y_hat, y)\n",
    "    return l\n",
    "num_epochs = 3\n",
    "for epoch in range(num_epochs):\n",
    "    for X, y in dataset:\n",
    "        grad_fn = mindspore.value_and_grad(forward_fn, grad_position=None, weights=optimizer.parameters)\n",
    "        l, grads = grad_fn(X, y)\n",
    "        optimizer(grads)\n",
    "    l = forward_fn(mindspore.Tensor(data_iter.features), mindspore.Tensor(data_iter.labels))\n",
    "    print(f'epoch {epoch + 1}, loss {l.asnumpy():f}')"
   ]
  },
  {
   "cell_type": "code",
   "execution_count": 9,
   "metadata": {},
   "outputs": [
    {
     "name": "stdout",
     "output_type": "stream",
     "text": [
      "w的估计误差： [Tensor(shape=[], dtype=Float32, value= -0.00017786)\n",
      " Tensor(shape=[], dtype=Float32, value= -0.000656366)]\n",
      "b的估计误差： [-0.00027466]\n"
     ]
    }
   ],
   "source": [
    "w = net[0].weight.data\n",
    "print('w的估计误差：', true_w - w.reshape(true_w.shape))\n",
    "b = net[0].bias.data\n",
    "print('b的估计误差：', true_b - b)"
   ]
  },
  {
   "cell_type": "code",
   "execution_count": null,
   "metadata": {},
   "outputs": [],
   "source": []
  }
 ],
 "metadata": {
  "kernelspec": {
   "display_name": "MindSpore",
   "language": "python",
   "name": "mindspore"
  },
  "language_info": {
   "codemirror_mode": {
    "name": "ipython",
    "version": 3
   },
   "file_extension": ".py",
   "mimetype": "text/x-python",
   "name": "python",
   "nbconvert_exporter": "python",
   "pygments_lexer": "ipython3",
   "version": "3.9.7"
  }
 },
 "nbformat": 4,
 "nbformat_minor": 4
}
