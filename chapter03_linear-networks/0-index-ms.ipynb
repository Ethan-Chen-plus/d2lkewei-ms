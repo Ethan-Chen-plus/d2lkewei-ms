{
 "cells": [
  {
   "cell_type": "markdown",
   "id": "a4c79318",
   "metadata": {
    "origin_pos": 0
   },
   "source": [
    "# 线性神经网络\n",
    ":label:`chap_linear`\n",
    "\n",
    "在介绍深度神经网络之前，我们需要了解神经网络训练的基础知识。\n",
    "本章我们将介绍神经网络的整个训练过程，\n",
    "包括：定义简单的神经网络架构、数据处理、指定损失函数和如何训练模型。\n",
    "为了更容易学习，我们将从经典算法————*线性*神经网络开始，介绍神经网络的基础知识。\n",
    "经典统计学习技术中的线性回归和softmax回归可以视为线性神经网络，\n",
    "这些知识将为本书其他部分中更复杂的技术奠定基础。\n",
    "\n",
    ":begin_tab:toc\n",
    " - [linear-regression](1-linear-regression-ms.ipynb)\n",
    " - [linear-regression-scratch](2-linear-regression-scratch-ms.ipynb)\n",
    " - [linear-regression-concise](3-linear-regression-concise-ms.ipynb)\n",
    " - [softmax-regression](4-softmax-regression-ms.ipynb)\n",
    " - [image-classification-dataset](5-image-classification-dataset-ms.ipynb)\n",
    " - [softmax-regression-scratch](6-softmax-regression-scratch-ms.ipynb)\n",
    " - [softmax-regression-concise](7-softmax-regression-concise-ms.ipynb)\n",
    ":end_tab:\n"
   ]
  },
  {
   "cell_type": "code",
   "execution_count": null,
   "id": "f5071ec1-27ea-4cb3-a101-5c1edc84ec91",
   "metadata": {},
   "outputs": [],
   "source": []
  }
 ],
 "metadata": {
  "kernelspec": {
   "display_name": "Python 3 (ipykernel)",
   "language": "python",
   "name": "python3"
  },
  "language_info": {
   "codemirror_mode": {
    "name": "ipython",
    "version": 3
   },
   "file_extension": ".py",
   "mimetype": "text/x-python",
   "name": "python",
   "nbconvert_exporter": "python",
   "pygments_lexer": "ipython3",
   "version": "3.11.3"
  }
 },
 "nbformat": 4,
 "nbformat_minor": 5
}
