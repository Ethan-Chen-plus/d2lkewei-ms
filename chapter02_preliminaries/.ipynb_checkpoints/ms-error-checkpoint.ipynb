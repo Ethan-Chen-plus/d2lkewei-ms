{
 "cells": [
  {
   "cell_type": "code",
   "execution_count": 2,
   "id": "ed4a38ba-8ca6-46a8-ba46-ec1dc9c1d43d",
   "metadata": {},
   "outputs": [],
   "source": [
    "import mindspore as ms\n",
    "from mindspore import ops, Parameter\n",
    "from copy import deepcopy"
   ]
  },
  {
   "cell_type": "code",
   "execution_count": 3,
   "id": "4ba31790-e2ba-4667-9457-1ca6ad5e6d5d",
   "metadata": {},
   "outputs": [
    {
     "data": {
      "text/plain": [
       "Tensor(shape=[4], dtype=Float32, value= [ 0.00000000e+00,  1.00000000e+00,  2.00000000e+00,  3.00000000e+00])"
      ]
     },
     "execution_count": 3,
     "metadata": {},
     "output_type": "execute_result"
    }
   ],
   "source": [
    "x = ops.arange(4.0)\n",
    "x"
   ]
  },
  {
   "cell_type": "code",
   "execution_count": 5,
   "id": "d01ff977-6f47-4c05-9155-e25c37e3d168",
   "metadata": {},
   "outputs": [
    {
     "data": {
      "text/plain": [
       "Tensor(shape=[], dtype=Float32, value= 28)"
      ]
     },
     "execution_count": 5,
     "metadata": {},
     "output_type": "execute_result"
    }
   ],
   "source": [
    "y = 2 * ops.tensor_dot(x, x, axes=1)\n",
    "y"
   ]
  },
  {
   "cell_type": "markdown",
   "id": "d8068bec-a2ca-44b6-ba8c-6abf51af24ef",
   "metadata": {},
   "source": [
    "问题1：设置是否求梯度，不起实际作用"
   ]
  },
  {
   "cell_type": "code",
   "execution_count": 7,
   "id": "bbd7661b-f978-4755-9fac-27188bb5bd49",
   "metadata": {},
   "outputs": [
    {
     "data": {
      "text/plain": [
       "Tensor(shape=[4], dtype=Bool, value= [False, False, False, False])"
      ]
     },
     "execution_count": 7,
     "metadata": {},
     "output_type": "execute_result"
    }
   ],
   "source": [
    "def func(x):\n",
    "    y = Parameter(x * x)\n",
    "    u = deepcopy(y)\n",
    "    u.requires_grad = False\n",
    "    z = u * x\n",
    "    z = z.sum()\n",
    "    return z\n",
    "grad_fn = ms.grad(func, grad_position=0)\n",
    "grad_x = grad_fn(x)\n",
    "grad_x == y"
   ]
  },
  {
   "cell_type": "code",
   "execution_count": 9,
   "id": "30f3d793-9b48-4798-a091-5678edd6e2e1",
   "metadata": {},
   "outputs": [
    {
     "data": {
      "text/plain": [
       "Tensor(shape=[4], dtype=Bool, value= [False, False, False, False])"
      ]
     },
     "execution_count": 9,
     "metadata": {},
     "output_type": "execute_result"
    }
   ],
   "source": [
    "def func(x):\n",
    "    y = Parameter(x * x)\n",
    "    u = deepcopy(y)\n",
    "    u.requires_grad = True\n",
    "    # u.requires_grad = False\n",
    "    z = u * x\n",
    "    z = z.sum()\n",
    "    return z\n",
    "grad_fn = ms.grad(func, grad_position=0)\n",
    "grad_x = grad_fn(x)\n",
    "grad_x == y"
   ]
  },
  {
   "cell_type": "markdown",
   "id": "0b98aacf-f4f8-42db-b414-02f5f3944312",
   "metadata": {},
   "source": [
    "根据求导法则，$z=u*x=x*x*x$，如果设置u不用求导，那么dz/dx=x；如果设置u需要求导，那么z=$x^3$,$dz/dx=3x^2$\n",
    "但是通过代码，我们发现结果对不上理论分析。"
   ]
  },
  {
   "cell_type": "code",
   "execution_count": null,
   "id": "9e1a1471-04c7-49d6-bc18-109055e2a0fe",
   "metadata": {},
   "outputs": [],
   "source": []
  }
 ],
 "metadata": {
  "kernelspec": {
   "display_name": "MindSpore",
   "language": "python",
   "name": "mindspore"
  },
  "language_info": {
   "codemirror_mode": {
    "name": "ipython",
    "version": 3
   },
   "file_extension": ".py",
   "mimetype": "text/x-python",
   "name": "python",
   "nbconvert_exporter": "python",
   "pygments_lexer": "ipython3",
   "version": "3.9.7"
  }
 },
 "nbformat": 4,
 "nbformat_minor": 5
}
